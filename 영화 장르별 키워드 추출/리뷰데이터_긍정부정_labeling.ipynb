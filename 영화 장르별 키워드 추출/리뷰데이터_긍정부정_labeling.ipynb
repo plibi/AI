{
  "nbformat": 4,
  "nbformat_minor": 0,
  "metadata": {
    "colab": {
      "name": "리뷰데이터 긍정부정 labeling.ipynb",
      "provenance": [],
      "collapsed_sections": []
    },
    "kernelspec": {
      "name": "python3",
      "display_name": "Python 3"
    },
    "language_info": {
      "name": "python"
    }
  },
  "cells": [
    {
      "cell_type": "markdown",
      "source": [
        "# Movie Review Sentiment Labeling\n",
        " - 변수이름짓기\n"
      ],
      "metadata": {
        "id": "Z1pj9yrOnrhL"
      }
    },
    {
      "cell_type": "code",
      "execution_count": 1,
      "metadata": {
        "colab": {
          "base_uri": "https://localhost:8080/"
        },
        "id": "6uYweR-nnnVt",
        "outputId": "a3798f72-ddd6-4ef0-fe04-38a84119246b"
      },
      "outputs": [
        {
          "output_type": "stream",
          "name": "stdout",
          "text": [
            "['반지의 제왕: 왕의 귀환', '해리 포터와 마법사의 돌', '반지의 제왕: 두 개의 탑', '반지의 제왕: 반지 원정대', '천녀유혼', '가위손', '캐리비안의 해적 - 블랙 펄의 저주', '조 블랙의 사랑', '온워드: 단 하루의 기적', '천녀유혼 3 - 도도도', '벤자민 버튼의 시간은 거꾸로 간다', '천녀유혼 2 - 인간도', '캐리비안의 해적 - 망자의 함', '해리 포터와 비밀의 방', '팀 버튼의 크리스마스 악몽', '스타더스트', '드라큐라', '찰리와 초콜릿 공장', '미녀와 야수', '해리 포터와 아즈카반의 죄수', '스트레인저 댄 픽션', '당신, 거기 있어줄래요', '큐브', '나니아 연대기 - 캐스피언 왕자', '천국의 우편배달부', '13층', '천년여우 여우비', '스파이더위크가의 비밀', '록키 호러 픽쳐 쇼', '호빗: 다섯 군대 전투', '호빗 : 스마우그의 폐허', '아더와 미니모이: 제1탄 비밀 원정대의 출정', '미스 페레그린과 이상한 아이들의 집', '호빗 : 뜻밖의 여정', '존 말코비치 되기', '오늘 밤, 로맨스 극장에서', '불청객', '헝거게임: 캣칭 파이어', '비밀', '판의 미로 - 오필리아와 세 개의 열쇠', '내안의 그놈', '말레피센트', '인랑', '캐리비안의 해적 - 세상의 끝에서', '경계선', '슬리피 할로우', '신비한 동물사전', '메리 포핀스 리턴즈', '케이트 앤 레오폴드', '환생']\n",
            "['반지의 제왕: 왕의 귀환', '해리 포터와 마법사의 돌', '반지의 제왕: 두 개의 탑', '반지의 제왕: 반지 원정대', '천녀유혼', '가위손', '캐리비안의 해적 - 블랙 펄의 저주', '조 블랙의 사랑', '온워드: 단 하루의 기적', '천녀유혼 3 - 도도도', '벤자민 버튼의 시간은 거꾸로 간다', '천녀유혼 2 - 인간도', '캐리비안의 해적 - 망자의 함', '해리 포터와 비밀의 방', '팀 버튼의 크리스마스 악몽', '스타더스트', '드라큐라', '찰리와 초콜릿 공장', '미녀와 야수', '해리 포터와 아즈카반의 죄수', '스트레인저 댄 픽션', '당신, 거기 있어줄래요', '큐브', '나니아 연대기 - 캐스피언 왕자', '천국의 우편배달부', '13층', '천년여우 여우비', '스파이더위크가의 비밀', '록키 호러 픽쳐 쇼', '호빗: 다섯 군대 전투', '호빗 : 스마우그의 폐허', '아더와 미니모이: 제1탄 비밀 원정대의 출정', '미스 페레그린과 이상한 아이들의 집', '호빗 : 뜻밖의 여정', '존 말코비치 되기', '오늘 밤, 로맨스 극장에서', '불청객', '헝거게임: 캣칭 파이어', '비밀', '판의 미로 - 오필리아와 세 개의 열쇠', '내안의 그놈', '말레피센트', '인랑', '캐리비안의 해적 - 세상의 끝에서', '경계선', '슬리피 할로우', '신비한 동물사전', '메리 포핀스 리턴즈', '케이트 앤 레오폴드', '환생', '나니아 연대기: 새벽 출정호의 항해', '캐리비안의 해적: 낯선 조류', '해리 포터와 불의 잔', '드라큘라: 전설의 시작', '더 도어', '자투라 - 스페이스 어드벤쳐', '트와일라잇', '신과함께-죄와 벌', '코난 : 암흑의 시대', '헨젤과 그레텔', '신과함께-인과 연', '소년, 천국에 가다', '미녀와 야수', '고스트 스토리', '시간을 달리는 소녀', '화피', '이상한 나라의 앨리스', '비스틀리', '디 워', '헝거게임:모킹제이', '고스톱 살인', '테일 오브 테일즈', '스노우 화이트 앤 더 헌츠맨', '코블러', '이클립스', '세인트 클라우드', '앨리스 : 원더랜드에서 온 소년', '토르: 천둥의 신', '삼총사 3D', '나미야 잡화점의 기적', '섀도우 헌터스 : 뼈의 도시', '혼스', '헝거게임 : 판엠의 불꽃', '언더월드 - 라이칸의 반란', '호두까기 인형과 4개의 왕국', '오즈 그레이트 앤드 파워풀', '크림슨 피크', '해리 포터와 불사조 기사단', '말레피센트 2', '해리 포터와 혼혈 왕자', '몬스터 헌트', '뉴 문', '퍼시 잭슨과 번개 도둑', '천녀유혼', '신비한 동물들과 덤블도어의 비밀', '손님', '타이탄', '황금나침반', '번개맨', '잉크하트']\n",
            "['반지의 제왕: 왕의 귀환', '해리 포터와 마법사의 돌', '반지의 제왕: 두 개의 탑', '반지의 제왕: 반지 원정대', '천녀유혼', '가위손', '캐리비안의 해적 - 블랙 펄의 저주', '조 블랙의 사랑', '온워드: 단 하루의 기적', '천녀유혼 3 - 도도도', '벤자민 버튼의 시간은 거꾸로 간다', '천녀유혼 2 - 인간도', '캐리비안의 해적 - 망자의 함', '해리 포터와 비밀의 방', '팀 버튼의 크리스마스 악몽', '스타더스트', '드라큐라', '찰리와 초콜릿 공장', '미녀와 야수', '해리 포터와 아즈카반의 죄수', '스트레인저 댄 픽션', '당신, 거기 있어줄래요', '큐브', '나니아 연대기 - 캐스피언 왕자', '천국의 우편배달부', '13층', '천년여우 여우비', '스파이더위크가의 비밀', '록키 호러 픽쳐 쇼', '호빗: 다섯 군대 전투', '호빗 : 스마우그의 폐허', '아더와 미니모이: 제1탄 비밀 원정대의 출정', '미스 페레그린과 이상한 아이들의 집', '호빗 : 뜻밖의 여정', '존 말코비치 되기', '오늘 밤, 로맨스 극장에서', '불청객', '헝거게임: 캣칭 파이어', '비밀', '판의 미로 - 오필리아와 세 개의 열쇠', '내안의 그놈', '말레피센트', '인랑', '캐리비안의 해적 - 세상의 끝에서', '경계선', '슬리피 할로우', '신비한 동물사전', '메리 포핀스 리턴즈', '케이트 앤 레오폴드', '환생', '나니아 연대기: 새벽 출정호의 항해', '캐리비안의 해적: 낯선 조류', '해리 포터와 불의 잔', '드라큘라: 전설의 시작', '더 도어', '자투라 - 스페이스 어드벤쳐', '트와일라잇', '신과함께-죄와 벌', '코난 : 암흑의 시대', '헨젤과 그레텔', '신과함께-인과 연', '소년, 천국에 가다', '미녀와 야수', '고스트 스토리', '시간을 달리는 소녀', '화피', '이상한 나라의 앨리스', '비스틀리', '디 워', '헝거게임:모킹제이', '고스톱 살인', '테일 오브 테일즈', '스노우 화이트 앤 더 헌츠맨', '코블러', '이클립스', '세인트 클라우드', '앨리스 : 원더랜드에서 온 소년', '토르: 천둥의 신', '삼총사 3D', '나미야 잡화점의 기적', '섀도우 헌터스 : 뼈의 도시', '혼스', '헝거게임 : 판엠의 불꽃', '언더월드 - 라이칸의 반란', '호두까기 인형과 4개의 왕국', '오즈 그레이트 앤드 파워풀', '크림슨 피크', '해리 포터와 불사조 기사단', '말레피센트 2', '해리 포터와 혼혈 왕자', '몬스터 헌트', '뉴 문', '퍼시 잭슨과 번개 도둑', '천녀유혼', '신비한 동물들과 덤블도어의 비밀', '손님', '타이탄', '황금나침반', '번개맨', '잉크하트', '벽 속에 숨은 마법시계', '파르나서스 박사의 상상극장', '문프린세스: 문에이커의 비밀', '울브스', '스케어리 스토리: 어둠의 속삭임', '중천', '레이디 인 더 워터', '숲속으로', '7번째 아들', '봉신연의: 영웅의 귀환', '평화의 시대', '무극', '라스트 에어벤더']\n",
            "['반지의 제왕: 왕의 귀환', '해리 포터와 마법사의 돌', '반지의 제왕: 두 개의 탑', '반지의 제왕: 반지 원정대', '천녀유혼', '가위손', '캐리비안의 해적 - 블랙 펄의 저주', '조 블랙의 사랑', '온워드: 단 하루의 기적', '천녀유혼 3 - 도도도', '벤자민 버튼의 시간은 거꾸로 간다', '천녀유혼 2 - 인간도', '캐리비안의 해적 - 망자의 함', '해리 포터와 비밀의 방', '팀 버튼의 크리스마스 악몽', '스타더스트', '드라큐라', '찰리와 초콜릿 공장', '미녀와 야수', '해리 포터와 아즈카반의 죄수', '스트레인저 댄 픽션', '당신, 거기 있어줄래요', '큐브', '나니아 연대기 - 캐스피언 왕자', '천국의 우편배달부', '13층', '천년여우 여우비', '스파이더위크가의 비밀', '록키 호러 픽쳐 쇼', '호빗: 다섯 군대 전투', '호빗 : 스마우그의 폐허', '아더와 미니모이: 제1탄 비밀 원정대의 출정', '미스 페레그린과 이상한 아이들의 집', '호빗 : 뜻밖의 여정', '존 말코비치 되기', '오늘 밤, 로맨스 극장에서', '불청객', '헝거게임: 캣칭 파이어', '비밀', '판의 미로 - 오필리아와 세 개의 열쇠', '내안의 그놈', '말레피센트', '인랑', '캐리비안의 해적 - 세상의 끝에서', '경계선', '슬리피 할로우', '신비한 동물사전', '메리 포핀스 리턴즈', '케이트 앤 레오폴드', '환생', '나니아 연대기: 새벽 출정호의 항해', '캐리비안의 해적: 낯선 조류', '해리 포터와 불의 잔', '드라큘라: 전설의 시작', '더 도어', '자투라 - 스페이스 어드벤쳐', '트와일라잇', '신과함께-죄와 벌', '코난 : 암흑의 시대', '헨젤과 그레텔', '신과함께-인과 연', '소년, 천국에 가다', '미녀와 야수', '고스트 스토리', '시간을 달리는 소녀', '화피', '이상한 나라의 앨리스', '비스틀리', '디 워', '헝거게임:모킹제이', '고스톱 살인', '테일 오브 테일즈', '스노우 화이트 앤 더 헌츠맨', '코블러', '이클립스', '세인트 클라우드', '앨리스 : 원더랜드에서 온 소년', '토르: 천둥의 신', '삼총사 3D', '나미야 잡화점의 기적', '섀도우 헌터스 : 뼈의 도시', '혼스', '헝거게임 : 판엠의 불꽃', '언더월드 - 라이칸의 반란', '호두까기 인형과 4개의 왕국', '오즈 그레이트 앤드 파워풀', '크림슨 피크', '해리 포터와 불사조 기사단', '말레피센트 2', '해리 포터와 혼혈 왕자', '몬스터 헌트', '뉴 문', '퍼시 잭슨과 번개 도둑', '천녀유혼', '신비한 동물들과 덤블도어의 비밀', '손님', '타이탄', '황금나침반', '번개맨', '잉크하트', '벽 속에 숨은 마법시계', '파르나서스 박사의 상상극장', '문프린세스: 문에이커의 비밀', '울브스', '스케어리 스토리: 어둠의 속삭임', '중천', '레이디 인 더 워터', '숲속으로', '7번째 아들', '봉신연의: 영웅의 귀환', '평화의 시대', '무극', '라스트 에어벤더']\n",
            "{31796: ('반지의 제왕: 왕의 귀환', 9.38, 7302), 30688: ('해리 포터와 마법사의 돌', 9.36, 4329), 31795: ('반지의 제왕: 두 개의 탑', 9.35, 2847), 31794: ('반지의 제왕: 반지 원정대', 9.3, 4158), 10670: ('천녀유혼', 9.29, 1928), 10936: ('가위손', 9.25, 3760), 37148: ('캐리비안의 해적 - 블랙 펄의 저주', 9.06, 3283), 19517: ('조 블랙의 사랑', 9.06, 1159), 187351: ('온워드: 단 하루의 기적', 9.03, 1592), 11572: ('천녀유혼 3 - 도도도', 8.99, 371), 66091: ('벤자민 버튼의 시간은 거꾸로 간다', 8.94, 10803), 10686: ('천녀유혼 2 - 인간도', 8.93, 421), 43678: ('캐리비안의 해적 - 망자의 함', 8.91, 9914), 33930: ('해리 포터와 비밀의 방', 8.89, 1655), 14584: ('팀 버튼의 크리스마스 악몽', 8.87, 1133), 66144: ('스타더스트', 8.81, 4127), 14397: ('드라큐라', 8.8, 563), 39846: ('찰리와 초콜릿 공장', 8.79, 5145), 136872: ('미녀와 야수', 8.78, 17900), 35546: ('해리 포터와 아즈카반의 죄수', 8.75, 3563), 52794: ('스트레인저 댄 픽션', 8.71, 1660), 145292: ('당신, 거기 있어줄래요', 8.71, 7849), 24602: ('큐브', 8.71, 1672), 66143: ('나니아 연대기 - 캐스피언 왕자', 8.62, 3803), 71901: ('천국의 우편배달부', 8.61, 3530), 24831: ('13층', 8.57, 1475), 44044: ('천년여우 여우비', 8.56, 1691), 67366: ('스파이더위크가의 비밀', 8.53, 1554), 18933: ('록키 호러 픽쳐 쇼', 8.52, 413), 97816: ('호빗: 다섯 군대 전투', 8.5, 9006), 74566: ('호빗 : 스마우그의 폐허', 8.49, 5061), 62799: ('아더와 미니모이: 제1탄 비밀 원정대의 출정', 8.48, 584), 129383: ('미스 페레그린과 이상한 아이들의 집', 8.45, 11279), 68073: ('호빗 : 뜻밖의 여정', 8.42, 8538), 27564: ('존 말코비치 되기', 8.41, 909), 170859: ('오늘 밤, 로맨스 극장에서', 8.39, 640), 76791: ('불청객', 8.32, 355), 94170: ('헝거게임: 캣칭 파이어', 8.31, 4605), 31371: ('비밀', 8.29, 1480), 49336: ('판의 미로 - 오필리아와 세 개의 열쇠', 8.25, 7422), 164172: ('내안의 그놈', 8.24, 11824), 92003: ('말레피센트', 8.21, 5106), 29892: ('인랑', 8.21, 397), 43679: ('캐리비안의 해적 - 세상의 끝에서', 8.21, 10161), 175045: ('경계선', 8.21, 347), 28099: ('슬리피 할로우', 8.19, 654), 115642: ('신비한 동물사전', 8.18, 15089), 151151: ('메리 포핀스 리턴즈', 8.17, 1521), 34164: ('케이트 앤 레오폴드', 8.12, 294), 37200: ('환생', 8.1, 359), 49532: ('나니아 연대기: 새벽 출정호의 항해', 8.09, 2639), 51443: ('캐리비안의 해적: 낯선 조류', 8.08, 5393), 37883: ('해리 포터와 불의 잔', 8.04, 4633), 118377: ('드라큘라: 전설의 시작', 8.01, 3946), 71422: ('더 도어', 7.99, 545), 51460: ('자투라 - 스페이스 어드벤쳐', 7.98, 896), 47229: ('트와일라잇', 7.92, 10494), 85579: ('신과함께-죄와 벌', 7.83, 57019), 52463: ('코난 : 암흑의 시대', 7.8, 1536), 65067: ('헨젤과 그레텔', 7.73, 1828), 167697: ('신과함께-인과 연', 7.71, 39876), 38824: ('소년, 천국에 가다', 7.69, 880), 119456: ('미녀와 야수', 7.67, 1459), 158256: ('고스트 스토리', 7.67, 291), 72395: ('시간을 달리는 소녀', 7.62, 420), 45475: ('화피', 7.56, 1301), 50163: ('이상한 나라의 앨리스', 7.55, 5859), 73158: ('비스틀리', 7.54, 1481), 39569: ('디 워', 7.53, 44448), 100644: ('헝거게임:모킹제이', 7.51, 4974), 111629: ('고스톱 살인', 7.49, 364), 139435: ('테일 오브 테일즈', 7.46, 313), 79566: ('스노우 화이트 앤 더 헌츠맨', 7.4, 3956), 118999: ('코블러', 7.4, 853), 71499: ('이클립스', 7.36, 5050), 74306: ('세인트 클라우드', 7.36, 426), 100808: ('앨리스 : 원더랜드에서 온 소년', 7.33, 475), 69989: ('토르: 천둥의 신', 7.32, 4325), 76051: ('삼총사 3D', 7.31, 1220), 159862: ('나미야 잡화점의 기적', 7.31, 2408), 84216: ('섀도우 헌터스 : 뼈의 도시', 7.29, 3657), 90599: ('혼스', 7.26, 867), 79312: ('헝거게임 : 판엠의 불꽃', 7.21, 4440), 68071: ('언더월드 - 라이칸의 반란', 7.14, 455), 158622: ('호두까기 인형과 4개의 왕국', 7.14, 1554), 86866: ('오즈 그레이트 앤드 파워풀', 7.14, 1201), 111990: ('크림슨 피크', 7.11, 881), 57095: ('해리 포터와 불사조 기사단', 7.04, 7317), 167635: ('말레피센트 2', 7.01, 4318), 67900: ('해리 포터와 혼혈 왕자', 6.98, 10809), 136611: ('몬스터 헌트', 6.91, 347), 51918: ('뉴 문', 6.59, 9557), 69958: ('퍼시 잭슨과 번개 도둑', 6.49, 6181), 76459: ('천녀유혼', 6.49, 1040), 164122: ('신비한 동물들과 덤블도어의 비밀', 6.47, 2807), 122984: ('손님', 6.47, 5816), 54640: ('타이탄', 6.36, 5657), 61427: ('황금나침반', 6.25, 4719), 139699: ('번개맨', 6.21, 571), 68952: ('잉크하트', 6.0, 1154), 164155: ('벽 속에 숨은 마법시계', 5.95, 801), 47381: ('파르나서스 박사의 상상극장', 5.88, 2972), 69858: ('문프린세스: 문에이커의 비밀', 5.74, 1117), 109438: ('울브스', 5.72, 298), 182015: ('스케어리 스토리: 어둠의 속삭임', 5.64, 325), 44008: ('중천', 5.61, 5677), 57961: ('레이디 인 더 워터', 5.01, 953), 105246: ('숲속으로', 4.96, 2101), 93218: ('7번째 아들', 4.94, 522), 146316: ('봉신연의: 영웅의 귀환', 4.87, 326), 30275: ('평화의 시대', 4.87, 380), 38449: ('무극', 4.75, 2846), 52541: ('라스트 에어벤더', 4.74, 4313)}\n"
          ]
        }
      ],
      "source": [
        "# 판타지 영화들의 평점 평균 계산\n",
        "import requests\n",
        "from bs4 import BeautifulSoup\n",
        "import numpy as np\n",
        "\n",
        "\n",
        "# 리뷰 개수 리스트 만들기\n",
        "def GetReviewNum(movie_code_list):\n",
        "    review_num = []\n",
        "\n",
        "    for code in movie_code_list:   \n",
        "        review_page_url = f\"https://movie.naver.com/movie/bi/mi/pointWriteFormList.naver?code={code}&page=1\"\n",
        "        res = requests.get(review_page_url)\n",
        "        soup = BeautifulSoup(res.text)\n",
        "\n",
        "        # 리뷰 개수를 가져온다\n",
        "        num = soup.find('strong', attrs={'class':'total'}).find('em').text\n",
        "\n",
        "        # 7,302 => 7302로 변경해서 리스트에 추가\n",
        "        review_num.append(int(num.replace(',', '')))\n",
        "    \n",
        "    return review_num\n",
        "\n",
        "\n",
        "# 영화 리스트 생성 함수 (리턴타입은 {영화 코드: (영화 제목, 평점, 리뷰개수)} 형식의 딕셔너리)\n",
        "def MakeMovieList(genre_num):\n",
        "\n",
        "    date = 20220428     # 4월 28일 기준 영화랭킹\n",
        "    movie_title = []\n",
        "    movie_code = []\n",
        "    movie_point = []\n",
        "    review_num = []\n",
        "    page_num = 1\n",
        "    exist_next_page = True\n",
        "    while(exist_next_page):\n",
        "        movie_list_url = f\"https://movie.naver.com/movie/sdb/rank/rmovie.naver?sel=pnt&date={date}&tg={genre_num}&page={page_num}\"\n",
        "        \n",
        "        res = requests.get(movie_list_url)\n",
        "        soup = BeautifulSoup(res.text, 'lxml')\n",
        "        \n",
        "        # 1) 영화 코드 리스트, 영화 제목 리스트 만들기\n",
        "        element = soup.find_all('div', attrs={'class':'tit5'})\n",
        "        duplicate_code = False\n",
        "        for movie in element:\n",
        "\n",
        "            # 코드 리스트 추가(중복 체크 포함)\n",
        "            temp_url = movie.find('a')['href']\n",
        "            for i, n in enumerate(temp_url):\n",
        "                if n == '=':\n",
        "                    code = temp_url[i+1:]\n",
        "                    if code in movie_code:\n",
        "                        exist_next_page = False\n",
        "                        duplicate_code = True\n",
        "                        break\n",
        "                    else:\n",
        "                        movie_code.append(code)\n",
        "            if duplicate_code:\n",
        "                break\n",
        "\n",
        "            # 제목 리스트 추가\n",
        "            title = movie.text.strip()\n",
        "            movie_title.append(title)\n",
        "\n",
        "        print(movie_title)\n",
        "\n",
        "        # 2) 평점 리스트 만들기\n",
        "        point_list = soup.find_all('td', attrs={'class':'point'})\n",
        "        for i in range(len(point_list)):\n",
        "            movie_point.append(point_list[i].text)\n",
        "\n",
        "        # 3) 리뷰 개수 리스트 만들기\n",
        "        review_num = GetReviewNum(movie_code)\n",
        "            \n",
        "        page_num += 1\n",
        "\n",
        "    # 4) 영화 코드, 제목, 평점, 리뷰 개수를 합쳐 하나의 딕셔너리로 만들기\n",
        "    movie_list = {}\n",
        "    for code, title, point, num in zip(movie_code, movie_title, movie_point, review_num):\n",
        "        movie_list[int(code)] = (title, float(point), num)\n",
        "\n",
        "    return movie_list\n",
        "\n",
        "\n",
        "movie_ls = MakeMovieList(genre_num=2)   # 판타지: 2\n",
        "print(movie_ls)"
      ]
    },
    {
      "cell_type": "code",
      "source": [
        "# 미녀와 야수, 천녀유혼은 중복\n",
        "print(len(movie_ls))    "
      ],
      "metadata": {
        "colab": {
          "base_uri": "https://localhost:8080/"
        },
        "id": "N4XFScHzxFhx",
        "outputId": "30926671-ce2a-4199-dc88-4c39ed655a4a"
      },
      "execution_count": 2,
      "outputs": [
        {
          "output_type": "stream",
          "name": "stdout",
          "text": [
            "113\n"
          ]
        }
      ]
    },
    {
      "cell_type": "code",
      "source": [
        "# 9.38 * np.log(7302) + 93.6 * np.log(4329) + ...\n",
        "\n",
        "# 1. 특정영화리뷰개수 / 총리뷰개수\n",
        "# \n",
        "\n",
        "def Calculate(movie_list):\n",
        "    rating_sum = 0\n",
        "    num_of_review = 0\n",
        "    for key, value in movie_list.items():\n",
        "        rating_sum += value[1]\n",
        "        num_of_review += value[2]\n",
        "    avg_rating = rating_sum / len(movie_list)\n",
        "\n",
        "    return avg_rating\n",
        "\n",
        "mean_rating = Calculate(movie_ls)\n",
        "print(mean_rating)"
      ],
      "metadata": {
        "colab": {
          "base_uri": "https://localhost:8080/"
        },
        "id": "bx3hJNnnwn4s",
        "outputId": "a62fac18-3c24-43d4-fb4e-9872f7290312"
      },
      "execution_count": 3,
      "outputs": [
        {
          "output_type": "stream",
          "name": "stdout",
          "text": [
            "7.66132743362832\n"
          ]
        }
      ]
    },
    {
      "cell_type": "code",
      "source": [
        "# pickle로 movie_list를 저장\n",
        "import pickle\n",
        "\n",
        "PATH = '/content/drive/MyDrive/final-project/data'\n",
        "with open(PATH + '/movie_list_wb_4.pkl', 'wb') as f:\n",
        "    pickle.dump(movie_ls, f, protocol=4)"
      ],
      "metadata": {
        "id": "Uwm6U8T4sAvI"
      },
      "execution_count": 4,
      "outputs": []
    },
    {
      "cell_type": "markdown",
      "source": [
        "## 리뷰 데이터 Sentiment 입력\n",
        " - score 8이상 => 1(Positive)\n",
        " - socre 8미만 => 0(Negative)"
      ],
      "metadata": {
        "id": "vxqr47usv8Ep"
      }
    },
    {
      "cell_type": "code",
      "source": [
        "import pandas as pd\n",
        "\n",
        "PATH = '/content/drive/MyDrive/final-project/data'\n",
        "df = pd.read_csv(PATH + '/movie_crawling_판타지.csv')\n",
        "\n",
        "df.head()"
      ],
      "metadata": {
        "id": "f63M6FJlvm82",
        "colab": {
          "base_uri": "https://localhost:8080/",
          "height": 206
        },
        "outputId": "fc7a3fa2-cddc-4afd-ee72-57a4d78dd308"
      },
      "execution_count": 5,
      "outputs": [
        {
          "output_type": "execute_result",
          "data": {
            "text/plain": [
              "   Unnamed: 0 genre     movie_name  score  \\\n",
              "0           0   판타지  반지의 제왕: 왕의 귀환     10   \n",
              "1           1   판타지  반지의 제왕: 왕의 귀환     10   \n",
              "2           2   판타지  반지의 제왕: 왕의 귀환     10   \n",
              "3           3   판타지  반지의 제왕: 왕의 귀환     10   \n",
              "4           4   판타지  반지의 제왕: 왕의 귀환     10   \n",
              "\n",
              "                                              review  \n",
              "0                 내가 극장에서 이 영화를 봣다는게 너무 자랑스럽고 감동적입니다  \n",
              "1                  현존하는 최고의 판타지영화... 퀄리티가 절대 애들용이 아님  \n",
              "2  왜 이영화를이제서야봤는지ㅠㅠ 일편부터연달아보는데 재밌다가도 시간가는게너무안타까웠음ㅠ...  \n",
              "3                               몇년이 지난 영화인데도 소름돋는영화.  \n",
              "4                  반지의제왕 안본사람은 있어도한번본 사람은 없다는게 사실인가요  "
            ],
            "text/html": [
              "\n",
              "  <div id=\"df-5f045dff-7fbe-4017-9814-d5060b003d01\">\n",
              "    <div class=\"colab-df-container\">\n",
              "      <div>\n",
              "<style scoped>\n",
              "    .dataframe tbody tr th:only-of-type {\n",
              "        vertical-align: middle;\n",
              "    }\n",
              "\n",
              "    .dataframe tbody tr th {\n",
              "        vertical-align: top;\n",
              "    }\n",
              "\n",
              "    .dataframe thead th {\n",
              "        text-align: right;\n",
              "    }\n",
              "</style>\n",
              "<table border=\"1\" class=\"dataframe\">\n",
              "  <thead>\n",
              "    <tr style=\"text-align: right;\">\n",
              "      <th></th>\n",
              "      <th>Unnamed: 0</th>\n",
              "      <th>genre</th>\n",
              "      <th>movie_name</th>\n",
              "      <th>score</th>\n",
              "      <th>review</th>\n",
              "    </tr>\n",
              "  </thead>\n",
              "  <tbody>\n",
              "    <tr>\n",
              "      <th>0</th>\n",
              "      <td>0</td>\n",
              "      <td>판타지</td>\n",
              "      <td>반지의 제왕: 왕의 귀환</td>\n",
              "      <td>10</td>\n",
              "      <td>내가 극장에서 이 영화를 봣다는게 너무 자랑스럽고 감동적입니다</td>\n",
              "    </tr>\n",
              "    <tr>\n",
              "      <th>1</th>\n",
              "      <td>1</td>\n",
              "      <td>판타지</td>\n",
              "      <td>반지의 제왕: 왕의 귀환</td>\n",
              "      <td>10</td>\n",
              "      <td>현존하는 최고의 판타지영화... 퀄리티가 절대 애들용이 아님</td>\n",
              "    </tr>\n",
              "    <tr>\n",
              "      <th>2</th>\n",
              "      <td>2</td>\n",
              "      <td>판타지</td>\n",
              "      <td>반지의 제왕: 왕의 귀환</td>\n",
              "      <td>10</td>\n",
              "      <td>왜 이영화를이제서야봤는지ㅠㅠ 일편부터연달아보는데 재밌다가도 시간가는게너무안타까웠음ㅠ...</td>\n",
              "    </tr>\n",
              "    <tr>\n",
              "      <th>3</th>\n",
              "      <td>3</td>\n",
              "      <td>판타지</td>\n",
              "      <td>반지의 제왕: 왕의 귀환</td>\n",
              "      <td>10</td>\n",
              "      <td>몇년이 지난 영화인데도 소름돋는영화.</td>\n",
              "    </tr>\n",
              "    <tr>\n",
              "      <th>4</th>\n",
              "      <td>4</td>\n",
              "      <td>판타지</td>\n",
              "      <td>반지의 제왕: 왕의 귀환</td>\n",
              "      <td>10</td>\n",
              "      <td>반지의제왕 안본사람은 있어도한번본 사람은 없다는게 사실인가요</td>\n",
              "    </tr>\n",
              "  </tbody>\n",
              "</table>\n",
              "</div>\n",
              "      <button class=\"colab-df-convert\" onclick=\"convertToInteractive('df-5f045dff-7fbe-4017-9814-d5060b003d01')\"\n",
              "              title=\"Convert this dataframe to an interactive table.\"\n",
              "              style=\"display:none;\">\n",
              "        \n",
              "  <svg xmlns=\"http://www.w3.org/2000/svg\" height=\"24px\"viewBox=\"0 0 24 24\"\n",
              "       width=\"24px\">\n",
              "    <path d=\"M0 0h24v24H0V0z\" fill=\"none\"/>\n",
              "    <path d=\"M18.56 5.44l.94 2.06.94-2.06 2.06-.94-2.06-.94-.94-2.06-.94 2.06-2.06.94zm-11 1L8.5 8.5l.94-2.06 2.06-.94-2.06-.94L8.5 2.5l-.94 2.06-2.06.94zm10 10l.94 2.06.94-2.06 2.06-.94-2.06-.94-.94-2.06-.94 2.06-2.06.94z\"/><path d=\"M17.41 7.96l-1.37-1.37c-.4-.4-.92-.59-1.43-.59-.52 0-1.04.2-1.43.59L10.3 9.45l-7.72 7.72c-.78.78-.78 2.05 0 2.83L4 21.41c.39.39.9.59 1.41.59.51 0 1.02-.2 1.41-.59l7.78-7.78 2.81-2.81c.8-.78.8-2.07 0-2.86zM5.41 20L4 18.59l7.72-7.72 1.47 1.35L5.41 20z\"/>\n",
              "  </svg>\n",
              "      </button>\n",
              "      \n",
              "  <style>\n",
              "    .colab-df-container {\n",
              "      display:flex;\n",
              "      flex-wrap:wrap;\n",
              "      gap: 12px;\n",
              "    }\n",
              "\n",
              "    .colab-df-convert {\n",
              "      background-color: #E8F0FE;\n",
              "      border: none;\n",
              "      border-radius: 50%;\n",
              "      cursor: pointer;\n",
              "      display: none;\n",
              "      fill: #1967D2;\n",
              "      height: 32px;\n",
              "      padding: 0 0 0 0;\n",
              "      width: 32px;\n",
              "    }\n",
              "\n",
              "    .colab-df-convert:hover {\n",
              "      background-color: #E2EBFA;\n",
              "      box-shadow: 0px 1px 2px rgba(60, 64, 67, 0.3), 0px 1px 3px 1px rgba(60, 64, 67, 0.15);\n",
              "      fill: #174EA6;\n",
              "    }\n",
              "\n",
              "    [theme=dark] .colab-df-convert {\n",
              "      background-color: #3B4455;\n",
              "      fill: #D2E3FC;\n",
              "    }\n",
              "\n",
              "    [theme=dark] .colab-df-convert:hover {\n",
              "      background-color: #434B5C;\n",
              "      box-shadow: 0px 1px 3px 1px rgba(0, 0, 0, 0.15);\n",
              "      filter: drop-shadow(0px 1px 2px rgba(0, 0, 0, 0.3));\n",
              "      fill: #FFFFFF;\n",
              "    }\n",
              "  </style>\n",
              "\n",
              "      <script>\n",
              "        const buttonEl =\n",
              "          document.querySelector('#df-5f045dff-7fbe-4017-9814-d5060b003d01 button.colab-df-convert');\n",
              "        buttonEl.style.display =\n",
              "          google.colab.kernel.accessAllowed ? 'block' : 'none';\n",
              "\n",
              "        async function convertToInteractive(key) {\n",
              "          const element = document.querySelector('#df-5f045dff-7fbe-4017-9814-d5060b003d01');\n",
              "          const dataTable =\n",
              "            await google.colab.kernel.invokeFunction('convertToInteractive',\n",
              "                                                     [key], {});\n",
              "          if (!dataTable) return;\n",
              "\n",
              "          const docLinkHtml = 'Like what you see? Visit the ' +\n",
              "            '<a target=\"_blank\" href=https://colab.research.google.com/notebooks/data_table.ipynb>data table notebook</a>'\n",
              "            + ' to learn more about interactive tables.';\n",
              "          element.innerHTML = '';\n",
              "          dataTable['output_type'] = 'display_data';\n",
              "          await google.colab.output.renderOutput(dataTable, element);\n",
              "          const docLink = document.createElement('div');\n",
              "          docLink.innerHTML = docLinkHtml;\n",
              "          element.appendChild(docLink);\n",
              "        }\n",
              "      </script>\n",
              "    </div>\n",
              "  </div>\n",
              "  "
            ]
          },
          "metadata": {},
          "execution_count": 5
        }
      ]
    },
    {
      "cell_type": "code",
      "source": [
        "# Sentiment열 추가\n",
        "df['Sentiment'] = 2\n",
        "\n",
        "# score 8점이상이면 1, 미만이면 0\n",
        "df['Sentiment'] = np.where(df['score'] >= 8, 1, 0)\n",
        "\n",
        "df.head()"
      ],
      "metadata": {
        "colab": {
          "base_uri": "https://localhost:8080/",
          "height": 206
        },
        "id": "NP0bhNPYvDk7",
        "outputId": "c768c494-84a8-4f75-d981-f5791d9f28ec"
      },
      "execution_count": 24,
      "outputs": [
        {
          "output_type": "execute_result",
          "data": {
            "text/plain": [
              "   Unnamed: 0 genre     movie_name  score  \\\n",
              "0           0   판타지  반지의 제왕: 왕의 귀환     10   \n",
              "1           1   판타지  반지의 제왕: 왕의 귀환     10   \n",
              "2           2   판타지  반지의 제왕: 왕의 귀환     10   \n",
              "3           3   판타지  반지의 제왕: 왕의 귀환     10   \n",
              "4           4   판타지  반지의 제왕: 왕의 귀환     10   \n",
              "\n",
              "                                              review  Sentiment  \n",
              "0                 내가 극장에서 이 영화를 봣다는게 너무 자랑스럽고 감동적입니다          1  \n",
              "1                  현존하는 최고의 판타지영화... 퀄리티가 절대 애들용이 아님          1  \n",
              "2  왜 이영화를이제서야봤는지ㅠㅠ 일편부터연달아보는데 재밌다가도 시간가는게너무안타까웠음ㅠ...          1  \n",
              "3                               몇년이 지난 영화인데도 소름돋는영화.          1  \n",
              "4                  반지의제왕 안본사람은 있어도한번본 사람은 없다는게 사실인가요          1  "
            ],
            "text/html": [
              "\n",
              "  <div id=\"df-fd6f3d74-ae83-46a1-857c-44a3a6ada6cb\">\n",
              "    <div class=\"colab-df-container\">\n",
              "      <div>\n",
              "<style scoped>\n",
              "    .dataframe tbody tr th:only-of-type {\n",
              "        vertical-align: middle;\n",
              "    }\n",
              "\n",
              "    .dataframe tbody tr th {\n",
              "        vertical-align: top;\n",
              "    }\n",
              "\n",
              "    .dataframe thead th {\n",
              "        text-align: right;\n",
              "    }\n",
              "</style>\n",
              "<table border=\"1\" class=\"dataframe\">\n",
              "  <thead>\n",
              "    <tr style=\"text-align: right;\">\n",
              "      <th></th>\n",
              "      <th>Unnamed: 0</th>\n",
              "      <th>genre</th>\n",
              "      <th>movie_name</th>\n",
              "      <th>score</th>\n",
              "      <th>review</th>\n",
              "      <th>Sentiment</th>\n",
              "    </tr>\n",
              "  </thead>\n",
              "  <tbody>\n",
              "    <tr>\n",
              "      <th>0</th>\n",
              "      <td>0</td>\n",
              "      <td>판타지</td>\n",
              "      <td>반지의 제왕: 왕의 귀환</td>\n",
              "      <td>10</td>\n",
              "      <td>내가 극장에서 이 영화를 봣다는게 너무 자랑스럽고 감동적입니다</td>\n",
              "      <td>1</td>\n",
              "    </tr>\n",
              "    <tr>\n",
              "      <th>1</th>\n",
              "      <td>1</td>\n",
              "      <td>판타지</td>\n",
              "      <td>반지의 제왕: 왕의 귀환</td>\n",
              "      <td>10</td>\n",
              "      <td>현존하는 최고의 판타지영화... 퀄리티가 절대 애들용이 아님</td>\n",
              "      <td>1</td>\n",
              "    </tr>\n",
              "    <tr>\n",
              "      <th>2</th>\n",
              "      <td>2</td>\n",
              "      <td>판타지</td>\n",
              "      <td>반지의 제왕: 왕의 귀환</td>\n",
              "      <td>10</td>\n",
              "      <td>왜 이영화를이제서야봤는지ㅠㅠ 일편부터연달아보는데 재밌다가도 시간가는게너무안타까웠음ㅠ...</td>\n",
              "      <td>1</td>\n",
              "    </tr>\n",
              "    <tr>\n",
              "      <th>3</th>\n",
              "      <td>3</td>\n",
              "      <td>판타지</td>\n",
              "      <td>반지의 제왕: 왕의 귀환</td>\n",
              "      <td>10</td>\n",
              "      <td>몇년이 지난 영화인데도 소름돋는영화.</td>\n",
              "      <td>1</td>\n",
              "    </tr>\n",
              "    <tr>\n",
              "      <th>4</th>\n",
              "      <td>4</td>\n",
              "      <td>판타지</td>\n",
              "      <td>반지의 제왕: 왕의 귀환</td>\n",
              "      <td>10</td>\n",
              "      <td>반지의제왕 안본사람은 있어도한번본 사람은 없다는게 사실인가요</td>\n",
              "      <td>1</td>\n",
              "    </tr>\n",
              "  </tbody>\n",
              "</table>\n",
              "</div>\n",
              "      <button class=\"colab-df-convert\" onclick=\"convertToInteractive('df-fd6f3d74-ae83-46a1-857c-44a3a6ada6cb')\"\n",
              "              title=\"Convert this dataframe to an interactive table.\"\n",
              "              style=\"display:none;\">\n",
              "        \n",
              "  <svg xmlns=\"http://www.w3.org/2000/svg\" height=\"24px\"viewBox=\"0 0 24 24\"\n",
              "       width=\"24px\">\n",
              "    <path d=\"M0 0h24v24H0V0z\" fill=\"none\"/>\n",
              "    <path d=\"M18.56 5.44l.94 2.06.94-2.06 2.06-.94-2.06-.94-.94-2.06-.94 2.06-2.06.94zm-11 1L8.5 8.5l.94-2.06 2.06-.94-2.06-.94L8.5 2.5l-.94 2.06-2.06.94zm10 10l.94 2.06.94-2.06 2.06-.94-2.06-.94-.94-2.06-.94 2.06-2.06.94z\"/><path d=\"M17.41 7.96l-1.37-1.37c-.4-.4-.92-.59-1.43-.59-.52 0-1.04.2-1.43.59L10.3 9.45l-7.72 7.72c-.78.78-.78 2.05 0 2.83L4 21.41c.39.39.9.59 1.41.59.51 0 1.02-.2 1.41-.59l7.78-7.78 2.81-2.81c.8-.78.8-2.07 0-2.86zM5.41 20L4 18.59l7.72-7.72 1.47 1.35L5.41 20z\"/>\n",
              "  </svg>\n",
              "      </button>\n",
              "      \n",
              "  <style>\n",
              "    .colab-df-container {\n",
              "      display:flex;\n",
              "      flex-wrap:wrap;\n",
              "      gap: 12px;\n",
              "    }\n",
              "\n",
              "    .colab-df-convert {\n",
              "      background-color: #E8F0FE;\n",
              "      border: none;\n",
              "      border-radius: 50%;\n",
              "      cursor: pointer;\n",
              "      display: none;\n",
              "      fill: #1967D2;\n",
              "      height: 32px;\n",
              "      padding: 0 0 0 0;\n",
              "      width: 32px;\n",
              "    }\n",
              "\n",
              "    .colab-df-convert:hover {\n",
              "      background-color: #E2EBFA;\n",
              "      box-shadow: 0px 1px 2px rgba(60, 64, 67, 0.3), 0px 1px 3px 1px rgba(60, 64, 67, 0.15);\n",
              "      fill: #174EA6;\n",
              "    }\n",
              "\n",
              "    [theme=dark] .colab-df-convert {\n",
              "      background-color: #3B4455;\n",
              "      fill: #D2E3FC;\n",
              "    }\n",
              "\n",
              "    [theme=dark] .colab-df-convert:hover {\n",
              "      background-color: #434B5C;\n",
              "      box-shadow: 0px 1px 3px 1px rgba(0, 0, 0, 0.15);\n",
              "      filter: drop-shadow(0px 1px 2px rgba(0, 0, 0, 0.3));\n",
              "      fill: #FFFFFF;\n",
              "    }\n",
              "  </style>\n",
              "\n",
              "      <script>\n",
              "        const buttonEl =\n",
              "          document.querySelector('#df-fd6f3d74-ae83-46a1-857c-44a3a6ada6cb button.colab-df-convert');\n",
              "        buttonEl.style.display =\n",
              "          google.colab.kernel.accessAllowed ? 'block' : 'none';\n",
              "\n",
              "        async function convertToInteractive(key) {\n",
              "          const element = document.querySelector('#df-fd6f3d74-ae83-46a1-857c-44a3a6ada6cb');\n",
              "          const dataTable =\n",
              "            await google.colab.kernel.invokeFunction('convertToInteractive',\n",
              "                                                     [key], {});\n",
              "          if (!dataTable) return;\n",
              "\n",
              "          const docLinkHtml = 'Like what you see? Visit the ' +\n",
              "            '<a target=\"_blank\" href=https://colab.research.google.com/notebooks/data_table.ipynb>data table notebook</a>'\n",
              "            + ' to learn more about interactive tables.';\n",
              "          element.innerHTML = '';\n",
              "          dataTable['output_type'] = 'display_data';\n",
              "          await google.colab.output.renderOutput(dataTable, element);\n",
              "          const docLink = document.createElement('div');\n",
              "          docLink.innerHTML = docLinkHtml;\n",
              "          element.appendChild(docLink);\n",
              "        }\n",
              "      </script>\n",
              "    </div>\n",
              "  </div>\n",
              "  "
            ]
          },
          "metadata": {},
          "execution_count": 24
        }
      ]
    },
    {
      "cell_type": "code",
      "source": [
        "print(len(df))\n",
        "print(len(df[df['score'] >= 8]))\n",
        "print(len(df[df['Sentiment'] == 1]))\n",
        "print(len(df[df['score'] < 8]))\n",
        "print(len(df[df['Sentiment'] == 0]))"
      ],
      "metadata": {
        "colab": {
          "base_uri": "https://localhost:8080/"
        },
        "id": "dJH_DZN6upYz",
        "outputId": "bee1abcd-cfa0-4c8b-bae7-fc325105704d"
      },
      "execution_count": 25,
      "outputs": [
        {
          "output_type": "stream",
          "name": "stdout",
          "text": [
            "88274\n",
            "58648\n",
            "58648\n",
            "29626\n",
            "29626\n"
          ]
        }
      ]
    },
    {
      "cell_type": "code",
      "source": [
        "df.to_csv(PATH + \"/movie_data.csv\")"
      ],
      "metadata": {
        "id": "U87kQLnmuzV3"
      },
      "execution_count": 29,
      "outputs": []
    },
    {
      "cell_type": "code",
      "source": [
        ""
      ],
      "metadata": {
        "id": "-7f6eSJAywJn"
      },
      "execution_count": null,
      "outputs": []
    }
  ]
}