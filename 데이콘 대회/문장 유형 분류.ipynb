{
 "cells": [
  {
   "cell_type": "markdown",
   "id": "7c534fc1",
   "metadata": {},
   "source": [
    "# 문장 유형 분류\n",
    "\n",
    " - 대회링크: https://dacon.io/competitions/official/236037/overview/description\n",
    " - 최고 스코어: 0.6445"
   ]
  },
  {
   "cell_type": "markdown",
   "id": "6262bb58",
   "metadata": {},
   "source": [
    "### 1. 데이터 로드 및 탐색"
   ]
  },
  {
   "cell_type": "code",
   "execution_count": 1,
   "id": "fdf0d684",
   "metadata": {
    "ExecuteTime": {
     "end_time": "2023-01-02T01:39:04.041656Z",
     "start_time": "2023-01-02T01:38:54.212714Z"
    }
   },
   "outputs": [],
   "source": [
    "import pandas as pd\n",
    "import numpy as np\n",
    "import matplotlib.pyplot as plt\n",
    "from sklearn.model_selection import train_test_split\n",
    "from tqdm import tqdm\n",
    "from transformers import TFAutoModel, AutoTokenizer\n",
    "import tensorflow as tf\n",
    "from tensorflow.keras.layers import Dense, Input, Dropout\n",
    "from tensorflow.keras.models import Model\n",
    "from tensorflow.keras.optimizers import Adam\n",
    "\n",
    "\n",
    "import warnings\n",
    "warnings.filterwarnings(action='ignore')"
   ]
  },
  {
   "cell_type": "code",
   "execution_count": 2,
   "id": "30e23b72",
   "metadata": {
    "ExecuteTime": {
     "end_time": "2023-01-02T01:39:04.178607Z",
     "start_time": "2023-01-02T01:39:04.042432Z"
    }
   },
   "outputs": [
    {
     "data": {
      "text/html": [
       "<div>\n",
       "<style scoped>\n",
       "    .dataframe tbody tr th:only-of-type {\n",
       "        vertical-align: middle;\n",
       "    }\n",
       "\n",
       "    .dataframe tbody tr th {\n",
       "        vertical-align: top;\n",
       "    }\n",
       "\n",
       "    .dataframe thead th {\n",
       "        text-align: right;\n",
       "    }\n",
       "</style>\n",
       "<table border=\"1\" class=\"dataframe\">\n",
       "  <thead>\n",
       "    <tr style=\"text-align: right;\">\n",
       "      <th></th>\n",
       "      <th>ID</th>\n",
       "      <th>문장</th>\n",
       "      <th>유형</th>\n",
       "      <th>극성</th>\n",
       "      <th>시제</th>\n",
       "      <th>확실성</th>\n",
       "      <th>label</th>\n",
       "    </tr>\n",
       "  </thead>\n",
       "  <tbody>\n",
       "    <tr>\n",
       "      <th>16536</th>\n",
       "      <td>TRAIN_16536</td>\n",
       "      <td>＇신동덤＇은 ＇신비한 동물사전＇과 ＇해리 포터＇ 시리즈를 잇는 마법 어드벤처물로, ...</td>\n",
       "      <td>사실형</td>\n",
       "      <td>긍정</td>\n",
       "      <td>과거</td>\n",
       "      <td>확실</td>\n",
       "      <td>사실형-긍정-과거-확실</td>\n",
       "    </tr>\n",
       "    <tr>\n",
       "      <th>16537</th>\n",
       "      <td>TRAIN_16537</td>\n",
       "      <td>수족냉증은 어릴 때부터 심했으며 관절은 어디 한 곳이 아니고 목, 어깨, 팔꿈치, ...</td>\n",
       "      <td>사실형</td>\n",
       "      <td>긍정</td>\n",
       "      <td>과거</td>\n",
       "      <td>확실</td>\n",
       "      <td>사실형-긍정-과거-확실</td>\n",
       "    </tr>\n",
       "    <tr>\n",
       "      <th>16538</th>\n",
       "      <td>TRAIN_16538</td>\n",
       "      <td>김금희 소설가는 ＂계약서 조정이 그리 어려운가 작가를 격려한다면서 그런 문구 하나 ...</td>\n",
       "      <td>사실형</td>\n",
       "      <td>긍정</td>\n",
       "      <td>과거</td>\n",
       "      <td>확실</td>\n",
       "      <td>사실형-긍정-과거-확실</td>\n",
       "    </tr>\n",
       "    <tr>\n",
       "      <th>16539</th>\n",
       "      <td>TRAIN_16539</td>\n",
       "      <td>1만명이 넘는 방문자수를 기록한 이번 전시회는 총 77개 작품을 넥슨 사옥을 그대로...</td>\n",
       "      <td>사실형</td>\n",
       "      <td>긍정</td>\n",
       "      <td>과거</td>\n",
       "      <td>불확실</td>\n",
       "      <td>사실형-긍정-과거-불확실</td>\n",
       "    </tr>\n",
       "    <tr>\n",
       "      <th>16540</th>\n",
       "      <td>TRAIN_16540</td>\n",
       "      <td>《목민심서》의 내용이다.</td>\n",
       "      <td>사실형</td>\n",
       "      <td>긍정</td>\n",
       "      <td>현재</td>\n",
       "      <td>확실</td>\n",
       "      <td>사실형-긍정-현재-확실</td>\n",
       "    </tr>\n",
       "  </tbody>\n",
       "</table>\n",
       "</div>"
      ],
      "text/plain": [
       "                ID                                                 문장   유형  \\\n",
       "16536  TRAIN_16536  ＇신동덤＇은 ＇신비한 동물사전＇과 ＇해리 포터＇ 시리즈를 잇는 마법 어드벤처물로, ...  사실형   \n",
       "16537  TRAIN_16537  수족냉증은 어릴 때부터 심했으며 관절은 어디 한 곳이 아니고 목, 어깨, 팔꿈치, ...  사실형   \n",
       "16538  TRAIN_16538  김금희 소설가는 ＂계약서 조정이 그리 어려운가 작가를 격려한다면서 그런 문구 하나 ...  사실형   \n",
       "16539  TRAIN_16539  1만명이 넘는 방문자수를 기록한 이번 전시회는 총 77개 작품을 넥슨 사옥을 그대로...  사실형   \n",
       "16540  TRAIN_16540                                      《목민심서》의 내용이다.  사실형   \n",
       "\n",
       "       극성  시제  확실성          label  \n",
       "16536  긍정  과거   확실   사실형-긍정-과거-확실  \n",
       "16537  긍정  과거   확실   사실형-긍정-과거-확실  \n",
       "16538  긍정  과거   확실   사실형-긍정-과거-확실  \n",
       "16539  긍정  과거  불확실  사실형-긍정-과거-불확실  \n",
       "16540  긍정  현재   확실   사실형-긍정-현재-확실  "
      ]
     },
     "execution_count": 2,
     "metadata": {},
     "output_type": "execute_result"
    }
   ],
   "source": [
    "file_path = 'data/'\n",
    "file_name = 'train.csv'\n",
    "df = pd.read_csv(file_path + file_name)\n",
    "df_test = pd.read_csv(file_path + 'test.csv')\n",
    "\n",
    "df.tail()"
   ]
  },
  {
   "cell_type": "code",
   "execution_count": 3,
   "id": "84629964",
   "metadata": {
    "ExecuteTime": {
     "end_time": "2023-01-02T01:39:04.208329Z",
     "start_time": "2023-01-02T01:39:04.179605Z"
    }
   },
   "outputs": [
    {
     "name": "stdout",
     "output_type": "stream",
     "text": [
      "<class 'pandas.core.frame.DataFrame'>\n",
      "RangeIndex: 16541 entries, 0 to 16540\n",
      "Data columns (total 7 columns):\n",
      " #   Column  Non-Null Count  Dtype \n",
      "---  ------  --------------  ----- \n",
      " 0   ID      16541 non-null  object\n",
      " 1   문장      16541 non-null  object\n",
      " 2   유형      16541 non-null  object\n",
      " 3   극성      16541 non-null  object\n",
      " 4   시제      16541 non-null  object\n",
      " 5   확실성     16541 non-null  object\n",
      " 6   label   16541 non-null  object\n",
      "dtypes: object(7)\n",
      "memory usage: 904.7+ KB\n"
     ]
    }
   ],
   "source": [
    "df.info()"
   ]
  },
  {
   "cell_type": "code",
   "execution_count": 4,
   "id": "2fe04735",
   "metadata": {
    "ExecuteTime": {
     "end_time": "2023-01-02T01:39:04.218950Z",
     "start_time": "2023-01-02T01:39:04.209299Z"
    }
   },
   "outputs": [],
   "source": [
    "# ID열 제거\n",
    "df.drop('ID', axis=1,inplace=True)"
   ]
  },
  {
   "cell_type": "code",
   "execution_count": 5,
   "id": "c5839c8f",
   "metadata": {
    "ExecuteTime": {
     "end_time": "2023-01-02T01:39:04.229211Z",
     "start_time": "2023-01-02T01:39:04.218950Z"
    }
   },
   "outputs": [
    {
     "name": "stdout",
     "output_type": "stream",
     "text": [
      "대화 유형 종류: {'사실형': 13558, '추론형': 2151, '대화형': 575, '예측형': 257}\n",
      "대화 극성 종류: {'긍정': 15793, '부정': 565, '미정': 183}\n",
      "대화 시제 종류: {'과거': 8032, '현재': 6866, '미래': 1643}\n",
      "대화 확실성 종류: {'확실': 15192, '불확실': 1349}\n"
     ]
    }
   ],
   "source": [
    "print('대화 유형 종류:', df['유형'].value_counts().to_dict())\n",
    "print('대화 극성 종류:', df['극성'].value_counts().to_dict())\n",
    "print('대화 시제 종류:', df['시제'].value_counts().to_dict())\n",
    "print('대화 확실성 종류:', df['확실성'].value_counts().to_dict())"
   ]
  },
  {
   "cell_type": "code",
   "execution_count": 6,
   "id": "8d5b3eb8",
   "metadata": {
    "ExecuteTime": {
     "end_time": "2023-01-02T01:39:04.256357Z",
     "start_time": "2023-01-02T01:39:04.229211Z"
    }
   },
   "outputs": [
    {
     "data": {
      "text/plain": [
       "문장       0\n",
       "유형       0\n",
       "극성       0\n",
       "시제       0\n",
       "확실성      0\n",
       "label    0\n",
       "dtype: int64"
      ]
     },
     "execution_count": 6,
     "metadata": {},
     "output_type": "execute_result"
    }
   ],
   "source": [
    "# 결측치 확인\n",
    "df.isna().sum()"
   ]
  },
  {
   "cell_type": "code",
   "execution_count": 7,
   "id": "cabf48fe",
   "metadata": {
    "ExecuteTime": {
     "end_time": "2023-01-02T01:39:04.279850Z",
     "start_time": "2023-01-02T01:39:04.257327Z"
    }
   },
   "outputs": [
    {
     "name": "stdout",
     "output_type": "stream",
     "text": [
      "31\n"
     ]
    }
   ],
   "source": [
    "# 중복값 확인 => 31\n",
    "print(df.duplicated().sum())"
   ]
  },
  {
   "cell_type": "code",
   "execution_count": 8,
   "id": "8eba08b0",
   "metadata": {
    "ExecuteTime": {
     "end_time": "2023-01-02T01:39:04.310928Z",
     "start_time": "2023-01-02T01:39:04.280819Z"
    }
   },
   "outputs": [
    {
     "data": {
      "text/html": [
       "<div>\n",
       "<style scoped>\n",
       "    .dataframe tbody tr th:only-of-type {\n",
       "        vertical-align: middle;\n",
       "    }\n",
       "\n",
       "    .dataframe tbody tr th {\n",
       "        vertical-align: top;\n",
       "    }\n",
       "\n",
       "    .dataframe thead th {\n",
       "        text-align: right;\n",
       "    }\n",
       "</style>\n",
       "<table border=\"1\" class=\"dataframe\">\n",
       "  <thead>\n",
       "    <tr style=\"text-align: right;\">\n",
       "      <th></th>\n",
       "      <th>문장</th>\n",
       "      <th>유형</th>\n",
       "      <th>극성</th>\n",
       "      <th>시제</th>\n",
       "      <th>확실성</th>\n",
       "      <th>label</th>\n",
       "    </tr>\n",
       "  </thead>\n",
       "  <tbody>\n",
       "    <tr>\n",
       "      <th>300</th>\n",
       "      <td>신용카드 빚을 뜻하는 판매신용은 2조4000억원 늘어난 91조1000억원이다.</td>\n",
       "      <td>사실형</td>\n",
       "      <td>긍정</td>\n",
       "      <td>현재</td>\n",
       "      <td>확실</td>\n",
       "      <td>사실형-긍정-현재-확실</td>\n",
       "    </tr>\n",
       "    <tr>\n",
       "      <th>1638</th>\n",
       "      <td>신용카드 빚을 뜻하는 판매신용은 2조4000억원 늘어난 91조1000억원이다.</td>\n",
       "      <td>사실형</td>\n",
       "      <td>긍정</td>\n",
       "      <td>현재</td>\n",
       "      <td>확실</td>\n",
       "      <td>사실형-긍정-현재-확실</td>\n",
       "    </tr>\n",
       "  </tbody>\n",
       "</table>\n",
       "</div>"
      ],
      "text/plain": [
       "                                               문장   유형  극성  시제 확실성  \\\n",
       "300   신용카드 빚을 뜻하는 판매신용은 2조4000억원 늘어난 91조1000억원이다.  사실형  긍정  현재  확실   \n",
       "1638  신용카드 빚을 뜻하는 판매신용은 2조4000억원 늘어난 91조1000억원이다.  사실형  긍정  현재  확실   \n",
       "\n",
       "             label  \n",
       "300   사실형-긍정-현재-확실  \n",
       "1638  사실형-긍정-현재-확실  "
      ]
     },
     "execution_count": 8,
     "metadata": {},
     "output_type": "execute_result"
    }
   ],
   "source": [
    "# 중복내용 확인\n",
    "dup = df.duplicated()\n",
    "dup = df[dup]['문장'].tolist()\n",
    "df[df['문장'] == dup[0]]"
   ]
  },
  {
   "cell_type": "code",
   "execution_count": 9,
   "id": "4ece37a4",
   "metadata": {
    "ExecuteTime": {
     "end_time": "2023-01-02T01:39:04.355726Z",
     "start_time": "2023-01-02T01:39:04.311925Z"
    }
   },
   "outputs": [
    {
     "name": "stdout",
     "output_type": "stream",
     "text": [
      "<class 'pandas.core.frame.DataFrame'>\n",
      "Int64Index: 16510 entries, 0 to 16539\n",
      "Data columns (total 6 columns):\n",
      " #   Column  Non-Null Count  Dtype \n",
      "---  ------  --------------  ----- \n",
      " 0   문장      16510 non-null  object\n",
      " 1   유형      16510 non-null  object\n",
      " 2   극성      16510 non-null  object\n",
      " 3   시제      16510 non-null  object\n",
      " 4   확실성     16510 non-null  object\n",
      " 5   label   16510 non-null  object\n",
      "dtypes: object(6)\n",
      "memory usage: 902.9+ KB\n"
     ]
    }
   ],
   "source": [
    "# 중복 제거\n",
    "df = df.drop_duplicates()\n",
    "df.info()"
   ]
  },
  {
   "cell_type": "code",
   "execution_count": 10,
   "id": "d547b0cd",
   "metadata": {
    "ExecuteTime": {
     "end_time": "2023-01-02T01:39:04.374653Z",
     "start_time": "2023-01-02T01:39:04.358414Z"
    }
   },
   "outputs": [
    {
     "data": {
      "text/html": [
       "<div>\n",
       "<style scoped>\n",
       "    .dataframe tbody tr th:only-of-type {\n",
       "        vertical-align: middle;\n",
       "    }\n",
       "\n",
       "    .dataframe tbody tr th {\n",
       "        vertical-align: top;\n",
       "    }\n",
       "\n",
       "    .dataframe thead th {\n",
       "        text-align: right;\n",
       "    }\n",
       "</style>\n",
       "<table border=\"1\" class=\"dataframe\">\n",
       "  <thead>\n",
       "    <tr style=\"text-align: right;\">\n",
       "      <th></th>\n",
       "      <th>문장</th>\n",
       "      <th>유형</th>\n",
       "      <th>극성</th>\n",
       "      <th>시제</th>\n",
       "      <th>확실성</th>\n",
       "      <th>label</th>\n",
       "    </tr>\n",
       "  </thead>\n",
       "  <tbody>\n",
       "    <tr>\n",
       "      <th>2108</th>\n",
       "      <td>직접적으로 암 덩어리를 없애거나 크기를 줄이고 암세포를 죽이기 위한 치료다.</td>\n",
       "      <td>사실형</td>\n",
       "      <td>긍정</td>\n",
       "      <td>현재</td>\n",
       "      <td>불확실</td>\n",
       "      <td>사실형-긍정-현재-불확실</td>\n",
       "    </tr>\n",
       "    <tr>\n",
       "      <th>15167</th>\n",
       "      <td>직접적으로 암 덩어리를 없애거나 크기를 줄이고 암세포를 죽이기 위한 치료다.</td>\n",
       "      <td>사실형</td>\n",
       "      <td>긍정</td>\n",
       "      <td>현재</td>\n",
       "      <td>확실</td>\n",
       "      <td>사실형-긍정-현재-확실</td>\n",
       "    </tr>\n",
       "  </tbody>\n",
       "</table>\n",
       "</div>"
      ],
      "text/plain": [
       "                                               문장   유형  극성  시제  확실성  \\\n",
       "2108   직접적으로 암 덩어리를 없애거나 크기를 줄이고 암세포를 죽이기 위한 치료다.  사실형  긍정  현재  불확실   \n",
       "15167  직접적으로 암 덩어리를 없애거나 크기를 줄이고 암세포를 죽이기 위한 치료다.  사실형  긍정  현재   확실   \n",
       "\n",
       "               label  \n",
       "2108   사실형-긍정-현재-불확실  \n",
       "15167   사실형-긍정-현재-확실  "
      ]
     },
     "execution_count": 10,
     "metadata": {},
     "output_type": "execute_result"
    }
   ],
   "source": [
    "# label이 다르지만 같은 문장 존재\n",
    "sent_dup = df[df['문장'].duplicated()]['문장'].tolist()\n",
    "df[df['문장'] == sent_dup[3]]"
   ]
  },
  {
   "cell_type": "code",
   "execution_count": 11,
   "id": "661f4d90",
   "metadata": {
    "ExecuteTime": {
     "end_time": "2023-01-02T01:39:04.390072Z",
     "start_time": "2023-01-02T01:39:04.374653Z"
    }
   },
   "outputs": [
    {
     "data": {
      "text/plain": [
       "['박근혜 정권에서 블랙리스트에 올라 지난 2014년 타의로 미국으로 떠난 이 부회장은 해외 엔터테인먼트 업계에서 지속적으로 활동해온 것으로 알려졌다.',\n",
       " '이들 게임은 국내 구글 플레이 매출 톱10 진입이 예상되는 기대작이다.',\n",
       " '각 레이스가 종료되면 ＇우마무스메＇들이 무대에 올라 눈과 귀를 즐겁게하는 공연을 펼친다.',\n",
       " '직접적으로 암 덩어리를 없애거나 크기를 줄이고 암세포를 죽이기 위한 치료다.']"
      ]
     },
     "execution_count": 11,
     "metadata": {},
     "output_type": "execute_result"
    }
   ],
   "source": [
    "sent_dup"
   ]
  },
  {
   "cell_type": "code",
   "execution_count": 12,
   "id": "0d3fd9b2",
   "metadata": {
    "ExecuteTime": {
     "end_time": "2023-01-02T01:39:04.409046Z",
     "start_time": "2023-01-02T01:39:04.392112Z"
    }
   },
   "outputs": [
    {
     "data": {
      "text/plain": [
       "count    16510.000000\n",
       "mean        63.842520\n",
       "std         35.488533\n",
       "min          7.000000\n",
       "25%         40.000000\n",
       "50%         57.000000\n",
       "75%         79.000000\n",
       "max        534.000000\n",
       "Name: 문장, dtype: float64"
      ]
     },
     "execution_count": 12,
     "metadata": {},
     "output_type": "execute_result"
    }
   ],
   "source": [
    "# 문장길이 확인\n",
    "sent_len = df['문장'].apply(len)\n",
    "sent_len.describe()"
   ]
  },
  {
   "cell_type": "code",
   "execution_count": 13,
   "id": "d0f595b1",
   "metadata": {
    "ExecuteTime": {
     "end_time": "2023-01-02T01:39:04.418419Z",
     "start_time": "2023-01-02T01:39:04.409046Z"
    },
    "scrolled": true
   },
   "outputs": [
    {
     "name": "stdout",
     "output_type": "stream",
     "text": [
      "3959\n",
      "2081\n",
      "1106\n",
      "443\n",
      "125\n",
      "31\n"
     ]
    }
   ],
   "source": [
    "print(sent_len[sent_len > 80].count())\n",
    "print(sent_len[sent_len > 100].count())\n",
    "print(sent_len[sent_len > 120].count())\n",
    "print(sent_len[sent_len > 150].count())\n",
    "print(sent_len[sent_len > 200].count())\n",
    "print(sent_len[sent_len > 250].count())"
   ]
  },
  {
   "cell_type": "markdown",
   "id": "365d34c6",
   "metadata": {},
   "source": [
    "### 2. 데이터 전처리"
   ]
  },
  {
   "cell_type": "code",
   "execution_count": 14,
   "id": "a73f7acb",
   "metadata": {
    "ExecuteTime": {
     "end_time": "2023-01-02T01:39:04.436125Z",
     "start_time": "2023-01-02T01:39:04.419910Z"
    }
   },
   "outputs": [
    {
     "data": {
      "text/html": [
       "<div>\n",
       "<style scoped>\n",
       "    .dataframe tbody tr th:only-of-type {\n",
       "        vertical-align: middle;\n",
       "    }\n",
       "\n",
       "    .dataframe tbody tr th {\n",
       "        vertical-align: top;\n",
       "    }\n",
       "\n",
       "    .dataframe thead th {\n",
       "        text-align: right;\n",
       "    }\n",
       "</style>\n",
       "<table border=\"1\" class=\"dataframe\">\n",
       "  <thead>\n",
       "    <tr style=\"text-align: right;\">\n",
       "      <th></th>\n",
       "      <th>문장</th>\n",
       "      <th>유형</th>\n",
       "      <th>극성</th>\n",
       "      <th>시제</th>\n",
       "      <th>확실성</th>\n",
       "      <th>label</th>\n",
       "    </tr>\n",
       "  </thead>\n",
       "  <tbody>\n",
       "    <tr>\n",
       "      <th>0</th>\n",
       "      <td>0.75%포인트 금리 인상은 1994년 이후 28년 만에 처음이다.</td>\n",
       "      <td>사실형</td>\n",
       "      <td>긍정</td>\n",
       "      <td>현재</td>\n",
       "      <td>확실</td>\n",
       "      <td>사실형-긍정-현재-확실</td>\n",
       "    </tr>\n",
       "    <tr>\n",
       "      <th>1</th>\n",
       "      <td>이어 ＂앞으로 전문가들과 함께 4주 단위로 상황을 재평가할 예정＂이라며 ＂그 이전이...</td>\n",
       "      <td>사실형</td>\n",
       "      <td>긍정</td>\n",
       "      <td>과거</td>\n",
       "      <td>확실</td>\n",
       "      <td>사실형-긍정-과거-확실</td>\n",
       "    </tr>\n",
       "    <tr>\n",
       "      <th>2</th>\n",
       "      <td>정부가 고유가 대응을 위해 7월부터 연말까지 유류세 인하 폭을 30%에서 37%까지...</td>\n",
       "      <td>사실형</td>\n",
       "      <td>긍정</td>\n",
       "      <td>미래</td>\n",
       "      <td>확실</td>\n",
       "      <td>사실형-긍정-미래-확실</td>\n",
       "    </tr>\n",
       "    <tr>\n",
       "      <th>3</th>\n",
       "      <td>서울시는 올해 3월 즉시 견인 유예시간 60분을 제공하겠다고 밝혔지만, 하루 만에 ...</td>\n",
       "      <td>사실형</td>\n",
       "      <td>긍정</td>\n",
       "      <td>과거</td>\n",
       "      <td>확실</td>\n",
       "      <td>사실형-긍정-과거-확실</td>\n",
       "    </tr>\n",
       "    <tr>\n",
       "      <th>4</th>\n",
       "      <td>익사한 자는 사다리에 태워 거꾸로 놓고 소금으로 코를 막아 가득 채운다.</td>\n",
       "      <td>사실형</td>\n",
       "      <td>긍정</td>\n",
       "      <td>현재</td>\n",
       "      <td>확실</td>\n",
       "      <td>사실형-긍정-현재-확실</td>\n",
       "    </tr>\n",
       "  </tbody>\n",
       "</table>\n",
       "</div>"
      ],
      "text/plain": [
       "                                                  문장   유형  극성  시제 확실성  \\\n",
       "0              0.75%포인트 금리 인상은 1994년 이후 28년 만에 처음이다.  사실형  긍정  현재  확실   \n",
       "1  이어 ＂앞으로 전문가들과 함께 4주 단위로 상황을 재평가할 예정＂이라며 ＂그 이전이...  사실형  긍정  과거  확실   \n",
       "2  정부가 고유가 대응을 위해 7월부터 연말까지 유류세 인하 폭을 30%에서 37%까지...  사실형  긍정  미래  확실   \n",
       "3  서울시는 올해 3월 즉시 견인 유예시간 60분을 제공하겠다고 밝혔지만, 하루 만에 ...  사실형  긍정  과거  확실   \n",
       "4           익사한 자는 사다리에 태워 거꾸로 놓고 소금으로 코를 막아 가득 채운다.  사실형  긍정  현재  확실   \n",
       "\n",
       "          label  \n",
       "0  사실형-긍정-현재-확실  \n",
       "1  사실형-긍정-과거-확실  \n",
       "2  사실형-긍정-미래-확실  \n",
       "3  사실형-긍정-과거-확실  \n",
       "4  사실형-긍정-현재-확실  "
      ]
     },
     "execution_count": 14,
     "metadata": {},
     "output_type": "execute_result"
    }
   ],
   "source": [
    "sent_type = ['사실형', '추론형', '대화형', '예측형']\n",
    "sent_polarity = ['긍정', '부정', '미정']\n",
    "sent_tense = ['과거', '현재', '미래']\n",
    "sent_certainty = ['확실', '불확실']\n",
    "df.head()"
   ]
  },
  {
   "cell_type": "code",
   "execution_count": 15,
   "id": "293c3ad1",
   "metadata": {
    "ExecuteTime": {
     "end_time": "2023-01-02T01:39:04.451535Z",
     "start_time": "2023-01-02T01:39:04.436125Z"
    }
   },
   "outputs": [
    {
     "data": {
      "text/plain": [
       "[[1, 0, 0, 0], [1, 0, 0], [0, 1, 0], [1, 0]]"
      ]
     },
     "execution_count": 15,
     "metadata": {},
     "output_type": "execute_result"
    }
   ],
   "source": [
    "asdf = '사실형-긍정-현재-확실'\n",
    "\n",
    "features = [sent_type, sent_polarity, sent_tense, sent_certainty]\n",
    "def makeLabel(label):\n",
    "    sp = label.split('-')\n",
    "    result = []\n",
    "    for typ, feat in zip(sp, features):\n",
    "        temp = [0 for _ in range(len(feat))]\n",
    "        for i, f in enumerate(feat):\n",
    "            if typ == f:\n",
    "                temp[i] = 1\n",
    "        result.append(temp)\n",
    "    return result\n",
    "\n",
    "makeLabel(asdf)"
   ]
  },
  {
   "cell_type": "code",
   "execution_count": 16,
   "id": "9943977c",
   "metadata": {
    "ExecuteTime": {
     "end_time": "2023-01-02T01:39:04.535109Z",
     "start_time": "2023-01-02T01:39:04.451535Z"
    }
   },
   "outputs": [
    {
     "data": {
      "text/plain": [
       "[[1, 0, 0, 0], [1, 0, 0], [0, 1, 0], [1, 0]]"
      ]
     },
     "execution_count": 16,
     "metadata": {},
     "output_type": "execute_result"
    }
   ],
   "source": [
    "label = df['label'].apply(makeLabel)\n",
    "label[:5][0]"
   ]
  },
  {
   "cell_type": "code",
   "execution_count": 17,
   "id": "faa2746f",
   "metadata": {
    "ExecuteTime": {
     "end_time": "2023-01-02T01:39:05.664672Z",
     "start_time": "2023-01-02T01:39:04.536078Z"
    }
   },
   "outputs": [],
   "source": [
    "MAX_LEN = 200\n",
    "\n",
    "# 사전학습 모델\n",
    "# check_point = 'klue/roberta-small'\n",
    "# check_point = 'snunlp/KR-FinBert-SC'\n",
    "check_point = \"snunlp/KR-Medium\"\n",
    "# check_point = \"amberoad/bert-multilingual-passage-reranking-msmarco\"\n",
    "# check_point = \"klue/roberta-large\"\n",
    "\n",
    "tokenizer = AutoTokenizer.from_pretrained(check_point)\n",
    "\n",
    "# train data\n",
    "document = df['문장']\n",
    "\n",
    "# target\n",
    "target = df['label'].apply(makeLabel)\n",
    "\n",
    "# x_train, x_temp, y_train, y_temp = train_test_split(document, target, test_size=0.3)\n",
    "# x_valid, x_test, y_valid, y_test = train_test_split(x_temp, y_temp, test_size=0.5)"
   ]
  },
  {
   "cell_type": "code",
   "execution_count": 18,
   "id": "39307da4",
   "metadata": {
    "ExecuteTime": {
     "end_time": "2023-01-02T01:39:05.671888Z",
     "start_time": "2023-01-02T01:39:05.664672Z"
    }
   },
   "outputs": [],
   "source": [
    "def bert_tokenizer(sent, max_len):\n",
    "    encoded_dict = tokenizer.encode_plus(\n",
    "        text = sent,\n",
    "        add_special_tokens = True,      \n",
    "        max_length = max_len,           \n",
    "        pad_to_max_length = True,\n",
    "        return_attention_mask = True,   \n",
    "        truncation = True\n",
    "    )\n",
    "    \n",
    "    input_id = encoded_dict['input_ids']\n",
    "    attention_mask = encoded_dict['attention_mask']\n",
    "    token_type_id = encoded_dict['token_type_ids']\n",
    "    \n",
    "    return input_id, attention_mask, token_type_id\n",
    "\n",
    "\n",
    "def build_data(doc):\n",
    "    x_ids = []\n",
    "    x_msk = []\n",
    "    x_typ = []\n",
    "\n",
    "    for sent in tqdm(doc):\n",
    "        input_id, attention_mask, token_type_id = bert_tokenizer(sent, MAX_LEN)\n",
    "        x_ids.append(input_id)\n",
    "        x_msk.append(attention_mask)\n",
    "        x_typ.append(token_type_id)\n",
    "\n",
    "    x_ids = np.array(x_ids, dtype=int)\n",
    "    x_msk = np.array(x_msk, dtype=int)\n",
    "    x_typ = np.array(x_typ, dtype=int)\n",
    "\n",
    "    return x_ids, x_msk, x_typ"
   ]
  },
  {
   "cell_type": "code",
   "execution_count": 20,
   "id": "243aaf29",
   "metadata": {
    "ExecuteTime": {
     "end_time": "2023-01-02T01:39:05.700429Z",
     "start_time": "2023-01-02T01:39:05.679659Z"
    }
   },
   "outputs": [],
   "source": [
    "def make_labels(dataset):\n",
    "    types = []\n",
    "    polars = []\n",
    "    tenses = []\n",
    "    certains = []\n",
    "    for i, data in enumerate(dataset):\n",
    "        types.append(data[0])\n",
    "        polars.append(data[1])\n",
    "        tenses.append(data[2])\n",
    "        certains.append(data[3])\n",
    "    \n",
    "    return np.array(types), np.array(polars), np.array(tenses), np.array(certains)"
   ]
  },
  {
   "cell_type": "code",
   "execution_count": 21,
   "id": "c50682a0",
   "metadata": {
    "ExecuteTime": {
     "end_time": "2023-01-02T01:39:08.789283Z",
     "start_time": "2023-01-02T01:39:05.700429Z"
    }
   },
   "outputs": [
    {
     "name": "stderr",
     "output_type": "stream",
     "text": [
      "100%|██████████████████████████████████████████████████████████████████████████| 16510/16510 [00:02<00:00, 6258.73it/s]\n"
     ]
    }
   ],
   "source": [
    "# All data\n",
    "x_train_ids, x_train_msk, x_train_typ = build_data(document)\n",
    "x_train = [x_train_ids, x_train_msk, x_train_typ]\n",
    "\n",
    "types, polars, tenses, certains = make_labels(target)"
   ]
  },
  {
   "cell_type": "markdown",
   "id": "ebbe2cd4",
   "metadata": {},
   "source": [
    "### 3. 모델 정의 및 훈련"
   ]
  },
  {
   "cell_type": "code",
   "execution_count": 24,
   "id": "4cecc264",
   "metadata": {
    "ExecuteTime": {
     "end_time": "2023-01-02T01:39:17.421331Z",
     "start_time": "2023-01-02T01:39:08.806943Z"
    }
   },
   "outputs": [
    {
     "name": "stderr",
     "output_type": "stream",
     "text": [
      "Some weights of the PyTorch model were not used when initializing the TF 2.0 model TFBertModel: ['cls.predictions.bias', 'cls.seq_relationship.bias', 'cls.predictions.decoder.bias', 'bert.embeddings.position_ids', 'cls.predictions.transform.LayerNorm.bias', 'cls.predictions.decoder.weight', 'cls.predictions.transform.LayerNorm.weight', 'cls.seq_relationship.weight', 'cls.predictions.transform.dense.bias', 'cls.predictions.transform.dense.weight']\n",
      "- This IS expected if you are initializing TFBertModel from a PyTorch model trained on another task or with another architecture (e.g. initializing a TFBertForSequenceClassification model from a BertForPreTraining model).\n",
      "- This IS NOT expected if you are initializing TFBertModel from a PyTorch model that you expect to be exactly identical (e.g. initializing a TFBertForSequenceClassification model from a BertForSequenceClassification model).\n",
      "All the weights of TFBertModel were initialized from the PyTorch model.\n",
      "If your task is similar to the task the model of the checkpoint was trained on, you can already use TFBertModel for predictions without further training.\n"
     ]
    }
   ],
   "source": [
    "bert = TFAutoModel.from_pretrained(check_point, from_pt=True)\n",
    "bert.trainable = False"
   ]
  },
  {
   "cell_type": "code",
   "execution_count": 35,
   "id": "533f27ea",
   "metadata": {
    "ExecuteTime": {
     "end_time": "2023-01-02T01:43:50.456140Z",
     "start_time": "2023-01-02T01:43:48.639087Z"
    }
   },
   "outputs": [],
   "source": [
    "# BERT 입력\n",
    "# ---------\n",
    "x_input_ids = Input(batch_shape = (None, MAX_LEN), dtype = tf.int32)\n",
    "x_input_msk = Input(batch_shape = (None, MAX_LEN), dtype = tf.int32)\n",
    "x_input_typ = Input(batch_shape = (None, MAX_LEN), dtype = tf.int32)\n",
    "\n",
    "# BERT 출력\n",
    "# [0]: (None, 60, 768) - sequence_output, \n",
    "# [1]: (None, 768) - pooled_output (모델의 맨 마지막 layer의 CLS토큰 벡터)\n",
    "# ------------------------------------------------------------------------\n",
    "output_bert = bert([x_input_ids, x_input_msk, x_input_typ])[1]\n",
    "\n",
    "type_drop = Dropout(0.2)(output_bert)\n",
    "type_out = Dense(4, activation = 'softmax')(type_drop)\n",
    "polar_drop = Dropout(0.2)(output_bert)\n",
    "polar_out = Dense(3, activation = 'softmax')(polar_drop)\n",
    "tense_drop = Dropout(0.2)(output_bert)\n",
    "tense_out = Dense(3, activation = 'softmax')(tense_drop)\n",
    "certain_drop = Dropout(0.2)(output_bert)\n",
    "certain_out = Dense(2, activation = 'softmax')(certain_drop)\n",
    "\n",
    "type_out_model = Model([x_input_ids, x_input_msk, x_input_typ], type_out)\n",
    "type_out_model.compile(loss='categorical_crossentropy', optimizer=Adam(learning_rate=0.01))\n",
    "\n",
    "polar_out_model = Model([x_input_ids, x_input_msk, x_input_typ], polar_out)\n",
    "polar_out_model.compile(loss='categorical_crossentropy', optimizer=Adam(learning_rate=0.01))\n",
    "\n",
    "tense_out_model = Model([x_input_ids, x_input_msk, x_input_typ], tense_out)\n",
    "tense_out_model.compile(loss='categorical_crossentropy', optimizer=Adam(learning_rate=0.01))\n",
    "\n",
    "certain_out_model = Model([x_input_ids, x_input_msk, x_input_typ], certain_out)\n",
    "certain_out_model.compile(loss='categorical_crossentropy', optimizer=Adam(learning_rate=0.01))"
   ]
  },
  {
   "cell_type": "code",
   "execution_count": 36,
   "id": "10fe9d91",
   "metadata": {
    "ExecuteTime": {
     "end_time": "2023-01-02T02:23:47.399866Z",
     "start_time": "2023-01-02T01:43:52.212487Z"
    }
   },
   "outputs": [
    {
     "name": "stdout",
     "output_type": "stream",
     "text": [
      "Epoch 1/3\n",
      "516/516 [==============================] - 205s 372ms/step - loss: 0.4791\n",
      "Epoch 2/3\n",
      "516/516 [==============================] - 193s 375ms/step - loss: 0.4527\n",
      "Epoch 3/3\n",
      "516/516 [==============================] - 192s 372ms/step - loss: 0.4573\n",
      "Epoch 1/3\n",
      "516/516 [==============================] - 208s 378ms/step - loss: 0.1904\n",
      "Epoch 2/3\n",
      "516/516 [==============================] - 195s 379ms/step - loss: 0.1916\n",
      "Epoch 3/3\n",
      "516/516 [==============================] - 197s 382ms/step - loss: 0.1959\n",
      "Epoch 1/3\n",
      "516/516 [==============================] - 211s 379ms/step - loss: 0.5934\n",
      "Epoch 2/3\n",
      "516/516 [==============================] - 202s 392ms/step - loss: 0.5620\n",
      "Epoch 3/3\n",
      "516/516 [==============================] - 191s 370ms/step - loss: 0.5723\n",
      "Epoch 1/3\n",
      "516/516 [==============================] - 208s 376ms/step - loss: 0.2970\n",
      "Epoch 2/3\n",
      "516/516 [==============================] - 194s 375ms/step - loss: 0.3051\n",
      "Epoch 3/3\n",
      "516/516 [==============================] - 199s 385ms/step - loss: 0.3094\n"
     ]
    },
    {
     "data": {
      "text/plain": [
       "<keras.callbacks.History at 0x1d1b8222730>"
      ]
     },
     "execution_count": 36,
     "metadata": {},
     "output_type": "execute_result"
    }
   ],
   "source": [
    "type_out_model.fit(x_train, types, batch_size=32, epochs=3)\n",
    "polar_out_model.fit(x_train, polars, batch_size=32, epochs=3)\n",
    "tense_out_model.fit(x_train, tenses, batch_size=32, epochs=3)\n",
    "certain_out_model.fit(x_train, certains, batch_size=32, epochs=3)"
   ]
  },
  {
   "cell_type": "markdown",
   "id": "cab50c64",
   "metadata": {},
   "source": [
    "### 4. 모델 성능분석"
   ]
  },
  {
   "cell_type": "code",
   "execution_count": 37,
   "id": "3b39f7cc",
   "metadata": {
    "ExecuteTime": {
     "end_time": "2023-01-02T02:27:08.857301Z",
     "start_time": "2023-01-02T02:27:08.847342Z"
    }
   },
   "outputs": [],
   "source": [
    "# 예측결과를 갖고 가장 높은 확률을 갖는 부분을 1로 리턴\n",
    "def compute_result(pred):\n",
    "    result = [[0 for _ in range(len(pred[0]))] for _ in range(len(pred))]\n",
    "    for i, p in enumerate(pred):\n",
    "        max_idx = p.argmax()\n",
    "        result[i][max_idx] = 1\n",
    "    return result\n",
    "\n",
    "# 정확도 계산\n",
    "def compute_accuracy(real, pred):\n",
    "    total = len(real)\n",
    "    cnt = 0\n",
    "    for lb, pd in zip(real, pred):\n",
    "        for l, p in zip(lb, pd):\n",
    "            if l != p:\n",
    "                break\n",
    "        else:\n",
    "            cnt += 1\n",
    "            \n",
    "    return cnt / total"
   ]
  },
  {
   "cell_type": "code",
   "execution_count": 38,
   "id": "a13fffb3",
   "metadata": {
    "ExecuteTime": {
     "end_time": "2023-01-02T02:27:08.872232Z",
     "start_time": "2023-01-02T02:27:08.858306Z"
    }
   },
   "outputs": [],
   "source": [
    "# 성능 테스트\n",
    "# models = [type_out_model, polar_out_model, tense_out_model, certain_out_model]\n",
    "# labels = [l_type_test, l_polar_test, l_tense_test, l_certain_test]\n",
    "# result = []\n",
    "# for md, lb in zip(models, labels):\n",
    "#     pred = md.predict(x_test)\n",
    "#     temp_result = compute_result(pred)\n",
    "#     acc = compute_accuracy(lb, temp_result)\n",
    "#     result.append(round(acc, 4))\n",
    "    \n",
    "# result\n",
    "\n",
    "# # [0.7734, 0.9552, 0.3728, 0.895]\n",
    "# # [0.8207, 0.9544, 0.4176, 0.9055]"
   ]
  },
  {
   "cell_type": "markdown",
   "id": "f87e2124",
   "metadata": {},
   "source": [
    "### 5. 결과제출"
   ]
  },
  {
   "cell_type": "code",
   "execution_count": 39,
   "id": "0fd8967e",
   "metadata": {
    "ExecuteTime": {
     "end_time": "2023-01-02T02:27:10.472672Z",
     "start_time": "2023-01-02T02:27:08.907139Z"
    }
   },
   "outputs": [
    {
     "name": "stderr",
     "output_type": "stream",
     "text": [
      "100%|████████████████████████████████████████████████████████████████████████████| 7090/7090 [00:01<00:00, 5153.19it/s]\n"
     ]
    }
   ],
   "source": [
    "df_test.head()\n",
    "test_doc = df_test['문장']\n",
    "x_tt_ids, x_tt_msk, x_tt_typ = build_data(test_doc)\n",
    "x_tt = [x_tt_ids, x_tt_msk, x_tt_typ]"
   ]
  },
  {
   "cell_type": "code",
   "execution_count": 40,
   "id": "fc52de02",
   "metadata": {
    "ExecuteTime": {
     "end_time": "2023-01-02T02:32:16.030166Z",
     "start_time": "2023-01-02T02:27:10.472672Z"
    }
   },
   "outputs": [
    {
     "name": "stdout",
     "output_type": "stream",
     "text": [
      "222/222 [==============================] - 78s 334ms/step\n",
      "222/222 [==============================] - 76s 327ms/step\n",
      "222/222 [==============================] - 75s 325ms/step\n",
      "222/222 [==============================] - 76s 324ms/step\n"
     ]
    }
   ],
   "source": [
    "models = [type_out_model, polar_out_model, tense_out_model, certain_out_model]\n",
    "predict = []\n",
    "for md in models:\n",
    "    pred = md.predict(x_tt)\n",
    "    result = compute_result(pred)\n",
    "    predict.append(result)"
   ]
  },
  {
   "cell_type": "code",
   "execution_count": 41,
   "id": "9489fee6",
   "metadata": {
    "ExecuteTime": {
     "end_time": "2023-01-02T02:32:16.061403Z",
     "start_time": "2023-01-02T02:32:16.030166Z"
    }
   },
   "outputs": [],
   "source": [
    "# sent_type = ['사실형', '추론형', '대화형', '예측형']\n",
    "# sent_polarity = ['긍정', '부정', '미정']\n",
    "# sent_tense = ['과거', '현재', '미래']\n",
    "# sent_certainty = ['확실', '불확실']\n",
    "\n",
    "ans_type = {\n",
    "    0: '사실형',\n",
    "    1: '추론형',\n",
    "    2: '대화형',\n",
    "    3: '예측형'\n",
    "}\n",
    "ans_polar = {\n",
    "    0: '긍정',\n",
    "    1: '부정',\n",
    "    2: '미정'\n",
    "}\n",
    "ans_tense = {\n",
    "    0: '과거',\n",
    "    1: '현재',\n",
    "    2: '미래'\n",
    "}\n",
    "ans_certain = {\n",
    "    0: '확실',\n",
    "    1: '불확실'\n",
    "}\n",
    "\n",
    "answer = []\n",
    "ans_list = [ans_type, ans_polar, ans_tense, ans_certain]\n",
    "for pred, ans in zip(predict, ans_list):\n",
    "    temp_ans = []\n",
    "    for p in pred:\n",
    "        for i, e in enumerate(p):\n",
    "            if e == 0:\n",
    "                continue\n",
    "            idx = i\n",
    "            temp_ans.append(ans[idx])\n",
    "            break\n",
    "    answer.append(temp_ans)"
   ]
  },
  {
   "cell_type": "code",
   "execution_count": 42,
   "id": "65ab8e48",
   "metadata": {
    "ExecuteTime": {
     "end_time": "2023-01-02T02:32:16.078393Z",
     "start_time": "2023-01-02T02:32:16.063102Z"
    }
   },
   "outputs": [
    {
     "data": {
      "text/plain": [
       "array([['사실형', '사실형', '사실형', ..., '사실형', '사실형', '사실형'],\n",
       "       ['긍정', '긍정', '긍정', ..., '긍정', '긍정', '긍정'],\n",
       "       ['현재', '현재', '과거', ..., '현재', '미래', '과거'],\n",
       "       ['확실', '확실', '확실', ..., '확실', '불확실', '확실']], dtype='<U3')"
      ]
     },
     "execution_count": 42,
     "metadata": {},
     "output_type": "execute_result"
    }
   ],
   "source": [
    "answer = np.array(answer)\n",
    "answer"
   ]
  },
  {
   "cell_type": "code",
   "execution_count": 43,
   "id": "051b4475",
   "metadata": {
    "ExecuteTime": {
     "end_time": "2023-01-02T02:32:16.095150Z",
     "start_time": "2023-01-02T02:32:16.079528Z"
    }
   },
   "outputs": [],
   "source": [
    "submit = []\n",
    "for i in range(len(answer[0])):\n",
    "    result = '-'.join(answer[:, i].tolist())\n",
    "    submit.append(result)"
   ]
  },
  {
   "cell_type": "code",
   "execution_count": 44,
   "id": "8a9ec0f2",
   "metadata": {
    "ExecuteTime": {
     "end_time": "2023-01-02T02:32:16.124070Z",
     "start_time": "2023-01-02T02:32:16.096419Z"
    }
   },
   "outputs": [
    {
     "data": {
      "text/plain": [
       "['사실형-긍정-현재-확실',\n",
       " '사실형-긍정-현재-확실',\n",
       " '사실형-긍정-과거-확실',\n",
       " '사실형-긍정-과거-확실',\n",
       " '사실형-긍정-과거-확실']"
      ]
     },
     "execution_count": 44,
     "metadata": {},
     "output_type": "execute_result"
    }
   ],
   "source": [
    "submit[:5]"
   ]
  },
  {
   "cell_type": "code",
   "execution_count": 45,
   "id": "dc4d0d61",
   "metadata": {
    "ExecuteTime": {
     "end_time": "2023-01-02T02:32:16.139691Z",
     "start_time": "2023-01-02T02:32:16.124070Z"
    }
   },
   "outputs": [
    {
     "data": {
      "text/html": [
       "<div>\n",
       "<style scoped>\n",
       "    .dataframe tbody tr th:only-of-type {\n",
       "        vertical-align: middle;\n",
       "    }\n",
       "\n",
       "    .dataframe tbody tr th {\n",
       "        vertical-align: top;\n",
       "    }\n",
       "\n",
       "    .dataframe thead th {\n",
       "        text-align: right;\n",
       "    }\n",
       "</style>\n",
       "<table border=\"1\" class=\"dataframe\">\n",
       "  <thead>\n",
       "    <tr style=\"text-align: right;\">\n",
       "      <th></th>\n",
       "      <th>ID</th>\n",
       "      <th>label</th>\n",
       "    </tr>\n",
       "  </thead>\n",
       "  <tbody>\n",
       "    <tr>\n",
       "      <th>0</th>\n",
       "      <td>TEST_0000</td>\n",
       "      <td>사실형-긍정-현재-확실</td>\n",
       "    </tr>\n",
       "    <tr>\n",
       "      <th>1</th>\n",
       "      <td>TEST_0001</td>\n",
       "      <td>사실형-긍정-현재-확실</td>\n",
       "    </tr>\n",
       "    <tr>\n",
       "      <th>2</th>\n",
       "      <td>TEST_0002</td>\n",
       "      <td>사실형-긍정-과거-확실</td>\n",
       "    </tr>\n",
       "    <tr>\n",
       "      <th>3</th>\n",
       "      <td>TEST_0003</td>\n",
       "      <td>사실형-긍정-과거-확실</td>\n",
       "    </tr>\n",
       "    <tr>\n",
       "      <th>4</th>\n",
       "      <td>TEST_0004</td>\n",
       "      <td>사실형-긍정-과거-확실</td>\n",
       "    </tr>\n",
       "  </tbody>\n",
       "</table>\n",
       "</div>"
      ],
      "text/plain": [
       "          ID         label\n",
       "0  TEST_0000  사실형-긍정-현재-확실\n",
       "1  TEST_0001  사실형-긍정-현재-확실\n",
       "2  TEST_0002  사실형-긍정-과거-확실\n",
       "3  TEST_0003  사실형-긍정-과거-확실\n",
       "4  TEST_0004  사실형-긍정-과거-확실"
      ]
     },
     "execution_count": 45,
     "metadata": {},
     "output_type": "execute_result"
    }
   ],
   "source": [
    "df_submit = df_test\n",
    "df_submit['label'] = submit\n",
    "df_submit = df_submit.drop(['문장'], axis=1)\n",
    "df_submit.head()"
   ]
  },
  {
   "cell_type": "code",
   "execution_count": 46,
   "id": "74332d77",
   "metadata": {
    "ExecuteTime": {
     "end_time": "2023-01-02T02:32:16.170671Z",
     "start_time": "2023-01-02T02:32:16.139691Z"
    }
   },
   "outputs": [],
   "source": [
    "df_submit.to_csv('submit_medium_drop.csv', index=False)"
   ]
  },
  {
   "cell_type": "code",
   "execution_count": null,
   "id": "300a09eb",
   "metadata": {},
   "outputs": [],
   "source": []
  }
 ],
 "metadata": {
  "hide_input": false,
  "kernelspec": {
   "display_name": "Python 3 (ipykernel)",
   "language": "python",
   "name": "python3"
  },
  "language_info": {
   "codemirror_mode": {
    "name": "ipython",
    "version": 3
   },
   "file_extension": ".py",
   "mimetype": "text/x-python",
   "name": "python",
   "nbconvert_exporter": "python",
   "pygments_lexer": "ipython3",
   "version": "3.9.12"
  },
  "latex_envs": {
   "LaTeX_envs_menu_present": true,
   "autoclose": false,
   "autocomplete": true,
   "bibliofile": "biblio.bib",
   "cite_by": "apalike",
   "current_citInitial": 1,
   "eqLabelWithNumbers": true,
   "eqNumInitial": 1,
   "hotkeys": {
    "equation": "Ctrl-E",
    "itemize": "Ctrl-I"
   },
   "labels_anchors": false,
   "latex_user_defs": false,
   "report_style_numbering": false,
   "user_envs_cfg": false
  },
  "toc": {
   "base_numbering": 1,
   "nav_menu": {},
   "number_sections": false,
   "sideBar": true,
   "skip_h1_title": false,
   "title_cell": "Table of Contents",
   "title_sidebar": "Contents",
   "toc_cell": false,
   "toc_position": {},
   "toc_section_display": true,
   "toc_window_display": false
  },
  "varInspector": {
   "cols": {
    "lenName": 16,
    "lenType": 16,
    "lenVar": 40
   },
   "kernels_config": {
    "python": {
     "delete_cmd_postfix": "",
     "delete_cmd_prefix": "del ",
     "library": "var_list.py",
     "varRefreshCmd": "print(var_dic_list())"
    },
    "r": {
     "delete_cmd_postfix": ") ",
     "delete_cmd_prefix": "rm(",
     "library": "var_list.r",
     "varRefreshCmd": "cat(var_dic_list()) "
    }
   },
   "types_to_exclude": [
    "module",
    "function",
    "builtin_function_or_method",
    "instance",
    "_Feature"
   ],
   "window_display": false
  }
 },
 "nbformat": 4,
 "nbformat_minor": 5
}
