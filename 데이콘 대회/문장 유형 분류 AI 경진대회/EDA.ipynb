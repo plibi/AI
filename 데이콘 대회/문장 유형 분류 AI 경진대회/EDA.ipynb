{
 "cells": [
  {
   "cell_type": "markdown",
   "id": "7c534fc1",
   "metadata": {},
   "source": [
    "# 문장 유형 분류 AI 경진대회\n",
    "\n",
    "- 대회: https://dacon.io/competitions/official/236037/overview/description"
   ]
  },
  {
   "cell_type": "markdown",
   "id": "6262bb58",
   "metadata": {},
   "source": [
    "## 데이터 로드 및 탐색"
   ]
  },
  {
   "cell_type": "code",
   "execution_count": 1,
   "id": "fdf0d684",
   "metadata": {
    "ExecuteTime": {
     "end_time": "2023-03-31T12:50:30.349864Z",
     "start_time": "2023-03-31T12:50:29.370718Z"
    }
   },
   "outputs": [],
   "source": [
    "import pandas as pd\n",
    "import numpy as np\n",
    "import matplotlib.pyplot as plt\n",
    "plt.rc('font', family='Malgun Gothic')"
   ]
  },
  {
   "cell_type": "code",
   "execution_count": 2,
   "id": "30e23b72",
   "metadata": {
    "ExecuteTime": {
     "end_time": "2023-03-31T12:50:30.476498Z",
     "start_time": "2023-03-31T12:50:30.350833Z"
    }
   },
   "outputs": [
    {
     "data": {
      "text/html": [
       "<div>\n",
       "<style scoped>\n",
       "    .dataframe tbody tr th:only-of-type {\n",
       "        vertical-align: middle;\n",
       "    }\n",
       "\n",
       "    .dataframe tbody tr th {\n",
       "        vertical-align: top;\n",
       "    }\n",
       "\n",
       "    .dataframe thead th {\n",
       "        text-align: right;\n",
       "    }\n",
       "</style>\n",
       "<table border=\"1\" class=\"dataframe\">\n",
       "  <thead>\n",
       "    <tr style=\"text-align: right;\">\n",
       "      <th></th>\n",
       "      <th>ID</th>\n",
       "      <th>문장</th>\n",
       "      <th>유형</th>\n",
       "      <th>극성</th>\n",
       "      <th>시제</th>\n",
       "      <th>확실성</th>\n",
       "      <th>label</th>\n",
       "    </tr>\n",
       "  </thead>\n",
       "  <tbody>\n",
       "    <tr>\n",
       "      <th>16536</th>\n",
       "      <td>TRAIN_16536</td>\n",
       "      <td>＇신동덤＇은 ＇신비한 동물사전＇과 ＇해리 포터＇ 시리즈를 잇는 마법 어드벤처물로, ...</td>\n",
       "      <td>사실형</td>\n",
       "      <td>긍정</td>\n",
       "      <td>과거</td>\n",
       "      <td>확실</td>\n",
       "      <td>사실형-긍정-과거-확실</td>\n",
       "    </tr>\n",
       "    <tr>\n",
       "      <th>16537</th>\n",
       "      <td>TRAIN_16537</td>\n",
       "      <td>수족냉증은 어릴 때부터 심했으며 관절은 어디 한 곳이 아니고 목, 어깨, 팔꿈치, ...</td>\n",
       "      <td>사실형</td>\n",
       "      <td>긍정</td>\n",
       "      <td>과거</td>\n",
       "      <td>확실</td>\n",
       "      <td>사실형-긍정-과거-확실</td>\n",
       "    </tr>\n",
       "    <tr>\n",
       "      <th>16538</th>\n",
       "      <td>TRAIN_16538</td>\n",
       "      <td>김금희 소설가는 ＂계약서 조정이 그리 어려운가 작가를 격려한다면서 그런 문구 하나 ...</td>\n",
       "      <td>사실형</td>\n",
       "      <td>긍정</td>\n",
       "      <td>과거</td>\n",
       "      <td>확실</td>\n",
       "      <td>사실형-긍정-과거-확실</td>\n",
       "    </tr>\n",
       "    <tr>\n",
       "      <th>16539</th>\n",
       "      <td>TRAIN_16539</td>\n",
       "      <td>1만명이 넘는 방문자수를 기록한 이번 전시회는 총 77개 작품을 넥슨 사옥을 그대로...</td>\n",
       "      <td>사실형</td>\n",
       "      <td>긍정</td>\n",
       "      <td>과거</td>\n",
       "      <td>불확실</td>\n",
       "      <td>사실형-긍정-과거-불확실</td>\n",
       "    </tr>\n",
       "    <tr>\n",
       "      <th>16540</th>\n",
       "      <td>TRAIN_16540</td>\n",
       "      <td>《목민심서》의 내용이다.</td>\n",
       "      <td>사실형</td>\n",
       "      <td>긍정</td>\n",
       "      <td>현재</td>\n",
       "      <td>확실</td>\n",
       "      <td>사실형-긍정-현재-확실</td>\n",
       "    </tr>\n",
       "  </tbody>\n",
       "</table>\n",
       "</div>"
      ],
      "text/plain": [
       "                ID                                                 문장   유형  \\\n",
       "16536  TRAIN_16536  ＇신동덤＇은 ＇신비한 동물사전＇과 ＇해리 포터＇ 시리즈를 잇는 마법 어드벤처물로, ...  사실형   \n",
       "16537  TRAIN_16537  수족냉증은 어릴 때부터 심했으며 관절은 어디 한 곳이 아니고 목, 어깨, 팔꿈치, ...  사실형   \n",
       "16538  TRAIN_16538  김금희 소설가는 ＂계약서 조정이 그리 어려운가 작가를 격려한다면서 그런 문구 하나 ...  사실형   \n",
       "16539  TRAIN_16539  1만명이 넘는 방문자수를 기록한 이번 전시회는 총 77개 작품을 넥슨 사옥을 그대로...  사실형   \n",
       "16540  TRAIN_16540                                      《목민심서》의 내용이다.  사실형   \n",
       "\n",
       "       극성  시제  확실성          label  \n",
       "16536  긍정  과거   확실   사실형-긍정-과거-확실  \n",
       "16537  긍정  과거   확실   사실형-긍정-과거-확실  \n",
       "16538  긍정  과거   확실   사실형-긍정-과거-확실  \n",
       "16539  긍정  과거  불확실  사실형-긍정-과거-불확실  \n",
       "16540  긍정  현재   확실   사실형-긍정-현재-확실  "
      ]
     },
     "execution_count": 2,
     "metadata": {},
     "output_type": "execute_result"
    }
   ],
   "source": [
    "file_path = 'data/'\n",
    "file_name = 'train.csv'\n",
    "df = pd.read_csv(file_path + file_name)\n",
    "df_test = pd.read_csv(file_path + 'test.csv')\n",
    "\n",
    "df.tail()"
   ]
  },
  {
   "cell_type": "code",
   "execution_count": 3,
   "id": "84629964",
   "metadata": {
    "ExecuteTime": {
     "end_time": "2023-03-31T12:50:30.508436Z",
     "start_time": "2023-03-31T12:50:30.477519Z"
    }
   },
   "outputs": [
    {
     "name": "stdout",
     "output_type": "stream",
     "text": [
      "<class 'pandas.core.frame.DataFrame'>\n",
      "RangeIndex: 16541 entries, 0 to 16540\n",
      "Data columns (total 7 columns):\n",
      " #   Column  Non-Null Count  Dtype \n",
      "---  ------  --------------  ----- \n",
      " 0   ID      16541 non-null  object\n",
      " 1   문장      16541 non-null  object\n",
      " 2   유형      16541 non-null  object\n",
      " 3   극성      16541 non-null  object\n",
      " 4   시제      16541 non-null  object\n",
      " 5   확실성     16541 non-null  object\n",
      " 6   label   16541 non-null  object\n",
      "dtypes: object(7)\n",
      "memory usage: 904.7+ KB\n"
     ]
    }
   ],
   "source": [
    "df.info()"
   ]
  },
  {
   "cell_type": "code",
   "execution_count": 4,
   "id": "2fe04735",
   "metadata": {
    "ExecuteTime": {
     "end_time": "2023-03-31T12:50:30.524392Z",
     "start_time": "2023-03-31T12:50:30.510406Z"
    }
   },
   "outputs": [
    {
     "data": {
      "text/html": [
       "<div>\n",
       "<style scoped>\n",
       "    .dataframe tbody tr th:only-of-type {\n",
       "        vertical-align: middle;\n",
       "    }\n",
       "\n",
       "    .dataframe tbody tr th {\n",
       "        vertical-align: top;\n",
       "    }\n",
       "\n",
       "    .dataframe thead th {\n",
       "        text-align: right;\n",
       "    }\n",
       "</style>\n",
       "<table border=\"1\" class=\"dataframe\">\n",
       "  <thead>\n",
       "    <tr style=\"text-align: right;\">\n",
       "      <th></th>\n",
       "      <th>문장</th>\n",
       "      <th>유형</th>\n",
       "      <th>극성</th>\n",
       "      <th>시제</th>\n",
       "      <th>확실성</th>\n",
       "      <th>label</th>\n",
       "    </tr>\n",
       "  </thead>\n",
       "  <tbody>\n",
       "    <tr>\n",
       "      <th>0</th>\n",
       "      <td>0.75%포인트 금리 인상은 1994년 이후 28년 만에 처음이다.</td>\n",
       "      <td>사실형</td>\n",
       "      <td>긍정</td>\n",
       "      <td>현재</td>\n",
       "      <td>확실</td>\n",
       "      <td>사실형-긍정-현재-확실</td>\n",
       "    </tr>\n",
       "    <tr>\n",
       "      <th>1</th>\n",
       "      <td>이어 ＂앞으로 전문가들과 함께 4주 단위로 상황을 재평가할 예정＂이라며 ＂그 이전이...</td>\n",
       "      <td>사실형</td>\n",
       "      <td>긍정</td>\n",
       "      <td>과거</td>\n",
       "      <td>확실</td>\n",
       "      <td>사실형-긍정-과거-확실</td>\n",
       "    </tr>\n",
       "    <tr>\n",
       "      <th>2</th>\n",
       "      <td>정부가 고유가 대응을 위해 7월부터 연말까지 유류세 인하 폭을 30%에서 37%까지...</td>\n",
       "      <td>사실형</td>\n",
       "      <td>긍정</td>\n",
       "      <td>미래</td>\n",
       "      <td>확실</td>\n",
       "      <td>사실형-긍정-미래-확실</td>\n",
       "    </tr>\n",
       "    <tr>\n",
       "      <th>3</th>\n",
       "      <td>서울시는 올해 3월 즉시 견인 유예시간 60분을 제공하겠다고 밝혔지만, 하루 만에 ...</td>\n",
       "      <td>사실형</td>\n",
       "      <td>긍정</td>\n",
       "      <td>과거</td>\n",
       "      <td>확실</td>\n",
       "      <td>사실형-긍정-과거-확실</td>\n",
       "    </tr>\n",
       "    <tr>\n",
       "      <th>4</th>\n",
       "      <td>익사한 자는 사다리에 태워 거꾸로 놓고 소금으로 코를 막아 가득 채운다.</td>\n",
       "      <td>사실형</td>\n",
       "      <td>긍정</td>\n",
       "      <td>현재</td>\n",
       "      <td>확실</td>\n",
       "      <td>사실형-긍정-현재-확실</td>\n",
       "    </tr>\n",
       "  </tbody>\n",
       "</table>\n",
       "</div>"
      ],
      "text/plain": [
       "                                                  문장   유형  극성  시제 확실성  \\\n",
       "0              0.75%포인트 금리 인상은 1994년 이후 28년 만에 처음이다.  사실형  긍정  현재  확실   \n",
       "1  이어 ＂앞으로 전문가들과 함께 4주 단위로 상황을 재평가할 예정＂이라며 ＂그 이전이...  사실형  긍정  과거  확실   \n",
       "2  정부가 고유가 대응을 위해 7월부터 연말까지 유류세 인하 폭을 30%에서 37%까지...  사실형  긍정  미래  확실   \n",
       "3  서울시는 올해 3월 즉시 견인 유예시간 60분을 제공하겠다고 밝혔지만, 하루 만에 ...  사실형  긍정  과거  확실   \n",
       "4           익사한 자는 사다리에 태워 거꾸로 놓고 소금으로 코를 막아 가득 채운다.  사실형  긍정  현재  확실   \n",
       "\n",
       "          label  \n",
       "0  사실형-긍정-현재-확실  \n",
       "1  사실형-긍정-과거-확실  \n",
       "2  사실형-긍정-미래-확실  \n",
       "3  사실형-긍정-과거-확실  \n",
       "4  사실형-긍정-현재-확실  "
      ]
     },
     "execution_count": 4,
     "metadata": {},
     "output_type": "execute_result"
    }
   ],
   "source": [
    "# ID열 제거\n",
    "df.drop('ID', axis=1, inplace=True)\n",
    "df.head()"
   ]
  },
  {
   "cell_type": "markdown",
   "id": "17d10215",
   "metadata": {},
   "source": [
    "### Label 살펴보기"
   ]
  },
  {
   "cell_type": "code",
   "execution_count": 5,
   "id": "c5839c8f",
   "metadata": {
    "ExecuteTime": {
     "end_time": "2023-03-31T12:50:30.540351Z",
     "start_time": "2023-03-31T12:50:30.525367Z"
    }
   },
   "outputs": [
    {
     "name": "stdout",
     "output_type": "stream",
     "text": [
      "대화 유형 종류: {'사실형': 13558, '추론형': 2151, '대화형': 575, '예측형': 257}\n",
      "대화 극성 종류: {'긍정': 15793, '부정': 565, '미정': 183}\n",
      "대화 시제 종류: {'과거': 8032, '현재': 6866, '미래': 1643}\n",
      "대화 확실성 종류: {'확실': 15192, '불확실': 1349}\n"
     ]
    }
   ],
   "source": [
    "# label 종류 및 수치 확인\n",
    "print('대화 유형 종류:', df['유형'].value_counts().to_dict())\n",
    "print('대화 극성 종류:', df['극성'].value_counts().to_dict())\n",
    "print('대화 시제 종류:', df['시제'].value_counts().to_dict())\n",
    "print('대화 확실성 종류:', df['확실성'].value_counts().to_dict())"
   ]
  },
  {
   "cell_type": "code",
   "execution_count": 6,
   "id": "dfbe103e",
   "metadata": {
    "ExecuteTime": {
     "end_time": "2023-03-31T12:50:30.965839Z",
     "start_time": "2023-03-31T12:50:30.541323Z"
    }
   },
   "outputs": [
    {
     "data": {
      "image/png": "[encoded data removed]",
      "text/plain": [
       "<Figure size 720x216 with 4 Axes>"
      ]
     },
     "metadata": {
      "needs_background": "light"
     },
     "output_type": "display_data"
    }
   ],
   "source": [
    "# 각 label 종류와 수치 시각화\n",
    "# => 매우 불균형\n",
    "conversation_type = df['유형'].value_counts().to_dict()\n",
    "conversation_polar = df['극성'].value_counts().to_dict()\n",
    "conversation_tense = df['시제'].value_counts().to_dict()\n",
    "conversation_certain = df['확실성'].value_counts().to_dict()\n",
    "\n",
    "plt.figure(figsize=(10, 3))\n",
    "# 유형\n",
    "plt.subplot(1, 4, 1)\n",
    "plt.bar(conversation_type.keys(), conversation_type.values())\n",
    "plt.title('유형')\n",
    "\n",
    "# 극성\n",
    "plt.subplot(1, 4, 2)\n",
    "plt.bar(conversation_polar.keys(), conversation_polar.values())\n",
    "plt.title('극성')\n",
    "\n",
    "# 시제\n",
    "plt.subplot(1, 4, 3)\n",
    "plt.bar(conversation_tense.keys(), conversation_tense.values())\n",
    "plt.title('시제')\n",
    "\n",
    "# 확실성\n",
    "plt.subplot(1, 4, 4)\n",
    "plt.bar(conversation_certain.keys(), conversation_certain.values())\n",
    "plt.title('확실성')\n",
    "\n",
    "plt.tight_layout()\n",
    "plt.show()"
   ]
  },
  {
   "cell_type": "code",
   "execution_count": 7,
   "id": "1d3d069b",
   "metadata": {
    "ExecuteTime": {
     "end_time": "2023-03-31T12:50:31.581908Z",
     "start_time": "2023-03-31T12:50:30.966845Z"
    }
   },
   "outputs": [
    {
     "data": {
      "image/png": "[encoded data removed]",
      "text/plain": [
       "<Figure size 504x864 with 1 Axes>"
      ]
     },
     "metadata": {
      "needs_background": "light"
     },
     "output_type": "display_data"
    }
   ],
   "source": [
    "# 전체 label 조합도 매우 불균형\n",
    "conversation_all = df['label'].value_counts().to_dict()\n",
    "\n",
    "plt.figure(figsize=(7, 12))\n",
    "plt.barh(list(conversation_all.keys())[::-1], list(conversation_all.values())[::-1])\n",
    "plt.title('Label')\n",
    "plt.tight_layout()\n",
    "plt.show()"
   ]
  },
  {
   "cell_type": "markdown",
   "id": "185341e8",
   "metadata": {},
   "source": [
    "### 결측치 및 중복값 확인"
   ]
  },
  {
   "cell_type": "code",
   "execution_count": 8,
   "id": "8d5b3eb8",
   "metadata": {
    "ExecuteTime": {
     "end_time": "2023-03-31T12:50:31.613559Z",
     "start_time": "2023-03-31T12:50:31.582956Z"
    }
   },
   "outputs": [
    {
     "data": {
      "text/plain": [
       "문장       0\n",
       "유형       0\n",
       "극성       0\n",
       "시제       0\n",
       "확실성      0\n",
       "label    0\n",
       "dtype: int64"
      ]
     },
     "execution_count": 8,
     "metadata": {},
     "output_type": "execute_result"
    }
   ],
   "source": [
    "# 결측치 확인 => 결측치는 없다\n",
    "df.isna().sum()"
   ]
  },
  {
   "cell_type": "code",
   "execution_count": 9,
   "id": "cabf48fe",
   "metadata": {
    "ExecuteTime": {
     "end_time": "2023-03-31T12:50:31.643833Z",
     "start_time": "2023-03-31T12:50:31.615090Z"
    }
   },
   "outputs": [
    {
     "name": "stdout",
     "output_type": "stream",
     "text": [
      "31\n"
     ]
    }
   ],
   "source": [
    "# 중복값 확인 => 31개 존재\n",
    "print(df.duplicated().sum())"
   ]
  },
  {
   "cell_type": "code",
   "execution_count": 10,
   "id": "8eba08b0",
   "metadata": {
    "ExecuteTime": {
     "end_time": "2023-03-31T12:50:31.674724Z",
     "start_time": "2023-03-31T12:50:31.645829Z"
    }
   },
   "outputs": [
    {
     "data": {
      "text/html": [
       "<div>\n",
       "<style scoped>\n",
       "    .dataframe tbody tr th:only-of-type {\n",
       "        vertical-align: middle;\n",
       "    }\n",
       "\n",
       "    .dataframe tbody tr th {\n",
       "        vertical-align: top;\n",
       "    }\n",
       "\n",
       "    .dataframe thead th {\n",
       "        text-align: right;\n",
       "    }\n",
       "</style>\n",
       "<table border=\"1\" class=\"dataframe\">\n",
       "  <thead>\n",
       "    <tr style=\"text-align: right;\">\n",
       "      <th></th>\n",
       "      <th>문장</th>\n",
       "      <th>유형</th>\n",
       "      <th>극성</th>\n",
       "      <th>시제</th>\n",
       "      <th>확실성</th>\n",
       "      <th>label</th>\n",
       "    </tr>\n",
       "  </thead>\n",
       "  <tbody>\n",
       "    <tr>\n",
       "      <th>300</th>\n",
       "      <td>신용카드 빚을 뜻하는 판매신용은 2조4000억원 늘어난 91조1000억원이다.</td>\n",
       "      <td>사실형</td>\n",
       "      <td>긍정</td>\n",
       "      <td>현재</td>\n",
       "      <td>확실</td>\n",
       "      <td>사실형-긍정-현재-확실</td>\n",
       "    </tr>\n",
       "    <tr>\n",
       "      <th>1638</th>\n",
       "      <td>신용카드 빚을 뜻하는 판매신용은 2조4000억원 늘어난 91조1000억원이다.</td>\n",
       "      <td>사실형</td>\n",
       "      <td>긍정</td>\n",
       "      <td>현재</td>\n",
       "      <td>확실</td>\n",
       "      <td>사실형-긍정-현재-확실</td>\n",
       "    </tr>\n",
       "  </tbody>\n",
       "</table>\n",
       "</div>"
      ],
      "text/plain": [
       "                                               문장   유형  극성  시제 확실성  \\\n",
       "300   신용카드 빚을 뜻하는 판매신용은 2조4000억원 늘어난 91조1000억원이다.  사실형  긍정  현재  확실   \n",
       "1638  신용카드 빚을 뜻하는 판매신용은 2조4000억원 늘어난 91조1000억원이다.  사실형  긍정  현재  확실   \n",
       "\n",
       "             label  \n",
       "300   사실형-긍정-현재-확실  \n",
       "1638  사실형-긍정-현재-확실  "
      ]
     },
     "execution_count": 10,
     "metadata": {},
     "output_type": "execute_result"
    }
   ],
   "source": [
    "# 중복데이터 확인\n",
    "dup = df.duplicated()\n",
    "dup = df[dup]['문장'].tolist()\n",
    "df[df['문장'] == dup[0]]"
   ]
  },
  {
   "cell_type": "code",
   "execution_count": 11,
   "id": "4ece37a4",
   "metadata": {
    "ExecuteTime": {
     "end_time": "2023-03-31T12:50:31.706687Z",
     "start_time": "2023-03-31T12:50:31.675721Z"
    }
   },
   "outputs": [],
   "source": [
    "# 중복 제거\n",
    "df = df.drop_duplicates()"
   ]
  },
  {
   "cell_type": "code",
   "execution_count": 12,
   "id": "d547b0cd",
   "metadata": {
    "ExecuteTime": {
     "end_time": "2023-03-31T12:50:31.722644Z",
     "start_time": "2023-03-31T12:50:31.707684Z"
    }
   },
   "outputs": [
    {
     "data": {
      "text/html": [
       "<div>\n",
       "<style scoped>\n",
       "    .dataframe tbody tr th:only-of-type {\n",
       "        vertical-align: middle;\n",
       "    }\n",
       "\n",
       "    .dataframe tbody tr th {\n",
       "        vertical-align: top;\n",
       "    }\n",
       "\n",
       "    .dataframe thead th {\n",
       "        text-align: right;\n",
       "    }\n",
       "</style>\n",
       "<table border=\"1\" class=\"dataframe\">\n",
       "  <thead>\n",
       "    <tr style=\"text-align: right;\">\n",
       "      <th></th>\n",
       "      <th>문장</th>\n",
       "      <th>유형</th>\n",
       "      <th>극성</th>\n",
       "      <th>시제</th>\n",
       "      <th>확실성</th>\n",
       "      <th>label</th>\n",
       "    </tr>\n",
       "  </thead>\n",
       "  <tbody>\n",
       "    <tr>\n",
       "      <th>2108</th>\n",
       "      <td>직접적으로 암 덩어리를 없애거나 크기를 줄이고 암세포를 죽이기 위한 치료다.</td>\n",
       "      <td>사실형</td>\n",
       "      <td>긍정</td>\n",
       "      <td>현재</td>\n",
       "      <td>불확실</td>\n",
       "      <td>사실형-긍정-현재-불확실</td>\n",
       "    </tr>\n",
       "    <tr>\n",
       "      <th>15167</th>\n",
       "      <td>직접적으로 암 덩어리를 없애거나 크기를 줄이고 암세포를 죽이기 위한 치료다.</td>\n",
       "      <td>사실형</td>\n",
       "      <td>긍정</td>\n",
       "      <td>현재</td>\n",
       "      <td>확실</td>\n",
       "      <td>사실형-긍정-현재-확실</td>\n",
       "    </tr>\n",
       "  </tbody>\n",
       "</table>\n",
       "</div>"
      ],
      "text/plain": [
       "                                               문장   유형  극성  시제  확실성  \\\n",
       "2108   직접적으로 암 덩어리를 없애거나 크기를 줄이고 암세포를 죽이기 위한 치료다.  사실형  긍정  현재  불확실   \n",
       "15167  직접적으로 암 덩어리를 없애거나 크기를 줄이고 암세포를 죽이기 위한 치료다.  사실형  긍정  현재   확실   \n",
       "\n",
       "               label  \n",
       "2108   사실형-긍정-현재-불확실  \n",
       "15167   사실형-긍정-현재-확실  "
      ]
     },
     "execution_count": 12,
     "metadata": {},
     "output_type": "execute_result"
    }
   ],
   "source": [
    "# label이 다르지만 같은 문장 존재\n",
    "sent_dup = df[df['문장'].duplicated()]['문장'].tolist()\n",
    "df[df['문장'] == sent_dup[3]]"
   ]
  },
  {
   "cell_type": "code",
   "execution_count": 13,
   "id": "661f4d90",
   "metadata": {
    "ExecuteTime": {
     "end_time": "2023-03-31T12:50:31.738600Z",
     "start_time": "2023-03-31T12:50:31.723641Z"
    }
   },
   "outputs": [
    {
     "data": {
      "text/plain": [
       "['박근혜 정권에서 블랙리스트에 올라 지난 2014년 타의로 미국으로 떠난 이 부회장은 해외 엔터테인먼트 업계에서 지속적으로 활동해온 것으로 알려졌다.',\n",
       " '이들 게임은 국내 구글 플레이 매출 톱10 진입이 예상되는 기대작이다.',\n",
       " '각 레이스가 종료되면 ＇우마무스메＇들이 무대에 올라 눈과 귀를 즐겁게하는 공연을 펼친다.',\n",
       " '직접적으로 암 덩어리를 없애거나 크기를 줄이고 암세포를 죽이기 위한 치료다.']"
      ]
     },
     "execution_count": 13,
     "metadata": {},
     "output_type": "execute_result"
    }
   ],
   "source": [
    "sent_dup"
   ]
  },
  {
   "cell_type": "markdown",
   "id": "df875735",
   "metadata": {},
   "source": [
    "### 문장 살펴보기"
   ]
  },
  {
   "cell_type": "code",
   "execution_count": 14,
   "id": "0d3fd9b2",
   "metadata": {
    "ExecuteTime": {
     "end_time": "2023-03-31T12:50:31.754559Z",
     "start_time": "2023-03-31T12:50:31.740596Z"
    }
   },
   "outputs": [
    {
     "data": {
      "text/plain": [
       "count    16510.000000\n",
       "mean        63.842520\n",
       "std         35.488533\n",
       "min          7.000000\n",
       "25%         40.000000\n",
       "50%         57.000000\n",
       "75%         79.000000\n",
       "max        534.000000\n",
       "Name: 문장, dtype: float64"
      ]
     },
     "execution_count": 14,
     "metadata": {},
     "output_type": "execute_result"
    }
   ],
   "source": [
    "# 문장길이 확인\n",
    "sent_len = df['문장'].apply(len)\n",
    "sent_len.describe()"
   ]
  },
  {
   "cell_type": "code",
   "execution_count": 15,
   "id": "a44fb221",
   "metadata": {
    "ExecuteTime": {
     "end_time": "2023-03-31T12:50:32.018875Z",
     "start_time": "2023-03-31T12:50:31.755556Z"
    }
   },
   "outputs": [
    {
     "data": {
      "image/png": "[encoded data removed]",
      "text/plain": [
       "<Figure size 720x216 with 1 Axes>"
      ]
     },
     "metadata": {
      "needs_background": "light"
     },
     "output_type": "display_data"
    }
   ],
   "source": [
    "plt.figure(figsize=(10, 3))\n",
    "plt.hist(sent_len, bins=100)\n",
    "plt.xlabel('문장의 길이')\n",
    "plt.title('문장길이 분포')\n",
    "plt.tight_layout()\n",
    "plt.show()"
   ]
  },
  {
   "cell_type": "code",
   "execution_count": 16,
   "id": "d0f595b1",
   "metadata": {
    "ExecuteTime": {
     "end_time": "2023-03-31T12:50:32.033859Z",
     "start_time": "2023-03-31T12:50:32.019907Z"
    },
    "scrolled": true
   },
   "outputs": [
    {
     "name": "stdout",
     "output_type": "stream",
     "text": [
      "3959\n",
      "2081\n",
      "1106\n",
      "443\n",
      "125\n",
      "31\n"
     ]
    }
   ],
   "source": [
    "print(sent_len[sent_len > 80].count())\n",
    "print(sent_len[sent_len > 100].count())\n",
    "print(sent_len[sent_len > 120].count())\n",
    "print(sent_len[sent_len > 150].count())\n",
    "print(sent_len[sent_len > 200].count())\n",
    "print(sent_len[sent_len > 250].count())"
   ]
  },
  {
   "cell_type": "code",
   "execution_count": 17,
   "id": "4b3809be",
   "metadata": {
    "ExecuteTime": {
     "end_time": "2023-03-31T12:50:32.049409Z",
     "start_time": "2023-03-31T12:50:32.034850Z"
    }
   },
   "outputs": [
    {
     "name": "stdout",
     "output_type": "stream",
     "text": [
      "대개 운율이 없고 밋밋한 산문이지만 그 쾌감은 강력하다.\n",
      "중후장대 산업인 조선, 철강, 중공업, 화학 등이 대표적이었다.\n",
      "＇스타의거리＇에서는 하트조각을 소모해 게임 진행에 필요한 행동력인 ＇하트＇도 획득할 수 있다.\n",
      "상속 대상자와 상속 비율을 일률적으로 정해놓은 현행 유류분 제도는 헌법이 보장한 재산권을 심각하게 침해한다.\n",
      "2020년 새해 첫날부터 전국 곳곳에서 교통사고가 일어났다.\n"
     ]
    }
   ],
   "source": [
    "# 랜덤으로 5개 문장 확인\n",
    "for i in range(5):\n",
    "    print(df.sample(5)['문장'].to_list()[i])"
   ]
  },
  {
   "cell_type": "code",
   "execution_count": null,
   "id": "300a09eb",
   "metadata": {},
   "outputs": [],
   "source": []
  }
 ],
 "metadata": {
  "hide_input": false,
  "kernelspec": {
   "display_name": "Python 3 (ipykernel)",
   "language": "python",
   "name": "python3"
  },
  "language_info": {
   "codemirror_mode": {
    "name": "ipython",
    "version": 3
   },
   "file_extension": ".py",
   "mimetype": "text/x-python",
   "name": "python",
   "nbconvert_exporter": "python",
   "pygments_lexer": "ipython3",
   "version": "3.9.12"
  },
  "latex_envs": {
   "LaTeX_envs_menu_present": true,
   "autoclose": false,
   "autocomplete": true,
   "bibliofile": "biblio.bib",
   "cite_by": "apalike",
   "current_citInitial": 1,
   "eqLabelWithNumbers": true,
   "eqNumInitial": 1,
   "hotkeys": {
    "equation": "Ctrl-E",
    "itemize": "Ctrl-I"
   },
   "labels_anchors": false,
   "latex_user_defs": false,
   "report_style_numbering": false,
   "user_envs_cfg": false
  },
  "toc": {
   "base_numbering": 1,
   "nav_menu": {},
   "number_sections": false,
   "sideBar": true,
   "skip_h1_title": false,
   "title_cell": "Table of Contents",
   "title_sidebar": "Contents",
   "toc_cell": false,
   "toc_position": {},
   "toc_section_display": true,
   "toc_window_display": false
  },
  "varInspector": {
   "cols": {
    "lenName": 16,
    "lenType": 16,
    "lenVar": 40
   },
   "kernels_config": {
    "python": {
     "delete_cmd_postfix": "",
     "delete_cmd_prefix": "del ",
     "library": "var_list.py",
     "varRefreshCmd": "print(var_dic_list())"
    },
    "r": {
     "delete_cmd_postfix": ") ",
     "delete_cmd_prefix": "rm(",
     "library": "var_list.r",
     "varRefreshCmd": "cat(var_dic_list()) "
    }
   },
   "types_to_exclude": [
    "module",
    "function",
    "builtin_function_or_method",
    "instance",
    "_Feature"
   ],
   "window_display": false
  }
 },
 "nbformat": 4,
 "nbformat_minor": 5
}
