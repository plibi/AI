{
 "cells": [
  {
   "cell_type": "markdown",
   "metadata": {},
   "source": [
    "# 문장 유형 분류\n",
    "\n",
    " - 데이콘 대회: [문장 유형 분류 AI 경진대회](https://dacon.io/competitions/official/236037/overview/description)\n",
    " 1. 데이터 로드\n",
    " 2. 데이터 전처리 및 증강\n",
    "     - 특수문자 제거\n",
    "     - 랜덤 스왑 [(참고한 catSirup님 링크)](https://github.com/catSirup/KorEDA)\n",
    " 3. 데이터셋 생성\n",
    " 4. 모델 정의 및 훈련\n",
    "     - KR-Medium 사용 [(Hugginface 링크)](https://huggingface.co/snunlp/KR-Medium)\n",
    "     - 불균형한 label 분포를 극복하고자 Focal Loss와 Asymmetric Loss 사용\n",
    "     - 5개의 KFold로 나누어 훈련\n",
    "     - 최종적으로 5개의 모델 soft voting을 통해 결과 예측\n",
    " 5. 결과 예측 및 제출\n",
    "     - 최종 Public 스코어: 0.7352 (78위)"
   ]
  },
  {
   "cell_type": "markdown",
   "metadata": {},
   "source": [
    "### 1. 데이터 로드"
   ]
  },
  {
   "cell_type": "code",
   "execution_count": 1,
   "metadata": {
    "ExecuteTime": {
     "end_time": "2023-03-30T15:01:26.979444Z",
     "start_time": "2023-03-30T15:01:17.252714Z"
    },
    "_cell_guid": "b1076dfc-b9ad-4769-8c92-a6c4dae69d19",
    "_uuid": "8f2839f25d086af736a60e9eeb907d3b93b6e0e5",
    "execution": {
     "iopub.execute_input": "2023-03-29T22:49:51.055593Z",
     "iopub.status.busy": "2023-03-29T22:49:51.054154Z",
     "iopub.status.idle": "2023-03-29T22:50:00.203877Z",
     "shell.execute_reply": "2023-03-29T22:50:00.202717Z",
     "shell.execute_reply.started": "2023-03-29T22:49:51.055538Z"
    }
   },
   "outputs": [],
   "source": [
    "import re\n",
    "import random\n",
    "import pandas as pd\n",
    "import numpy as np\n",
    "import matplotlib.pyplot as plt\n",
    "from sklearn.preprocessing import OneHotEncoder\n",
    "from sklearn.model_selection import train_test_split, KFold, StratifiedKFold\n",
    "from tqdm import tqdm\n",
    "from transformers import TFAutoModel, AutoTokenizer, BertTokenizer\n",
    "import tensorflow as tf\n",
    "from tensorflow.keras.layers import Dense, Input, Dropout, BatchNormalization\n",
    "from tensorflow.keras.models import Model\n",
    "from tensorflow.keras.optimizers import Adam\n",
    "from tensorflow.keras.callbacks import EarlyStopping, ModelCheckpoint\n",
    "\n",
    "import warnings\n",
    "warnings.filterwarnings(action='ignore')\n",
    "\n",
    "seed = 52\n",
    "np.random.seed(seed)\n",
    "random.seed(seed)\n",
    "tf.random.set_seed(seed)"
   ]
  },
  {
   "cell_type": "code",
   "execution_count": 3,
   "metadata": {
    "ExecuteTime": {
     "end_time": "2023-03-30T15:01:44.723504Z",
     "start_time": "2023-03-30T15:01:44.583157Z"
    },
    "execution": {
     "iopub.execute_input": "2023-03-29T22:50:00.207159Z",
     "iopub.status.busy": "2023-03-29T22:50:00.206258Z",
     "iopub.status.idle": "2023-03-29T22:50:00.381488Z",
     "shell.execute_reply": "2023-03-29T22:50:00.380542Z",
     "shell.execute_reply.started": "2023-03-29T22:50:00.207119Z"
    }
   },
   "outputs": [
    {
     "data": {
      "text/html": [
       "<div>\n",
       "<style scoped>\n",
       "    .dataframe tbody tr th:only-of-type {\n",
       "        vertical-align: middle;\n",
       "    }\n",
       "\n",
       "    .dataframe tbody tr th {\n",
       "        vertical-align: top;\n",
       "    }\n",
       "\n",
       "    .dataframe thead th {\n",
       "        text-align: right;\n",
       "    }\n",
       "</style>\n",
       "<table border=\"1\" class=\"dataframe\">\n",
       "  <thead>\n",
       "    <tr style=\"text-align: right;\">\n",
       "      <th></th>\n",
       "      <th>ID</th>\n",
       "      <th>문장</th>\n",
       "      <th>유형</th>\n",
       "      <th>극성</th>\n",
       "      <th>시제</th>\n",
       "      <th>확실성</th>\n",
       "      <th>label</th>\n",
       "    </tr>\n",
       "  </thead>\n",
       "  <tbody>\n",
       "    <tr>\n",
       "      <th>0</th>\n",
       "      <td>TRAIN_00000</td>\n",
       "      <td>0.75%포인트 금리 인상은 1994년 이후 28년 만에 처음이다.</td>\n",
       "      <td>사실형</td>\n",
       "      <td>긍정</td>\n",
       "      <td>현재</td>\n",
       "      <td>확실</td>\n",
       "      <td>사실형-긍정-현재-확실</td>\n",
       "    </tr>\n",
       "    <tr>\n",
       "      <th>1</th>\n",
       "      <td>TRAIN_00001</td>\n",
       "      <td>이어 ＂앞으로 전문가들과 함께 4주 단위로 상황을 재평가할 예정＂이라며 ＂그 이전이...</td>\n",
       "      <td>사실형</td>\n",
       "      <td>긍정</td>\n",
       "      <td>과거</td>\n",
       "      <td>확실</td>\n",
       "      <td>사실형-긍정-과거-확실</td>\n",
       "    </tr>\n",
       "    <tr>\n",
       "      <th>2</th>\n",
       "      <td>TRAIN_00002</td>\n",
       "      <td>정부가 고유가 대응을 위해 7월부터 연말까지 유류세 인하 폭을 30%에서 37%까지...</td>\n",
       "      <td>사실형</td>\n",
       "      <td>긍정</td>\n",
       "      <td>미래</td>\n",
       "      <td>확실</td>\n",
       "      <td>사실형-긍정-미래-확실</td>\n",
       "    </tr>\n",
       "    <tr>\n",
       "      <th>3</th>\n",
       "      <td>TRAIN_00003</td>\n",
       "      <td>서울시는 올해 3월 즉시 견인 유예시간 60분을 제공하겠다고 밝혔지만, 하루 만에 ...</td>\n",
       "      <td>사실형</td>\n",
       "      <td>긍정</td>\n",
       "      <td>과거</td>\n",
       "      <td>확실</td>\n",
       "      <td>사실형-긍정-과거-확실</td>\n",
       "    </tr>\n",
       "    <tr>\n",
       "      <th>4</th>\n",
       "      <td>TRAIN_00004</td>\n",
       "      <td>익사한 자는 사다리에 태워 거꾸로 놓고 소금으로 코를 막아 가득 채운다.</td>\n",
       "      <td>사실형</td>\n",
       "      <td>긍정</td>\n",
       "      <td>현재</td>\n",
       "      <td>확실</td>\n",
       "      <td>사실형-긍정-현재-확실</td>\n",
       "    </tr>\n",
       "  </tbody>\n",
       "</table>\n",
       "</div>"
      ],
      "text/plain": [
       "            ID                                                 문장   유형  극성  \\\n",
       "0  TRAIN_00000              0.75%포인트 금리 인상은 1994년 이후 28년 만에 처음이다.  사실형  긍정   \n",
       "1  TRAIN_00001  이어 ＂앞으로 전문가들과 함께 4주 단위로 상황을 재평가할 예정＂이라며 ＂그 이전이...  사실형  긍정   \n",
       "2  TRAIN_00002  정부가 고유가 대응을 위해 7월부터 연말까지 유류세 인하 폭을 30%에서 37%까지...  사실형  긍정   \n",
       "3  TRAIN_00003  서울시는 올해 3월 즉시 견인 유예시간 60분을 제공하겠다고 밝혔지만, 하루 만에 ...  사실형  긍정   \n",
       "4  TRAIN_00004           익사한 자는 사다리에 태워 거꾸로 놓고 소금으로 코를 막아 가득 채운다.  사실형  긍정   \n",
       "\n",
       "   시제 확실성         label  \n",
       "0  현재  확실  사실형-긍정-현재-확실  \n",
       "1  과거  확실  사실형-긍정-과거-확실  \n",
       "2  미래  확실  사실형-긍정-미래-확실  \n",
       "3  과거  확실  사실형-긍정-과거-확실  \n",
       "4  현재  확실  사실형-긍정-현재-확실  "
      ]
     },
     "execution_count": 3,
     "metadata": {},
     "output_type": "execute_result"
    }
   ],
   "source": [
    "file_path = '/kaggle/input/sentence/'\n",
    "file_name = 'train.csv'\n",
    "df = pd.read_csv(file_path + file_name)\n",
    "df_test = pd.read_csv(file_path + 'test.csv')\n",
    "df.head()"
   ]
  },
  {
   "cell_type": "markdown",
   "metadata": {},
   "source": [
    "### 2. 데이터 전처리 및 증강"
   ]
  },
  {
   "cell_type": "code",
   "execution_count": 4,
   "metadata": {
    "ExecuteTime": {
     "end_time": "2023-03-30T15:02:36.673640Z",
     "start_time": "2023-03-30T15:02:36.595544Z"
    },
    "execution": {
     "iopub.execute_input": "2023-03-29T22:50:00.383494Z",
     "iopub.status.busy": "2023-03-29T22:50:00.383126Z",
     "iopub.status.idle": "2023-03-29T22:50:00.444156Z",
     "shell.execute_reply": "2023-03-29T22:50:00.443129Z",
     "shell.execute_reply.started": "2023-03-29T22:50:00.383458Z"
    }
   },
   "outputs": [],
   "source": [
    "# 간단한 전처리. 한글, 영어, 숫자만 남기고 제거\n",
    "df['문장'] = df['문장'].apply(lambda x: re.sub('[^A-Za-z0-9가-힣\\s]', '', x))\n",
    "df_test['문장'] = df_test['문장'].apply(lambda x: re.sub('[^A-Za-z0-9가-힣\\s]', '', x))"
   ]
  },
  {
   "cell_type": "code",
   "execution_count": 5,
   "metadata": {
    "ExecuteTime": {
     "end_time": "2023-03-30T15:02:40.765053Z",
     "start_time": "2023-03-30T15:02:40.755079Z"
    },
    "execution": {
     "iopub.execute_input": "2023-03-29T22:50:00.447533Z",
     "iopub.status.busy": "2023-03-29T22:50:00.447142Z",
     "iopub.status.idle": "2023-03-29T22:50:00.458199Z",
     "shell.execute_reply": "2023-03-29T22:50:00.457078Z",
     "shell.execute_reply.started": "2023-03-29T22:50:00.447495Z"
    }
   },
   "outputs": [],
   "source": [
    "# Easy Data Augmentation\n",
    "# 참고: https://github.com/catSirup/KorEDA/blob/master/eda.py\n",
    "import random\n",
    "\n",
    "def random_swap(words, n=3):\n",
    "    new_words = words.copy()\n",
    "    for _ in range(n):\n",
    "        new_words = swap_word(new_words)\n",
    "\n",
    "    return new_words\n",
    "\n",
    "def swap_word(new_words):\n",
    "    random_idx_1 = random.randint(0, len(new_words)-1)\n",
    "    random_idx_2 = random_idx_1\n",
    "    counter = 0\n",
    "\n",
    "    while random_idx_2 == random_idx_1:\n",
    "        random_idx_2 = random.randint(0, len(new_words)-1)\n",
    "        counter += 1\n",
    "        if counter > 3:\n",
    "            return new_words\n",
    "\n",
    "    new_words[random_idx_1], new_words[random_idx_2] = new_words[random_idx_2], new_words[random_idx_1]\n",
    "    return new_words\n",
    "\n",
    "\n",
    "def augment_data(sentence, alpha_rs=0.1, num_aug=9):\n",
    "    words = sentence.split(' ')\n",
    "    words = [word for word in words if word is not \"\"]\n",
    "    num_words = len(words)\n",
    "\n",
    "    augmented_sentences = []\n",
    "    num_new_per_technique = int(num_aug/4) + 1\n",
    "\n",
    "    n_rs = max(1, int(alpha_rs*num_words))\n",
    "\n",
    "    # rs\n",
    "    for _ in range(num_new_per_technique):\n",
    "        a_words = random_swap(words, n_rs)\n",
    "        augmented_sentences.append(\" \".join(a_words))\n",
    "\n",
    "    augmented_sentences = [sentence for sentence in augmented_sentences]\n",
    "    random.shuffle(augmented_sentences)\n",
    "\n",
    "    if num_aug >= 1:\n",
    "        augmented_sentences = augmented_sentences[:num_aug]\n",
    "    else:\n",
    "        keep_prob = num_aug / len(augmented_sentences)\n",
    "        augmented_sentences = [s for s in augmented_sentences if random.uniform(0, 1) < keep_prob]\n",
    "        \n",
    "    return augmented_sentences"
   ]
  },
  {
   "cell_type": "code",
   "execution_count": 6,
   "metadata": {
    "ExecuteTime": {
     "end_time": "2023-03-30T15:02:43.733358Z",
     "start_time": "2023-03-30T15:02:43.382447Z"
    },
    "execution": {
     "iopub.execute_input": "2023-03-29T22:50:00.460592Z",
     "iopub.status.busy": "2023-03-29T22:50:00.460226Z",
     "iopub.status.idle": "2023-03-29T22:50:00.899870Z",
     "shell.execute_reply": "2023-03-29T22:50:00.898776Z",
     "shell.execute_reply.started": "2023-03-29T22:50:00.460556Z"
    }
   },
   "outputs": [
    {
     "data": {
      "text/plain": [
       "['075포인트 금리 인상은 1994년 이후 처음이다 만에 28년',\n",
       " '만에 금리 인상은 1994년 이후 28년 075포인트 처음이다',\n",
       " '이후 금리 인상은 1994년 075포인트 28년 만에 처음이다']"
      ]
     },
     "execution_count": 6,
     "metadata": {},
     "output_type": "execute_result"
    }
   ],
   "source": [
    "augmentation = df['문장'].apply(lambda x:augment_data(x))\n",
    "augmentation[0]"
   ]
  },
  {
   "cell_type": "code",
   "execution_count": 7,
   "metadata": {
    "ExecuteTime": {
     "end_time": "2023-03-30T15:02:45.096137Z",
     "start_time": "2023-03-30T15:02:45.053299Z"
    },
    "execution": {
     "iopub.execute_input": "2023-03-29T22:50:00.902327Z",
     "iopub.status.busy": "2023-03-29T22:50:00.901599Z",
     "iopub.status.idle": "2023-03-29T22:50:00.947209Z",
     "shell.execute_reply": "2023-03-29T22:50:00.946108Z",
     "shell.execute_reply.started": "2023-03-29T22:50:00.902287Z"
    }
   },
   "outputs": [],
   "source": [
    "df_temp = df.copy()\n",
    "for i in range(3):\n",
    "    temp = df.copy()\n",
    "    temp['문장'] = list(map(lambda x: x[i], augmentation))\n",
    "    df_temp = df_temp.append(temp)"
   ]
  },
  {
   "cell_type": "code",
   "execution_count": 8,
   "metadata": {
    "ExecuteTime": {
     "end_time": "2023-03-30T15:02:45.454545Z",
     "start_time": "2023-03-30T15:02:45.343499Z"
    },
    "execution": {
     "iopub.execute_input": "2023-03-29T22:50:00.949593Z",
     "iopub.status.busy": "2023-03-29T22:50:00.948973Z",
     "iopub.status.idle": "2023-03-29T22:50:01.092449Z",
     "shell.execute_reply": "2023-03-29T22:50:01.091440Z",
     "shell.execute_reply.started": "2023-03-29T22:50:00.949549Z"
    }
   },
   "outputs": [
    {
     "data": {
      "text/html": [
       "<div>\n",
       "<style scoped>\n",
       "    .dataframe tbody tr th:only-of-type {\n",
       "        vertical-align: middle;\n",
       "    }\n",
       "\n",
       "    .dataframe tbody tr th {\n",
       "        vertical-align: top;\n",
       "    }\n",
       "\n",
       "    .dataframe thead th {\n",
       "        text-align: right;\n",
       "    }\n",
       "</style>\n",
       "<table border=\"1\" class=\"dataframe\">\n",
       "  <thead>\n",
       "    <tr style=\"text-align: right;\">\n",
       "      <th></th>\n",
       "      <th>ID</th>\n",
       "      <th>문장</th>\n",
       "      <th>유형</th>\n",
       "      <th>극성</th>\n",
       "      <th>시제</th>\n",
       "      <th>확실성</th>\n",
       "      <th>label</th>\n",
       "    </tr>\n",
       "  </thead>\n",
       "  <tbody>\n",
       "    <tr>\n",
       "      <th>0</th>\n",
       "      <td>TRAIN_09966</td>\n",
       "      <td>무료로 즐기는 모바일 MMORPG라는 특성에 걸맞게 다른 요소들도 함께 즐기는 이용...</td>\n",
       "      <td>사실형</td>\n",
       "      <td>긍정</td>\n",
       "      <td>과거</td>\n",
       "      <td>확실</td>\n",
       "      <td>사실형-긍정-과거-확실</td>\n",
       "    </tr>\n",
       "    <tr>\n",
       "      <th>1</th>\n",
       "      <td>TRAIN_15274</td>\n",
       "      <td>오십견 없다 파열로 치료를 받고 있지만 차도가 회전근개</td>\n",
       "      <td>사실형</td>\n",
       "      <td>부정</td>\n",
       "      <td>현재</td>\n",
       "      <td>확실</td>\n",
       "      <td>사실형-부정-현재-확실</td>\n",
       "    </tr>\n",
       "    <tr>\n",
       "      <th>2</th>\n",
       "      <td>TRAIN_12061</td>\n",
       "      <td>기생충은 101년간의 한국영화 역사상 처음으로 시상식에서 아카데미 수상했다</td>\n",
       "      <td>사실형</td>\n",
       "      <td>긍정</td>\n",
       "      <td>과거</td>\n",
       "      <td>확실</td>\n",
       "      <td>사실형-긍정-과거-확실</td>\n",
       "    </tr>\n",
       "    <tr>\n",
       "      <th>3</th>\n",
       "      <td>TRAIN_06138</td>\n",
       "      <td>4위 첼시와 5위 맨체스터 유나이티드는 조직력이 예전만 못하지만 여전히 관록 있는 팀이다</td>\n",
       "      <td>추론형</td>\n",
       "      <td>긍정</td>\n",
       "      <td>현재</td>\n",
       "      <td>확실</td>\n",
       "      <td>추론형-긍정-현재-확실</td>\n",
       "    </tr>\n",
       "    <tr>\n",
       "      <th>4</th>\n",
       "      <td>TRAIN_13489</td>\n",
       "      <td>중산층 붕괴 원인 문제도 꼽힌 정보기술사회 도래에 따른 일자리 2위로 앞으로 우리 ...</td>\n",
       "      <td>추론형</td>\n",
       "      <td>긍정</td>\n",
       "      <td>현재</td>\n",
       "      <td>확실</td>\n",
       "      <td>추론형-긍정-현재-확실</td>\n",
       "    </tr>\n",
       "    <tr>\n",
       "      <th>...</th>\n",
       "      <td>...</td>\n",
       "      <td>...</td>\n",
       "      <td>...</td>\n",
       "      <td>...</td>\n",
       "      <td>...</td>\n",
       "      <td>...</td>\n",
       "      <td>...</td>\n",
       "    </tr>\n",
       "    <tr>\n",
       "      <th>64717</th>\n",
       "      <td>TRAIN_04247</td>\n",
       "      <td>두 여성과 커티스의 위치는 계단을 두고 나뉜다</td>\n",
       "      <td>사실형</td>\n",
       "      <td>긍정</td>\n",
       "      <td>현재</td>\n",
       "      <td>확실</td>\n",
       "      <td>사실형-긍정-현재-확실</td>\n",
       "    </tr>\n",
       "    <tr>\n",
       "      <th>64718</th>\n",
       "      <td>TRAIN_08223</td>\n",
       "      <td>애나 던런Anna Donlon 발로란트 책임 프로듀서는 발로란트는 정밀한 작전 박진...</td>\n",
       "      <td>사실형</td>\n",
       "      <td>긍정</td>\n",
       "      <td>현재</td>\n",
       "      <td>확실</td>\n",
       "      <td>사실형-긍정-현재-확실</td>\n",
       "    </tr>\n",
       "    <tr>\n",
       "      <th>64719</th>\n",
       "      <td>TRAIN_11100</td>\n",
       "      <td>모두가 제목이 대통령의 사람들All The Presidents Men이다</td>\n",
       "      <td>사실형</td>\n",
       "      <td>긍정</td>\n",
       "      <td>현재</td>\n",
       "      <td>확실</td>\n",
       "      <td>사실형-긍정-현재-확실</td>\n",
       "    </tr>\n",
       "    <tr>\n",
       "      <th>64720</th>\n",
       "      <td>TRAIN_09933</td>\n",
       "      <td>네이처셀 관계자는 수험생과 학생의 기억력 개선 꾸준한 건망증 및 치매 예방용 제품으...</td>\n",
       "      <td>사실형</td>\n",
       "      <td>긍정</td>\n",
       "      <td>과거</td>\n",
       "      <td>확실</td>\n",
       "      <td>사실형-긍정-과거-확실</td>\n",
       "    </tr>\n",
       "    <tr>\n",
       "      <th>64721</th>\n",
       "      <td>TRAIN_07021</td>\n",
       "      <td>단지는 일부 마곡지구 여전히 신고가 행진을 이어가는 중이다</td>\n",
       "      <td>사실형</td>\n",
       "      <td>긍정</td>\n",
       "      <td>현재</td>\n",
       "      <td>확실</td>\n",
       "      <td>사실형-긍정-현재-확실</td>\n",
       "    </tr>\n",
       "  </tbody>\n",
       "</table>\n",
       "<p>64722 rows × 7 columns</p>\n",
       "</div>"
      ],
      "text/plain": [
       "                ID                                                 문장   유형  \\\n",
       "0      TRAIN_09966  무료로 즐기는 모바일 MMORPG라는 특성에 걸맞게 다른 요소들도 함께 즐기는 이용...  사실형   \n",
       "1      TRAIN_15274                     오십견 없다 파열로 치료를 받고 있지만 차도가 회전근개  사실형   \n",
       "2      TRAIN_12061          기생충은 101년간의 한국영화 역사상 처음으로 시상식에서 아카데미 수상했다  사실형   \n",
       "3      TRAIN_06138  4위 첼시와 5위 맨체스터 유나이티드는 조직력이 예전만 못하지만 여전히 관록 있는 팀이다  추론형   \n",
       "4      TRAIN_13489  중산층 붕괴 원인 문제도 꼽힌 정보기술사회 도래에 따른 일자리 2위로 앞으로 우리 ...  추론형   \n",
       "...            ...                                                ...  ...   \n",
       "64717  TRAIN_04247                          두 여성과 커티스의 위치는 계단을 두고 나뉜다  사실형   \n",
       "64718  TRAIN_08223  애나 던런Anna Donlon 발로란트 책임 프로듀서는 발로란트는 정밀한 작전 박진...  사실형   \n",
       "64719  TRAIN_11100           모두가 제목이 대통령의 사람들All The Presidents Men이다  사실형   \n",
       "64720  TRAIN_09933  네이처셀 관계자는 수험생과 학생의 기억력 개선 꾸준한 건망증 및 치매 예방용 제품으...  사실형   \n",
       "64721  TRAIN_07021                   단지는 일부 마곡지구 여전히 신고가 행진을 이어가는 중이다  사실형   \n",
       "\n",
       "       극성  시제 확실성         label  \n",
       "0      긍정  과거  확실  사실형-긍정-과거-확실  \n",
       "1      부정  현재  확실  사실형-부정-현재-확실  \n",
       "2      긍정  과거  확실  사실형-긍정-과거-확실  \n",
       "3      긍정  현재  확실  추론형-긍정-현재-확실  \n",
       "4      긍정  현재  확실  추론형-긍정-현재-확실  \n",
       "...    ..  ..  ..           ...  \n",
       "64717  긍정  현재  확실  사실형-긍정-현재-확실  \n",
       "64718  긍정  현재  확실  사실형-긍정-현재-확실  \n",
       "64719  긍정  현재  확실  사실형-긍정-현재-확실  \n",
       "64720  긍정  과거  확실  사실형-긍정-과거-확실  \n",
       "64721  긍정  현재  확실  사실형-긍정-현재-확실  \n",
       "\n",
       "[64722 rows x 7 columns]"
      ]
     },
     "execution_count": 8,
     "metadata": {},
     "output_type": "execute_result"
    }
   ],
   "source": [
    "train = df_temp.drop_duplicates(keep='first').sample(frac=1).reset_index(drop=True)\n",
    "train"
   ]
  },
  {
   "cell_type": "markdown",
   "metadata": {},
   "source": [
    "### 3. 데이터셋 생성"
   ]
  },
  {
   "cell_type": "code",
   "execution_count": 9,
   "metadata": {
    "ExecuteTime": {
     "end_time": "2023-03-30T15:02:50.897864Z",
     "start_time": "2023-03-30T15:02:49.889262Z"
    },
    "execution": {
     "iopub.execute_input": "2023-03-29T22:50:01.095924Z",
     "iopub.status.busy": "2023-03-29T22:50:01.095616Z",
     "iopub.status.idle": "2023-03-29T22:50:04.949015Z",
     "shell.execute_reply": "2023-03-29T22:50:04.947490Z",
     "shell.execute_reply.started": "2023-03-29T22:50:01.095895Z"
    }
   },
   "outputs": [],
   "source": [
    "# Tokenizer 정의\n",
    "model_ckpt = 'snunlp/KR-Medium'\n",
    "tokenizer = AutoTokenizer.from_pretrained(model_ckpt)"
   ]
  },
  {
   "cell_type": "code",
   "execution_count": 10,
   "metadata": {
    "ExecuteTime": {
     "end_time": "2023-03-30T15:02:50.976678Z",
     "start_time": "2023-03-30T15:02:50.962924Z"
    },
    "execution": {
     "iopub.execute_input": "2023-03-29T22:50:04.960001Z",
     "iopub.status.busy": "2023-03-29T22:50:04.959569Z",
     "iopub.status.idle": "2023-03-29T22:50:04.990060Z",
     "shell.execute_reply": "2023-03-29T22:50:04.988847Z",
     "shell.execute_reply.started": "2023-03-29T22:50:04.959958Z"
    }
   },
   "outputs": [],
   "source": [
    "# Dataset 생성\n",
    "MAX_LEN = 200\n",
    "\n",
    "def bert_tokenizer(sent, max_len):\n",
    "    encoded_dict = tokenizer.encode_plus(\n",
    "        text = sent,\n",
    "        add_special_tokens = True,      \n",
    "        max_length = max_len,           \n",
    "        pad_to_max_length = True,\n",
    "        return_attention_mask = True,   \n",
    "        truncation = True\n",
    "    )\n",
    "    \n",
    "    input_id = encoded_dict['input_ids']\n",
    "    attention_mask = encoded_dict['attention_mask']\n",
    "    token_type_id = encoded_dict['token_type_ids']\n",
    "    \n",
    "    return input_id, attention_mask, token_type_id\n",
    "\n",
    "# Train data 생성\n",
    "def build_data(doc, max_len):\n",
    "    x_ids = []\n",
    "    x_msk = []\n",
    "    x_typ = []\n",
    "\n",
    "    for sent in tqdm(doc):\n",
    "        input_id, attention_mask, token_type_id = bert_tokenizer(sent, max_len)\n",
    "        x_ids.append(input_id)\n",
    "        x_msk.append(attention_mask)\n",
    "        x_typ.append(token_type_id)\n",
    "\n",
    "    x_ids = np.array(x_ids, dtype=int)\n",
    "    x_msk = np.array(x_msk, dtype=int)\n",
    "    x_typ = np.array(x_typ, dtype=int)\n",
    "\n",
    "    return x_ids, x_msk, x_typ"
   ]
  },
  {
   "cell_type": "code",
   "execution_count": 13,
   "metadata": {
    "ExecuteTime": {
     "end_time": "2023-03-30T15:04:27.271313Z",
     "start_time": "2023-03-30T15:04:27.248375Z"
    },
    "execution": {
     "iopub.execute_input": "2023-03-29T22:50:37.091101Z",
     "iopub.status.busy": "2023-03-29T22:50:37.088821Z",
     "iopub.status.idle": "2023-03-29T22:50:38.116095Z",
     "shell.execute_reply": "2023-03-29T22:50:38.114779Z",
     "shell.execute_reply.started": "2023-03-29T22:50:37.091062Z"
    }
   },
   "outputs": [],
   "source": [
    "# Label 생성\n",
    "type_ohe = OneHotEncoder().fit(train['유형'].values.reshape(-1, 1))\n",
    "polar_ohe = OneHotEncoder().fit(train['극성'].values.reshape(-1, 1))\n",
    "tense_ohe = OneHotEncoder().fit(train['시제'].values.reshape(-1, 1))\n",
    "certain_ohe = OneHotEncoder().fit(train['확실성'].values.reshape(-1, 1))\n",
    "\n",
    "def make_label(doc):\n",
    "    types = type_ohe.transform(doc['유형'].values.reshape(-1, 1)).toarray()\n",
    "    polars = polar_ohe.transform(doc['극성'].values.reshape(-1, 1)).toarray()\n",
    "    tenses = tense_ohe.transform(doc['시제'].values.reshape(-1, 1)).toarray()\n",
    "    certains = certain_ohe.transform(doc['확실성'].values.reshape(-1, 1)).toarray()\n",
    "    \n",
    "    return [types, polars, tenses, certains]"
   ]
  },
  {
   "cell_type": "markdown",
   "metadata": {},
   "source": [
    "### 4. 모델 정의 및 훈련"
   ]
  },
  {
   "cell_type": "code",
   "execution_count": 11,
   "metadata": {
    "ExecuteTime": {
     "end_time": "2023-03-30T15:03:18.400189Z",
     "start_time": "2023-03-30T15:03:10.386714Z"
    },
    "execution": {
     "iopub.execute_input": "2023-03-29T22:50:24.460591Z",
     "iopub.status.busy": "2023-03-29T22:50:24.459793Z",
     "iopub.status.idle": "2023-03-29T22:50:37.049690Z",
     "shell.execute_reply": "2023-03-29T22:50:37.048723Z",
     "shell.execute_reply.started": "2023-03-29T22:50:24.460550Z"
    }
   },
   "outputs": [
    {
     "name": "stderr",
     "output_type": "stream",
     "text": [
      "Some weights of the PyTorch model were not used when initializing the TF 2.0 model TFBertModel: ['cls.predictions.transform.dense.weight', 'cls.predictions.transform.LayerNorm.weight', 'cls.predictions.transform.dense.bias', 'cls.predictions.transform.LayerNorm.bias', 'cls.predictions.bias', 'cls.predictions.decoder.bias', 'cls.seq_relationship.bias', 'bert.embeddings.position_ids', 'cls.predictions.decoder.weight', 'cls.seq_relationship.weight']\n",
      "- This IS expected if you are initializing TFBertModel from a PyTorch model trained on another task or with another architecture (e.g. initializing a TFBertForSequenceClassification model from a BertForPreTraining model).\n",
      "- This IS NOT expected if you are initializing TFBertModel from a PyTorch model that you expect to be exactly identical (e.g. initializing a TFBertForSequenceClassification model from a BertForSequenceClassification model).\n",
      "All the weights of TFBertModel were initialized from the PyTorch model.\n",
      "If your task is similar to the task the model of the checkpoint was trained on, you can already use TFBertModel for predictions without further training.\n"
     ]
    }
   ],
   "source": [
    "bert = TFAutoModel.from_pretrained(model_ckpt, from_pt=True)\n",
    "bert.trainable = True"
   ]
  },
  {
   "cell_type": "code",
   "execution_count": 12,
   "metadata": {
    "ExecuteTime": {
     "end_time": "2023-03-30T15:04:24.498373Z",
     "start_time": "2023-03-30T15:04:24.472442Z"
    },
    "execution": {
     "iopub.execute_input": "2023-03-29T22:50:37.055763Z",
     "iopub.status.busy": "2023-03-29T22:50:37.055403Z",
     "iopub.status.idle": "2023-03-29T22:50:37.084363Z",
     "shell.execute_reply": "2023-03-29T22:50:37.082639Z",
     "shell.execute_reply.started": "2023-03-29T22:50:37.055728Z"
    }
   },
   "outputs": [],
   "source": [
    "# Custom model define\n",
    "class CustomModel(tf.keras.Model):\n",
    "    def __init__(self):\n",
    "        super(CustomModel, self).__init__()\n",
    "        self.bert_layer = bert\n",
    "        self.type_out = tf.keras.Sequential(\n",
    "            [Dropout(0.2),\n",
    "             Dense(256, activation='relu'),\n",
    "             Dense(4, activation='softmax')]\n",
    "        )\n",
    "        self.polar_out = tf.keras.Sequential(\n",
    "            [Dropout(0.2),\n",
    "             Dense(256, activation='relu'),\n",
    "             Dense(3, activation='softmax')]\n",
    "        )\n",
    "        self.tense_out = tf.keras.Sequential(\n",
    "            [Dropout(0.2),\n",
    "             Dense(256, activation='relu'),\n",
    "             Dense(3, activation='softmax')]\n",
    "        )\n",
    "        self.certain_out = tf.keras.Sequential(\n",
    "            [Dropout(0.2),\n",
    "             Dense(256, activation='relu'),\n",
    "             Dense(2, activation='softmax')]\n",
    "        )\n",
    "        \n",
    "    def call(self, inputs):\n",
    "        bert_output = self.bert_layer(inputs)[1]\n",
    "        type_output = self.type_out(bert_output)\n",
    "        polar_output = self.polar_out(bert_output)\n",
    "        tense_output = self.tense_out(bert_output)\n",
    "        certain_output = self.certain_out(bert_output)\n",
    "        \n",
    "        # output shape: [[1, 0, 0, 0], [1, 0, 0], [1, 0, 0], [1, 0]]\n",
    "        return type_output, polar_output, tense_output, certain_output\n",
    "\n",
    "\n",
    "def focal_loss(gamma=2., alpha=0.25):\n",
    "    def focal_loss_fixed(y_true, y_pred):\n",
    "        y_pred = tf.clip_by_value(y_pred, 1e-8, 1-1e-8)\n",
    "        pt_1 = tf.where(tf.equal(y_true, 1), y_pred, tf.ones_like(y_pred))\n",
    "        pt_0 = tf.where(tf.equal(y_true, 0), y_pred, tf.zeros_like(y_pred))\n",
    "        return -tf.reduce_sum(alpha * tf.pow(1. - pt_1, gamma) * tf.math.log(pt_1)) \\\n",
    "               -tf.reduce_sum((1 - alpha) * tf.pow(pt_0, gamma) * tf.math.log(1. - pt_0))\n",
    "    return focal_loss_fixed\n",
    "\n",
    "\n",
    "def asymmetric_loss(theta=0.5, gamma_neg=4, gamma_pos=1):\n",
    "    def asymmetric_loss_fixed(y_true, y_pred):\n",
    "        y_pred = tf.clip_by_value(y_pred, 1e-8, 1 - 1e-8)\n",
    "        p_t = tf.where(tf.equal(y_true, 1), y_pred, 1 - y_pred)\n",
    "        theta_t = tf.where(tf.equal(y_true, 1), theta * tf.ones_like(y_true), (1 - theta) * tf.ones_like(y_true))\n",
    "        gamma_t = tf.where(tf.equal(y_true, 1), gamma_pos * tf.ones_like(y_true), gamma_neg * tf.ones_like(y_true))\n",
    "        return -tf.reduce_sum(theta_t * tf.pow(1. - p_t, gamma_t) * tf.math.log(p_t))\n",
    "    return asymmetric_loss_fixed\n",
    "\n",
    "\n",
    "# model = CustomModel()\n",
    "\n",
    "# Focal Loss 사용\n",
    "# model.compile(optimizer=tf.keras.optimizers.Adam(learning_rate=1e-5),\n",
    "#               loss=[focal_loss(gamma=2., alpha=0.25), \n",
    "#                     focal_loss(gamma=2., alpha=0.25), \n",
    "#                     focal_loss(gamma=2., alpha=0.25), \n",
    "#                     focal_loss(gamma=2., alpha=0.25)])\n",
    "\n",
    "# Asymmetric Loss 사용\n",
    "# model.compile(optimizer=tf.keras.optimizers.Adam(learning_rate=1e-5),\n",
    "#               loss=[asymmetric_loss(theta=0.5, gamma_neg=4, gamma_pos=1), \n",
    "#                     asymmetric_loss(theta=0.5, gamma_neg=4, gamma_pos=1), \n",
    "#                     asymmetric_loss(theta=0.5, gamma_neg=4, gamma_pos=1), \n",
    "#                     asymmetric_loss(theta=0.5, gamma_neg=4, gamma_pos=1)])"
   ]
  },
  {
   "cell_type": "code",
   "execution_count": 14,
   "metadata": {
    "ExecuteTime": {
     "end_time": "2023-03-30T15:05:49.900406Z",
     "start_time": "2023-03-30T15:05:49.870873Z"
    },
    "execution": {
     "iopub.execute_input": "2023-03-29T22:50:38.120230Z",
     "iopub.status.busy": "2023-03-29T22:50:38.119151Z",
     "iopub.status.idle": "2023-03-29T22:50:38.137572Z",
     "shell.execute_reply": "2023-03-29T22:50:38.136437Z",
     "shell.execute_reply.started": "2023-03-29T22:50:38.120189Z"
    }
   },
   "outputs": [],
   "source": [
    "# KFold=5로 5개의 모델을 학습해서 모델들의 soft voting을 통해 최종 결과를 예측\n",
    "X = train\n",
    "kf = KFold(n_splits=5, shuffle=True, random_state=seed)\n",
    "\n",
    "for i, (train_idx, val_idx) in enumerate(kf.split(X)):\n",
    "    print(f'----- {i}번째 Fold -----')\n",
    "    train_data, val_data = train.iloc[train_idx, :], train.iloc[val_idx, :]\n",
    "    x_train, y_train = build_data(train_data['문장'], MAX_LEN), make_label(train_data)\n",
    "    x_val, y_val = build_data(val_data['문장'], MAX_LEN), make_label(val_data)\n",
    "    \n",
    "    model = CustomModel()\n",
    "    model.compile(optimizer=tf.keras.optimizers.Adam(learning_rate=1e-5),\n",
    "              loss=[asymmetric_loss(theta=0.5, gamma_neg=4, gamma_pos=1), \n",
    "                    asymmetric_loss(theta=0.5, gamma_neg=4, gamma_pos=1), \n",
    "                    asymmetric_loss(theta=0.5, gamma_neg=4, gamma_pos=1), \n",
    "                    asymmetric_loss(theta=0.5, gamma_neg=4, gamma_pos=1)])\n",
    "    \n",
    "    early_stopping = EarlyStopping(monitor='val_loss', patience=3, verbose=1, mode='min', restore_best_weights=True)\n",
    "    checkpoint_filepath = '/kaggle/working/best_model' + str(i)\n",
    "    model_checkpoint = ModelCheckpoint(checkpoint_filepath, monitor='val_loss', save_best_only=True, verbose=1, mode='min', save_weights_only=True)\n",
    "    \n",
    "    history = model.fit(x_train, y_train, epochs=100, batch_size=32, validation_data=[x_val, y_val], callbacks=[early_stopping, model_checkpoint])"
   ]
  },
  {
   "cell_type": "markdown",
   "metadata": {},
   "source": [
    "### 5. 결과 예측 및 제출"
   ]
  },
  {
   "cell_type": "code",
   "execution_count": 15,
   "metadata": {
    "ExecuteTime": {
     "end_time": "2023-03-30T15:06:02.257345Z",
     "start_time": "2023-03-30T15:06:00.837261Z"
    },
    "execution": {
     "iopub.execute_input": "2023-03-29T22:50:45.222020Z",
     "iopub.status.busy": "2023-03-29T22:50:45.221599Z",
     "iopub.status.idle": "2023-03-29T22:50:46.965683Z",
     "shell.execute_reply": "2023-03-29T22:50:46.964623Z",
     "shell.execute_reply.started": "2023-03-29T22:50:45.221984Z"
    }
   },
   "outputs": [
    {
     "name": "stderr",
     "output_type": "stream",
     "text": [
      "100%|████████████████████████████████████████████████████████████████████████████| 7090/7090 [00:01<00:00, 5651.19it/s]\n"
     ]
    }
   ],
   "source": [
    "test_doc = df_test['문장']\n",
    "x_test_ids, x_test_msk, x_test_typ = build_data(test_doc, MAX_LEN)\n",
    "x_test = [x_test_ids, x_test_msk, x_test_typ]\n",
    "\n",
    "# ans_type = {0: '사실형', 1: '추론형', 2: '대화형', 3: '예측형'}\n",
    "# ans_polar = {0: '긍정', 1: '부정', 2: '미정'}\n",
    "# ans_tense = {0: '과거', 1: '현재', 2: '미래'}\n",
    "# ans_certain = {0: '확실', 1: '불확실'}"
   ]
  },
  {
   "cell_type": "code",
   "execution_count": null,
   "metadata": {
    "ExecuteTime": {
     "end_time": "2023-03-30T15:09:40.336330Z",
     "start_time": "2023-03-30T15:09:28.483640Z"
    },
    "execution": {
     "iopub.execute_input": "2023-03-29T22:50:48.666522Z",
     "iopub.status.busy": "2023-03-29T22:50:48.665481Z",
     "iopub.status.idle": "2023-03-29T22:51:02.447417Z",
     "shell.execute_reply": "2023-03-29T22:51:02.445692Z",
     "shell.execute_reply.started": "2023-03-29T22:50:48.666465Z"
    },
    "jupyter": {
     "outputs_hidden": true
    }
   },
   "outputs": [],
   "source": [
    "predictions = []\n",
    "trained_model = CustomModel()\n",
    "for i in range(5):\n",
    "    save_model_path = f'/kaggle/input/sentence-clf-model/best_model{i}'\n",
    "    trained_model.load_weights(save_model_path)\n",
    "    prediction = trained_model(x_test)\n",
    "    predictions.append(prediction)"
   ]
  },
  {
   "cell_type": "code",
   "execution_count": 33,
   "metadata": {
    "ExecuteTime": {
     "end_time": "2023-03-30T15:16:50.217758Z",
     "start_time": "2023-03-30T15:16:50.203795Z"
    },
    "execution": {
     "iopub.execute_input": "2023-03-29T23:14:34.883031Z",
     "iopub.status.busy": "2023-03-29T23:14:34.882049Z",
     "iopub.status.idle": "2023-03-29T23:14:34.888862Z",
     "shell.execute_reply": "2023-03-29T23:14:34.887773Z",
     "shell.execute_reply.started": "2023-03-29T23:14:34.882993Z"
    }
   },
   "outputs": [],
   "source": [
    "results = []\n",
    "# Soft Voting 수행\n",
    "for pred in zip(*predictions):\n",
    "    results.append(np.sum(pred, axis=0))"
   ]
  },
  {
   "cell_type": "code",
   "execution_count": 34,
   "metadata": {
    "ExecuteTime": {
     "end_time": "2023-03-30T15:16:52.162342Z",
     "start_time": "2023-03-30T15:16:50.327076Z"
    },
    "execution": {
     "iopub.execute_input": "2023-03-29T23:15:10.123961Z",
     "iopub.status.busy": "2023-03-29T23:15:10.123541Z",
     "iopub.status.idle": "2023-03-29T23:15:11.775632Z",
     "shell.execute_reply": "2023-03-29T23:15:11.774384Z",
     "shell.execute_reply.started": "2023-03-29T23:15:10.123924Z"
    }
   },
   "outputs": [
    {
     "data": {
      "text/html": [
       "<div>\n",
       "<style scoped>\n",
       "    .dataframe tbody tr th:only-of-type {\n",
       "        vertical-align: middle;\n",
       "    }\n",
       "\n",
       "    .dataframe tbody tr th {\n",
       "        vertical-align: top;\n",
       "    }\n",
       "\n",
       "    .dataframe thead th {\n",
       "        text-align: right;\n",
       "    }\n",
       "</style>\n",
       "<table border=\"1\" class=\"dataframe\">\n",
       "  <thead>\n",
       "    <tr style=\"text-align: right;\">\n",
       "      <th></th>\n",
       "      <th>ID</th>\n",
       "      <th>label</th>\n",
       "    </tr>\n",
       "  </thead>\n",
       "  <tbody>\n",
       "    <tr>\n",
       "      <th>0</th>\n",
       "      <td>TEST_0000</td>\n",
       "      <td>사실형-긍정-현재-확실</td>\n",
       "    </tr>\n",
       "    <tr>\n",
       "      <th>1</th>\n",
       "      <td>TEST_0001</td>\n",
       "      <td>사실형-긍정-현재-확실</td>\n",
       "    </tr>\n",
       "    <tr>\n",
       "      <th>2</th>\n",
       "      <td>TEST_0002</td>\n",
       "      <td>사실형-긍정-과거-확실</td>\n",
       "    </tr>\n",
       "    <tr>\n",
       "      <th>3</th>\n",
       "      <td>TEST_0003</td>\n",
       "      <td>사실형-긍정-현재-확실</td>\n",
       "    </tr>\n",
       "    <tr>\n",
       "      <th>4</th>\n",
       "      <td>TEST_0004</td>\n",
       "      <td>사실형-긍정-과거-확실</td>\n",
       "    </tr>\n",
       "  </tbody>\n",
       "</table>\n",
       "</div>"
      ],
      "text/plain": [
       "          ID         label\n",
       "0  TEST_0000  사실형-긍정-현재-확실\n",
       "1  TEST_0001  사실형-긍정-현재-확실\n",
       "2  TEST_0002  사실형-긍정-과거-확실\n",
       "3  TEST_0003  사실형-긍정-현재-확실\n",
       "4  TEST_0004  사실형-긍정-과거-확실"
      ]
     },
     "execution_count": 34,
     "metadata": {},
     "output_type": "execute_result"
    }
   ],
   "source": [
    "submit = []\n",
    "for pred in zip(*results):\n",
    "    tp = type_ohe.inverse_transform(pred[0].reshape(1, -1))\n",
    "    pl = polar_ohe.inverse_transform(pred[1].reshape(1, -1))\n",
    "    tn = tense_ohe.inverse_transform(pred[2].reshape(1, -1))\n",
    "    ct = certain_ohe.inverse_transform(pred[3].reshape(1, -1))\n",
    "    \n",
    "    tp = tp[0][0]\n",
    "    pl = pl[0][0]\n",
    "    tn = tn[0][0]\n",
    "    ct = ct[0][0]\n",
    "    \n",
    "    submit.append(f\"{tp}-{pl}-{tn}-{ct}\")\n",
    "\n",
    "submit[:5]\n",
    "\n",
    "df_submit = df_test\n",
    "df_submit['label'] = submit\n",
    "df_submit = df_submit.drop(['문장'], axis=1)\n",
    "df_submit.head()"
   ]
  },
  {
   "cell_type": "code",
   "execution_count": 35,
   "metadata": {
    "ExecuteTime": {
     "end_time": "2023-03-30T15:16:52.286256Z",
     "start_time": "2023-03-30T15:16:52.256916Z"
    },
    "execution": {
     "iopub.execute_input": "2023-03-29T23:15:23.983482Z",
     "iopub.status.busy": "2023-03-29T23:15:23.982771Z",
     "iopub.status.idle": "2023-03-29T23:15:24.001023Z",
     "shell.execute_reply": "2023-03-29T23:15:24.000039Z",
     "shell.execute_reply.started": "2023-03-29T23:15:23.983445Z"
    }
   },
   "outputs": [],
   "source": [
    "df_submit.to_csv('submit_KFold_Final.csv', index=False)"
   ]
  },
  {
   "cell_type": "code",
   "execution_count": null,
   "metadata": {},
   "outputs": [],
   "source": []
  }
 ],
 "metadata": {
  "hide_input": false,
  "kernelspec": {
   "display_name": "Python 3 (ipykernel)",
   "language": "python",
   "name": "python3"
  },
  "language_info": {
   "codemirror_mode": {
    "name": "ipython",
    "version": 3
   },
   "file_extension": ".py",
   "mimetype": "text/x-python",
   "name": "python",
   "nbconvert_exporter": "python",
   "pygments_lexer": "ipython3",
   "version": "3.9.12"
  },
  "latex_envs": {
   "LaTeX_envs_menu_present": true,
   "autoclose": false,
   "autocomplete": true,
   "bibliofile": "biblio.bib",
   "cite_by": "apalike",
   "current_citInitial": 1,
   "eqLabelWithNumbers": true,
   "eqNumInitial": 1,
   "hotkeys": {
    "equation": "Ctrl-E",
    "itemize": "Ctrl-I"
   },
   "labels_anchors": false,
   "latex_user_defs": false,
   "report_style_numbering": false,
   "user_envs_cfg": false
  },
  "toc": {
   "base_numbering": 1,
   "nav_menu": {},
   "number_sections": false,
   "sideBar": true,
   "skip_h1_title": false,
   "title_cell": "Table of Contents",
   "title_sidebar": "Contents",
   "toc_cell": false,
   "toc_position": {},
   "toc_section_display": true,
   "toc_window_display": false
  },
  "varInspector": {
   "cols": {
    "lenName": 16,
    "lenType": 16,
    "lenVar": 40
   },
   "kernels_config": {
    "python": {
     "delete_cmd_postfix": "",
     "delete_cmd_prefix": "del ",
     "library": "var_list.py",
     "varRefreshCmd": "print(var_dic_list())"
    },
    "r": {
     "delete_cmd_postfix": ") ",
     "delete_cmd_prefix": "rm(",
     "library": "var_list.r",
     "varRefreshCmd": "cat(var_dic_list()) "
    }
   },
   "types_to_exclude": [
    "module",
    "function",
    "builtin_function_or_method",
    "instance",
    "_Feature"
   ],
   "window_display": false
  }
 },
 "nbformat": 4,
 "nbformat_minor": 4
}
