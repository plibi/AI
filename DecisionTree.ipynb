{
  "nbformat": 4,
  "nbformat_minor": 0,
  "metadata": {
    "colab": {
      "name": "Decision Tree.ipynb",
      "provenance": [],
      "collapsed_sections": []
    },
    "kernelspec": {
      "name": "python3",
      "display_name": "Python 3"
    },
    "language_info": {
      "name": "python"
    }
  },
  "cells": [
    {
      "cell_type": "markdown",
      "source": [
        "# Decision Tree\n",
        "- 분류와 회귀문제 모두 사용가능\n",
        "- 트리의 루트에서 시작해 정보 이득(IG, Integration Gain)이 최대가 되는 특성으로 데이터 분할 후 분기 선택 (=> 정보량 개념 사용)\n",
        "    - 정보량\n",
        "        - 당연한 사실일수록 정보의 가치는 낮다\n",
        "        - **불확실성**이 높을수록 정보량이 많아짐\n",
        "        - 따라서, 정보량은 **발생 확률에 반비례**\n",
        "        - 정보량\n",
        "    \\begin{align}\n",
        "    I(E) = log_2(\\frac{1}{P(E)}) = -log_2(P(E))\n",
        "    \\end{align}\n",
        "\n",
        "- **``불순도(impurity), 불확실성이 더 크게 감소하는 쪽으로 분기 선택``**\n",
        "- 지표들: Entropy, Gini index, classification error 사용\n",
        "    - ``Entropy`` (평균 정보량)\n",
        "        - $ I_H = -ΣP\\log_2P$\n",
        "        - 2개의 사건이 0.5, 0.5의 발생확률이면 엔트로피는 최대인 1 => 불확실성이 가장 높음\n",
        "    - ``Gini index`` (지니계수)\n",
        "        - $I_G = ΣP(1-P) = 1 - ΣP^2$\n",
        "        - 사건들의 확률이 같을때 최대 => 0.5\n",
        "- 각 feature가 개별 처리되기 때문에 데이터 스케일에 영향을 받지 않아 **특성의 정규화나 표준화가 필요 없음**"
      ],
      "metadata": {
        "id": "qckOTo2ZmKu7"
      }
    },
    {
      "cell_type": "markdown",
      "source": [
        "## 직접구현"
      ],
      "metadata": {
        "id": "yDN3cbpctCEV"
      }
    },
    {
      "cell_type": "code",
      "source": [
        "### Decision Tree 구현\n",
        "import numpy as np\n",
        "import pandas as pd\n",
        "import matplotlib.pyplot as plt\n",
        "from sklearn.datasets import load_iris\n",
        "\n",
        "\n",
        "# iris 데이터 읽어오기\n",
        "iris = load_iris()\n",
        "\n",
        "# 데이터 분류\n",
        "x_train = iris['data'][:,0]\n",
        "y_train = iris['target']\n",
        "# plt.scatter(x_train, y_train);\n",
        "\n",
        "# DataFrame 만들기\n",
        "df = pd.DataFrame(data=np.c_[x_train, y_train], columns=['data', 'target'])\n",
        "df = df.astype({'target':'int'})\n",
        "df.head()\n",
        "df\n",
        "\n",
        "# div라는 분기후보들의 리스트 생성\n",
        "x_range = list(set(x_train))\n",
        "x_range.sort()\n",
        "div = [(x_range[i]+x_range[i+1]) / 2 for i in range(len(x_range)-1)]\n",
        "\n",
        "\n",
        "# div에 있는 분기후보들 각각의 Gini index를 찾아줌\n",
        "gini = []\n",
        "for i in div:\n",
        "  left = df[df['data'] < i]['target'].to_numpy().astype('int')\n",
        "  right = df[df['data'] > i]['target'].to_numpy().astype('int')\n",
        "  G_L = 1\n",
        "  G_R = 1\n",
        "  for j in np.bincount(left):\n",
        "    G_L -= (j/len(left))**2\n",
        "  for k in np.bincount(right):\n",
        "    G_R -= (k/len(right))**2\n",
        "\n",
        "  weighted_G = G_L*(len(left)/(len(left)+len(right))) + G_R*(len(right)/(len(left)+len(right)))\n",
        "  gini.append(weighted_G)\n",
        "\n",
        "# Root의 Gini index 계산\n",
        "root_G = 1 - (len(df[df['target']==0.0])/len(y_train))**2 - (len(df[df['target']==1.0])/len(y_train))**2 - (len(df[df['target']==2.0])/len(y_train))**2\n",
        "\n",
        "# Information gain 계산\n",
        "IG = []\n",
        "for i in gini:\n",
        "  IG.append(root_G - i)\n",
        "\n",
        "# IG중 가장 큰값 찾은 후 해당분기 프린트 (***gini index가 가장 작은 값을 찾아도 됨***)\n",
        "print('Information gain의 최댓값의 인덱스:', IG.index(max(IG)))\n",
        "print('최적의 분기가 되는 point:', div[11])"
      ],
      "metadata": {
        "colab": {
          "base_uri": "https://localhost:8080/"
        },
        "id": "aHfAB4EfkcCe",
        "outputId": "1c798d4f-2644-4ec3-e038-cbeb2e9eeda4"
      },
      "execution_count": 1,
      "outputs": [
        {
          "output_type": "stream",
          "name": "stdout",
          "text": [
            "Information gain의 최댓값의 인덱스: 11\n",
            "최적의 분기가 되는 point: 5.45\n"
          ]
        }
      ]
    },
    {
      "cell_type": "markdown",
      "source": [
        "## sklearn 이용해 구현"
      ],
      "metadata": {
        "id": "IQ-Xz8JymPmJ"
      }
    },
    {
      "cell_type": "code",
      "source": [
        "# sklearn 이용해 간단하게 작성\n",
        "import numpy as np\n",
        "import pandas as pd\n",
        "import matplotlib\n",
        "from sklearn.tree import DecisionTreeClassifier\n",
        "from sklearn import tree\n",
        "from sklearn.datasets import load_iris\n",
        "\n",
        "\n",
        "# iris 데이터 읽어오기\n",
        "iris = load_iris()\n",
        "\n",
        "# DataFrame 만들기\n",
        "# 처음엔 sepal length만 갖고 모델링\n",
        "# df = pd.DataFrame(data=np.c_[iris['data'][:,0], iris['target']], columns=['data', 'target'])\n",
        "df = pd.DataFrame(data=np.c_[iris['data'], iris['target']], columns=['sepal length', 'sepal width', 'petal length', 'petal width', 'target'])\n",
        "\n",
        "# data 생성\n",
        "x_train = np.array(df.iloc[:, :-1]).reshape(-1,4)    # 훈련데이터를 (150, 1)로 reshape\n",
        "y_train = df['target']\n",
        "\n",
        "# Decision Tree 객체생성\n",
        "# 첫번째 최적의 분기만 확인하려면 max_depth = 1로 설정\n",
        "dt = DecisionTreeClassifier(max_depth=2)\n",
        "dt.fit(x_train, y_train)\n",
        "\n",
        "# 결과 확인\n",
        "plt.figure(figsize=(12, 4))\n",
        "tree.plot_tree(dt, feature_names = ['sepal length', 'sepal width', 'petal length', 'petal width'], fontsize=12)   # dt plot을 그려줌\n",
        "plt.show()\n",
        "\n",
        "# 결과를 보면\n",
        "# 1. 분기를 나눈 feature 이름\n",
        "# 2. gini 계수 \n",
        "# 3. sample의 개수\n",
        "# 4. value : target에 해당하는 sample 개수들"
      ],
      "metadata": {
        "id": "dL9wP51A0ikN",
        "colab": {
          "base_uri": "https://localhost:8080/",
          "height": 248
        },
        "outputId": "9c03b0c4-0464-41e1-f27f-6abea135d9c5"
      },
      "execution_count": 2,
      "outputs": [
        {
          "output_type": "display_data",
          "data": {
            "text/plain": [
              "<Figure size 864x288 with 1 Axes>"
            ],
            "image/png": "[encoded data removed]"
          },
          "metadata": {
            "needs_background": "light"
          }
        }
      ]
    },
    {
      "cell_type": "markdown",
      "source": [
        "## for문을 이용해 optimal depth 찾기"
      ],
      "metadata": {
        "id": "c1htUzFSs7F2"
      }
    },
    {
      "cell_type": "code",
      "source": [
        "# 최적의 depth 찾기\n",
        "from sklearn.model_selection import train_test_split\n",
        "from sklearn.tree import DecisionTreeClassifier\n",
        "from sklearn import tree\n",
        "from sklearn.datasets import load_iris\n",
        "import matplotlib.pyplot as plt\n",
        "import numpy as np\n",
        "\n",
        "# data 읽어오기\n",
        "iris = load_iris()\n",
        "\n",
        "# dataset 생성\n",
        "x_train, x_test, y_train, y_test = train_test_split(iris['data'], iris['target'], test_size=0.2)\n",
        "\n",
        "# max_depth = 30으로 설정하고 최적의 depth찾기\n",
        "max_depth = 30\n",
        "acc_test = []\n",
        "acc_train = []\n",
        "for i in range(1, max_depth+1):       # 분기가 1이상이여야 하기 때문에 1부터 시작\n",
        "  # DT로 데이터 학습\n",
        "  dt = DecisionTreeClassifier(max_depth=i)   \n",
        "  dt.fit(x_train, y_train)\n",
        "\n",
        "  y_pred = dt.predict(x_test)\n",
        "  acc_test.append((y_test == y_pred).mean())\n",
        "\n",
        "  y_pred = dt.predict(x_train)\n",
        "  acc_train.append((y_train == y_pred).mean())\n",
        "\n",
        "  # 아래처럼해도 된다.\n",
        "  # acc_test.append(dt.score(x_test, y_test))\n",
        "  # acc_train.append(dt.score(x_train, y_train))\n",
        "\n",
        "print(acc_test)\n",
        "print(acc_train)\n",
        "\n",
        "# plt으로 시각화\n",
        "plt.figure(figsize=(8, 5))\n",
        "plt.plot(acc_test, marker='o', label=\"Test Data\")\n",
        "plt.plot(acc_train, marker='o', label=\"Train Data\")\n",
        "plt.legend()\n",
        "plt.xlabel(\"max_depth\")\n",
        "plt.ylabel(\"Accuracy\")\n",
        "plt.xticks(np.arange(max_depth), np.arange(1, max_depth + 1))\n",
        "plt.show()\n",
        "\n",
        "opt_depth = np.argmax(acc_test)\n",
        "opt_acc = acc_test[opt_depth]\n",
        "\n",
        "print(\"optimal depth = {}, accuracy = {:.3f}\".format(opt_depth + 1, opt_acc))"
      ],
      "metadata": {
        "colab": {
          "base_uri": "https://localhost:8080/",
          "height": 409
        },
        "id": "EXX1nw8ZGC67",
        "outputId": "5b26b393-372c-4854-8f2c-e8bc0234e8b4"
      },
      "execution_count": 3,
      "outputs": [
        {
          "output_type": "stream",
          "name": "stdout",
          "text": [
            "[0.6333333333333333, 0.9333333333333333, 0.9666666666666667, 0.9666666666666667, 0.9666666666666667, 0.9666666666666667, 0.9666666666666667, 0.9666666666666667, 0.9666666666666667, 0.9666666666666667, 0.9666666666666667, 0.9666666666666667, 0.9666666666666667, 0.9666666666666667, 0.9666666666666667, 0.9666666666666667, 0.9666666666666667, 0.9666666666666667, 0.9666666666666667, 0.9666666666666667, 0.9666666666666667, 0.9666666666666667, 0.9666666666666667, 0.9666666666666667, 0.9666666666666667, 0.9666666666666667, 0.9666666666666667, 0.9666666666666667, 0.9666666666666667, 0.9666666666666667]\n",
            "[0.675, 0.9666666666666667, 0.975, 0.9916666666666667, 1.0, 1.0, 1.0, 1.0, 1.0, 1.0, 1.0, 1.0, 1.0, 1.0, 1.0, 1.0, 1.0, 1.0, 1.0, 1.0, 1.0, 1.0, 1.0, 1.0, 1.0, 1.0, 1.0, 1.0, 1.0, 1.0]\n"
          ]
        },
        {
          "output_type": "display_data",
          "data": {
            "text/plain": [
              "<Figure size 576x360 with 1 Axes>"
            ],
            "image/png": "[encoded data removed]"
          },
          "metadata": {
            "needs_background": "light"
          }
        },
        {
          "output_type": "stream",
          "name": "stdout",
          "text": [
            "optimal depth = 3, accuracy = 0.967\n"
          ]
        }
      ]
    },
    {
      "cell_type": "code",
      "source": [
        "# 당뇨병 환자 데이터를 읽어와 KNN, DT를 이용해서 예측해보고 결과 비교하기\n",
        "# 캐글 Diabetes Dataset 링크\n",
        "# https://www.kaggle.com/datasets/mathchi/diabetes-data-set?resource=download\n",
        "\n",
        "import pandas as pd\n",
        "\n",
        "df = pd.read_csv('/content/diabetes.csv')\n",
        "df.head()"
      ],
      "metadata": {
        "colab": {
          "base_uri": "https://localhost:8080/",
          "height": 206
        },
        "id": "cuMz3glZI4nj",
        "outputId": "c7809095-d41d-43c9-a9bc-9daccc1bb572"
      },
      "execution_count": 4,
      "outputs": [
        {
          "output_type": "execute_result",
          "data": {
            "text/plain": [
              "   Pregnancies  Glucose  BloodPressure  SkinThickness  Insulin   BMI  \\\n",
              "0            6      148             72             35        0  33.6   \n",
              "1            1       85             66             29        0  26.6   \n",
              "2            8      183             64              0        0  23.3   \n",
              "3            1       89             66             23       94  28.1   \n",
              "4            0      137             40             35      168  43.1   \n",
              "\n",
              "   DiabetesPedigreeFunction  Age  Outcome  \n",
              "0                     0.627   50        1  \n",
              "1                     0.351   31        0  \n",
              "2                     0.672   32        1  \n",
              "3                     0.167   21        0  \n",
              "4                     2.288   33        1  "
            ],
            "text/html": [
              "\n",
              "  <div id=\"df-33d7bd05-9cd8-4c1f-99f5-213fb8837a49\">\n",
              "    <div class=\"colab-df-container\">\n",
              "      <div>\n",
              "<style scoped>\n",
              "    .dataframe tbody tr th:only-of-type {\n",
              "        vertical-align: middle;\n",
              "    }\n",
              "\n",
              "    .dataframe tbody tr th {\n",
              "        vertical-align: top;\n",
              "    }\n",
              "\n",
              "    .dataframe thead th {\n",
              "        text-align: right;\n",
              "    }\n",
              "</style>\n",
              "<table border=\"1\" class=\"dataframe\">\n",
              "  <thead>\n",
              "    <tr style=\"text-align: right;\">\n",
              "      <th></th>\n",
              "      <th>Pregnancies</th>\n",
              "      <th>Glucose</th>\n",
              "      <th>BloodPressure</th>\n",
              "      <th>SkinThickness</th>\n",
              "      <th>Insulin</th>\n",
              "      <th>BMI</th>\n",
              "      <th>DiabetesPedigreeFunction</th>\n",
              "      <th>Age</th>\n",
              "      <th>Outcome</th>\n",
              "    </tr>\n",
              "  </thead>\n",
              "  <tbody>\n",
              "    <tr>\n",
              "      <th>0</th>\n",
              "      <td>6</td>\n",
              "      <td>148</td>\n",
              "      <td>72</td>\n",
              "      <td>35</td>\n",
              "      <td>0</td>\n",
              "      <td>33.6</td>\n",
              "      <td>0.627</td>\n",
              "      <td>50</td>\n",
              "      <td>1</td>\n",
              "    </tr>\n",
              "    <tr>\n",
              "      <th>1</th>\n",
              "      <td>1</td>\n",
              "      <td>85</td>\n",
              "      <td>66</td>\n",
              "      <td>29</td>\n",
              "      <td>0</td>\n",
              "      <td>26.6</td>\n",
              "      <td>0.351</td>\n",
              "      <td>31</td>\n",
              "      <td>0</td>\n",
              "    </tr>\n",
              "    <tr>\n",
              "      <th>2</th>\n",
              "      <td>8</td>\n",
              "      <td>183</td>\n",
              "      <td>64</td>\n",
              "      <td>0</td>\n",
              "      <td>0</td>\n",
              "      <td>23.3</td>\n",
              "      <td>0.672</td>\n",
              "      <td>32</td>\n",
              "      <td>1</td>\n",
              "    </tr>\n",
              "    <tr>\n",
              "      <th>3</th>\n",
              "      <td>1</td>\n",
              "      <td>89</td>\n",
              "      <td>66</td>\n",
              "      <td>23</td>\n",
              "      <td>94</td>\n",
              "      <td>28.1</td>\n",
              "      <td>0.167</td>\n",
              "      <td>21</td>\n",
              "      <td>0</td>\n",
              "    </tr>\n",
              "    <tr>\n",
              "      <th>4</th>\n",
              "      <td>0</td>\n",
              "      <td>137</td>\n",
              "      <td>40</td>\n",
              "      <td>35</td>\n",
              "      <td>168</td>\n",
              "      <td>43.1</td>\n",
              "      <td>2.288</td>\n",
              "      <td>33</td>\n",
              "      <td>1</td>\n",
              "    </tr>\n",
              "  </tbody>\n",
              "</table>\n",
              "</div>\n",
              "      <button class=\"colab-df-convert\" onclick=\"convertToInteractive('df-33d7bd05-9cd8-4c1f-99f5-213fb8837a49')\"\n",
              "              title=\"Convert this dataframe to an interactive table.\"\n",
              "              style=\"display:none;\">\n",
              "        \n",
              "  <svg xmlns=\"http://www.w3.org/2000/svg\" height=\"24px\"viewBox=\"0 0 24 24\"\n",
              "       width=\"24px\">\n",
              "    <path d=\"M0 0h24v24H0V0z\" fill=\"none\"/>\n",
              "    <path d=\"M18.56 5.44l.94 2.06.94-2.06 2.06-.94-2.06-.94-.94-2.06-.94 2.06-2.06.94zm-11 1L8.5 8.5l.94-2.06 2.06-.94-2.06-.94L8.5 2.5l-.94 2.06-2.06.94zm10 10l.94 2.06.94-2.06 2.06-.94-2.06-.94-.94-2.06-.94 2.06-2.06.94z\"/><path d=\"M17.41 7.96l-1.37-1.37c-.4-.4-.92-.59-1.43-.59-.52 0-1.04.2-1.43.59L10.3 9.45l-7.72 7.72c-.78.78-.78 2.05 0 2.83L4 21.41c.39.39.9.59 1.41.59.51 0 1.02-.2 1.41-.59l7.78-7.78 2.81-2.81c.8-.78.8-2.07 0-2.86zM5.41 20L4 18.59l7.72-7.72 1.47 1.35L5.41 20z\"/>\n",
              "  </svg>\n",
              "      </button>\n",
              "      \n",
              "  <style>\n",
              "    .colab-df-container {\n",
              "      display:flex;\n",
              "      flex-wrap:wrap;\n",
              "      gap: 12px;\n",
              "    }\n",
              "\n",
              "    .colab-df-convert {\n",
              "      background-color: #E8F0FE;\n",
              "      border: none;\n",
              "      border-radius: 50%;\n",
              "      cursor: pointer;\n",
              "      display: none;\n",
              "      fill: #1967D2;\n",
              "      height: 32px;\n",
              "      padding: 0 0 0 0;\n",
              "      width: 32px;\n",
              "    }\n",
              "\n",
              "    .colab-df-convert:hover {\n",
              "      background-color: #E2EBFA;\n",
              "      box-shadow: 0px 1px 2px rgba(60, 64, 67, 0.3), 0px 1px 3px 1px rgba(60, 64, 67, 0.15);\n",
              "      fill: #174EA6;\n",
              "    }\n",
              "\n",
              "    [theme=dark] .colab-df-convert {\n",
              "      background-color: #3B4455;\n",
              "      fill: #D2E3FC;\n",
              "    }\n",
              "\n",
              "    [theme=dark] .colab-df-convert:hover {\n",
              "      background-color: #434B5C;\n",
              "      box-shadow: 0px 1px 3px 1px rgba(0, 0, 0, 0.15);\n",
              "      filter: drop-shadow(0px 1px 2px rgba(0, 0, 0, 0.3));\n",
              "      fill: #FFFFFF;\n",
              "    }\n",
              "  </style>\n",
              "\n",
              "      <script>\n",
              "        const buttonEl =\n",
              "          document.querySelector('#df-33d7bd05-9cd8-4c1f-99f5-213fb8837a49 button.colab-df-convert');\n",
              "        buttonEl.style.display =\n",
              "          google.colab.kernel.accessAllowed ? 'block' : 'none';\n",
              "\n",
              "        async function convertToInteractive(key) {\n",
              "          const element = document.querySelector('#df-33d7bd05-9cd8-4c1f-99f5-213fb8837a49');\n",
              "          const dataTable =\n",
              "            await google.colab.kernel.invokeFunction('convertToInteractive',\n",
              "                                                     [key], {});\n",
              "          if (!dataTable) return;\n",
              "\n",
              "          const docLinkHtml = 'Like what you see? Visit the ' +\n",
              "            '<a target=\"_blank\" href=https://colab.research.google.com/notebooks/data_table.ipynb>data table notebook</a>'\n",
              "            + ' to learn more about interactive tables.';\n",
              "          element.innerHTML = '';\n",
              "          dataTable['output_type'] = 'display_data';\n",
              "          await google.colab.output.renderOutput(dataTable, element);\n",
              "          const docLink = document.createElement('div');\n",
              "          docLink.innerHTML = docLinkHtml;\n",
              "          element.appendChild(docLink);\n",
              "        }\n",
              "      </script>\n",
              "    </div>\n",
              "  </div>\n",
              "  "
            ]
          },
          "metadata": {},
          "execution_count": 4
        }
      ]
    },
    {
      "cell_type": "code",
      "source": [
        "data = df.to_numpy()[:, :-1]\n",
        "target = df['Outcome'].to_numpy()\n",
        "\n",
        "x_train, x_test, y_train, y_test = train_test_split(data, target, test_size=0.2)"
      ],
      "metadata": {
        "id": "vDuAQ13qVwFb"
      },
      "execution_count": 5,
      "outputs": []
    },
    {
      "cell_type": "code",
      "source": [
        "# max_depth 1~20까지 중에 정확도가 가장 큰 depth 찾기\n",
        "max_dep = 20\n",
        "acc_test = []\n",
        "acc_train = []\n",
        "\n",
        "for i in range(1, max_dep+1):\n",
        "  # DT 객체 생성 후 훈련\n",
        "  dt = DecisionTreeClassifier(max_depth=i)\n",
        "  dt.fit(x_train, y_train)\n",
        "\n",
        "  acc_test.append(dt.score(x_test, y_test))\n",
        "  acc_train.append(dt.score(x_train, y_train))\n",
        "\n",
        "opt_depth = np.argmax(acc_test)\n",
        "opt_acc = acc_test[opt_depth]\n",
        "\n",
        "print(\"optimal depth = {}, accuracy = {:.3f}\".format(opt_depth + 1, opt_acc))\n",
        "\n",
        "# opt_depth로 최종모델 생성\n",
        "model = DecisionTreeClassifier(max_depth=opt_depth)\n",
        "\n",
        "# new data 테스트\n",
        "new_data = [3., 127., 85., 25., 473., 27., 0.5, 37.]\n",
        "d = np.array(new_data).reshape(1, -1)\n",
        "\n",
        "y_hat = dt.predict(d)\n",
        "print(f'x = [3., 127., 85., 25., 473., 27., 0.5, 37.] --> prediction y:{y_hat[0]}')     # {y_hat[0]}"
      ],
      "metadata": {
        "colab": {
          "base_uri": "https://localhost:8080/"
        },
        "id": "bDR414LoW4V6",
        "outputId": "8b2ef8a2-ce45-4e7c-8464-634db7386605"
      },
      "execution_count": 6,
      "outputs": [
        {
          "output_type": "stream",
          "name": "stdout",
          "text": [
            "optimal depth = 1, accuracy = 0.740\n",
            "x = [3., 127., 85., 25., 473., 27., 0.5, 37.] --> prediction y:0\n"
          ]
        }
      ]
    },
    {
      "cell_type": "code",
      "source": [
        ""
      ],
      "metadata": {
        "id": "fhQlw-SnOz2g"
      },
      "execution_count": 6,
      "outputs": []
    }
  ]
}