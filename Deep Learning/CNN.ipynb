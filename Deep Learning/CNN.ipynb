{
  "nbformat": 4,
  "nbformat_minor": 0,
  "metadata": {
    "colab": {
      "name": "0314(CNN).ipynb",
      "provenance": []
    },
    "kernelspec": {
      "name": "python3",
      "display_name": "Python 3"
    },
    "language_info": {
      "name": "python"
    },
    "accelerator": "GPU"
  },
  "cells": [
    {
      "cell_type": "markdown",
      "source": [
        "# CNN(Convolutional Neural Network)"
      ],
      "metadata": {
        "id": "Ay_4r9YbAAuJ"
      }
    },
    {
      "cell_type": "code",
      "execution_count": 1,
      "metadata": {
        "id": "8-gBnP4i1jZ4"
      },
      "outputs": [],
      "source": [
        "import numpy as np\n",
        "import pandas as pd\n",
        "import matplotlib.pyplot as plt\n",
        "from sklearn.model_selection import train_test_split\n",
        "from tensorflow.keras.layers import Conv1D, Conv2D, MaxPool2D, MaxPool1D, Flatten, Input, Dense\n",
        "from tensorflow.keras import optimizers\n",
        "from tensorflow.keras.models import Model\n",
        "from sklearn.datasets import fetch_openml"
      ]
    },
    {
      "cell_type": "code",
      "source": [
        "mnist = fetch_openml('mnist_784')\n",
        "mnist.data.shape, mnist.target.shape"
      ],
      "metadata": {
        "colab": {
          "base_uri": "https://localhost:8080/"
        },
        "id": "w51b18rPBvdY",
        "outputId": "6ef6a56d-7224-4c74-edbf-9fa928b0c037"
      },
      "execution_count": 2,
      "outputs": [
        {
          "output_type": "execute_result",
          "data": {
            "text/plain": [
              "((70000, 784), (70000,))"
            ]
          },
          "metadata": {},
          "execution_count": 2
        }
      ]
    },
    {
      "cell_type": "code",
      "source": [
        "x_feat = mnist.data.to_numpy().reshape(-1, 28, 28)/255\n",
        "y_target = mnist.target.to_numpy().astype('int8').reshape(-1, 1)"
      ],
      "metadata": {
        "id": "g8wYE9I8MUfT"
      },
      "execution_count": 3,
      "outputs": []
    },
    {
      "cell_type": "code",
      "source": [
        "x_train, x_test, y_train, y_test = train_test_split(x_feat, y_target, test_size=0.2)\n",
        "x_train.shape, y_train.shape"
      ],
      "metadata": {
        "colab": {
          "base_uri": "https://localhost:8080/"
        },
        "id": "MDpDIC2XK9GS",
        "outputId": "3c1d2568-1129-48bc-e052-e8a81be95d72"
      },
      "execution_count": 4,
      "outputs": [
        {
          "output_type": "execute_result",
          "data": {
            "text/plain": [
              "((56000, 28, 28), (56000, 1))"
            ]
          },
          "metadata": {},
          "execution_count": 4
        }
      ]
    },
    {
      "cell_type": "code",
      "source": [
        "# xInput = Input(batch_shape=(None, x_feat.shape[1], x_feat.shape[2]))\n",
        "# conv = Conv1D(filters=20, kernel_size=4, strides=1, padding='same', activation='relu')(xInput)\n",
        "# pool = MaxPool1D(pool_size=2)(conv)\n",
        "# flat = Flatten()(pool)\n",
        "# yOutput = Dense(10, activation='softmax')(flat)\n",
        "\n",
        "xInput = Input(batch_shape=(None, x_feat.shape[1], x_feat.shape[2], 1))\n",
        "h_conv = Conv2D(filters=10, kernel_size=(5, 6), strides=1, padding='valid', activation='relu')(xInput)\n",
        "h_pool = MaxPool2D(pool_size=(6, 5), strides=1, padding='valid')(h_conv)\n",
        "h_flat = Flatten()(h_pool)\n",
        "yOutput = Dense(10, activation='softmax')(h_flat)\n",
        "# 19*17\n",
        "model = Model(xInput, yOutput)\n",
        "model.compile(loss='sparse_categorical_crossentropy', optimizer=optimizers.Adam(learning_rate=0.001))"
      ],
      "metadata": {
        "id": "527m6lBHLO7k"
      },
      "execution_count": 19,
      "outputs": []
    },
    {
      "cell_type": "code",
      "source": [
        "hist = model.fit(x_train, y_train, batch_size=1024, epochs=10, validation_data=(x_test, y_test))"
      ],
      "metadata": {
        "colab": {
          "base_uri": "https://localhost:8080/"
        },
        "id": "lp4xbeXcMoSx",
        "outputId": "4244b713-b644-4bbe-c627-71dd42c9e99b"
      },
      "execution_count": 20,
      "outputs": [
        {
          "output_type": "stream",
          "name": "stdout",
          "text": [
            "Epoch 1/10\n",
            "55/55 [==============================] - 1s 15ms/step - loss: 0.7881 - val_loss: 0.2555\n",
            "Epoch 2/10\n",
            "55/55 [==============================] - 0s 9ms/step - loss: 0.1841 - val_loss: 0.1470\n",
            "Epoch 3/10\n",
            "55/55 [==============================] - 1s 10ms/step - loss: 0.1225 - val_loss: 0.1208\n",
            "Epoch 4/10\n",
            "55/55 [==============================] - 0s 9ms/step - loss: 0.0966 - val_loss: 0.1006\n",
            "Epoch 5/10\n",
            "55/55 [==============================] - 1s 9ms/step - loss: 0.0822 - val_loss: 0.0818\n",
            "Epoch 6/10\n",
            "55/55 [==============================] - 0s 9ms/step - loss: 0.0725 - val_loss: 0.0776\n",
            "Epoch 7/10\n",
            "55/55 [==============================] - 0s 9ms/step - loss: 0.0659 - val_loss: 0.0699\n",
            "Epoch 8/10\n",
            "55/55 [==============================] - 0s 9ms/step - loss: 0.0600 - val_loss: 0.0634\n",
            "Epoch 9/10\n",
            "55/55 [==============================] - 0s 9ms/step - loss: 0.0562 - val_loss: 0.0627\n",
            "Epoch 10/10\n",
            "55/55 [==============================] - 0s 9ms/step - loss: 0.0505 - val_loss: 0.0602\n"
          ]
        }
      ]
    },
    {
      "cell_type": "code",
      "source": [
        "model.summary()"
      ],
      "metadata": {
        "colab": {
          "base_uri": "https://localhost:8080/"
        },
        "id": "M9LOpEk-34hu",
        "outputId": "8927730c-67cb-4045-90bc-22305444473c"
      },
      "execution_count": 21,
      "outputs": [
        {
          "output_type": "stream",
          "name": "stdout",
          "text": [
            "Model: \"model_4\"\n",
            "_________________________________________________________________\n",
            " Layer (type)                Output Shape              Param #   \n",
            "=================================================================\n",
            " input_5 (InputLayer)        [(None, 28, 28, 1)]       0         \n",
            "                                                                 \n",
            " conv2d_4 (Conv2D)           (None, 24, 23, 10)        310       \n",
            "                                                                 \n",
            " max_pooling2d_4 (MaxPooling  (None, 19, 19, 10)       0         \n",
            " 2D)                                                             \n",
            "                                                                 \n",
            " flatten_4 (Flatten)         (None, 3610)              0         \n",
            "                                                                 \n",
            " dense_4 (Dense)             (None, 10)                36110     \n",
            "                                                                 \n",
            "=================================================================\n",
            "Total params: 36,420\n",
            "Trainable params: 36,420\n",
            "Non-trainable params: 0\n",
            "_________________________________________________________________\n"
          ]
        }
      ]
    },
    {
      "cell_type": "code",
      "source": [
        "y_prob = model.predict(x_test)\n",
        "y_pred = np.argmax(y_prob, axis=1).reshape(-1, 1)\n",
        "# y_pred[:10]\n",
        "acc = (y_pred == y_test).mean()\n",
        "print(acc.round(4))"
      ],
      "metadata": {
        "colab": {
          "base_uri": "https://localhost:8080/"
        },
        "id": "2ytY2JxFNf2C",
        "outputId": "28b8d3a4-131d-4404-cfd4-dae709e7f66c"
      },
      "execution_count": 22,
      "outputs": [
        {
          "output_type": "stream",
          "name": "stdout",
          "text": [
            "0.9824\n"
          ]
        }
      ]
    },
    {
      "cell_type": "code",
      "source": [
        ""
      ],
      "metadata": {
        "colab": {
          "base_uri": "https://localhost:8080/"
        },
        "id": "d-idjpurNx6a",
        "outputId": "f9cf2abc-72bc-4d5b-f5be-a6eb1a911373"
      },
      "execution_count": 116,
      "outputs": [
        {
          "output_type": "stream",
          "name": "stdout",
          "text": [
            "0.9445\n"
          ]
        }
      ]
    },
    {
      "cell_type": "markdown",
      "source": [
        "## Combined RNN and CNN (MNIST)"
      ],
      "metadata": {
        "id": "kcczf79XDqTw"
      }
    },
    {
      "cell_type": "code",
      "source": [
        "import numpy as np\n",
        "import pandas as pd\n",
        "import matplotlib.pyplot as plt\n",
        "from tensorflow.keras.layers import Input, Dense, Conv1D, MaxPool1D, Flatten, LSTM, Concatenate\n",
        "from tensorflow.keras.models import Model\n",
        "from tensorflow.keras import optimizers\n",
        "from sklearn.model_selection import train_test_split\n",
        "from sklearn.datasets import fetch_openml"
      ],
      "metadata": {
        "id": "txIKwn0NDy4N"
      },
      "execution_count": 1,
      "outputs": []
    },
    {
      "cell_type": "code",
      "source": [
        "mnist = fetch_openml('mnist_784')\n",
        "mnist.data.shape, mnist.target.shape"
      ],
      "metadata": {
        "colab": {
          "base_uri": "https://localhost:8080/"
        },
        "id": "m5v6aXakEo3d",
        "outputId": "c81cac31-3874-4692-f02a-3f5c106c5eaa"
      },
      "execution_count": 2,
      "outputs": [
        {
          "output_type": "execute_result",
          "data": {
            "text/plain": [
              "((70000, 784), (70000,))"
            ]
          },
          "metadata": {},
          "execution_count": 2
        }
      ]
    },
    {
      "cell_type": "code",
      "source": [
        "x_feat = mnist.data.to_numpy().reshape(-1, 28, 28) / 255\n",
        "y_target = mnist.target.to_numpy().astype('int8').reshape(-1, 1)"
      ],
      "metadata": {
        "id": "UMoxna4RFDrd"
      },
      "execution_count": 3,
      "outputs": []
    },
    {
      "cell_type": "code",
      "source": [
        "x_train, x_test, y_train, y_test = train_test_split(x_feat, y_target, test_size=0.2)"
      ],
      "metadata": {
        "id": "Lqk5Y25oFU8F"
      },
      "execution_count": 4,
      "outputs": []
    },
    {
      "cell_type": "code",
      "source": [
        "x_input = Input(batch_shape=(None, x_feat.shape[1], x_feat.shape[2]))\n",
        "\n",
        "# CNN part\n",
        "h_conv = Conv1D(filters=64, kernel_size=5, padding='same', activation='relu')(x_input)\n",
        "h_pool = MaxPool1D(pool_size=4, strides=1, padding='same')(h_conv)\n",
        "h_flat_cnn = Flatten()(h_pool)\n",
        "\n",
        "# RNN part\n",
        "h_lstm1 = LSTM(128, return_sequences=True)(x_input)\n",
        "h_lstm2 = LSTM(128, return_sequences=False)(h_lstm1)\n",
        "h_flat_rnn = Flatten()(h_lstm2)\n",
        "\n",
        "# Concate\n",
        "concat = Concatenate()([h_flat_cnn, h_flat_rnn])\n",
        "\n",
        "y_output = Dense(10, activation='softmax')(concat)\n",
        "\n",
        "model = Model(x_input, y_output)\n",
        "model.compile(loss='sparse_categorical_crossentropy', optimizer=optimizers.Adam(learning_rate=0.001))\n"
      ],
      "metadata": {
        "id": "CGT15Zw0Eo1H"
      },
      "execution_count": 18,
      "outputs": []
    },
    {
      "cell_type": "code",
      "source": [
        "hist = model.fit(x_train, y_train, batch_size=512, epochs= 30, validation_data=(x_test, y_test))"
      ],
      "metadata": {
        "id": "Pr5wZYVlIuwL"
      },
      "execution_count": null,
      "outputs": []
    },
    {
      "cell_type": "code",
      "source": [
        "model.summary()"
      ],
      "metadata": {
        "id": "2IwxU1j_RD_P"
      },
      "execution_count": null,
      "outputs": []
    },
    {
      "cell_type": "code",
      "source": [
        "y_prob = model.predict(x_test)\n",
        "y_pred = np.argmax(y_prob, axis=1).reshape(-1, 1)\n",
        "acc = (y_test == y_pred).mean()\n",
        "print('acc:', acc.round(4))"
      ],
      "metadata": {
        "colab": {
          "base_uri": "https://localhost:8080/"
        },
        "id": "2fU0SCqqIupQ",
        "outputId": "3ccb027f-1bd5-48c2-b4bb-6ed16d51ef32"
      },
      "execution_count": 20,
      "outputs": [
        {
          "output_type": "stream",
          "name": "stdout",
          "text": [
            "acc: 0.9909\n"
          ]
        }
      ]
    },
    {
      "cell_type": "markdown",
      "source": [
        "# 강사님코드"
      ],
      "metadata": {
        "id": "A354pPaEOA2Z"
      }
    },
    {
      "cell_type": "markdown",
      "source": [
        "### sine"
      ],
      "metadata": {
        "id": "gEpZ41S9VWfV"
      }
    },
    {
      "cell_type": "code",
      "source": [
        "# CNN 예시 : 1D convolution을 이용하여 noisy sine 시계열을 예측한다.\n",
        "from tensorflow.keras.layers import Input, Dense, Conv1D, MaxPooling1D, Flatten\n",
        "from tensorflow.keras.models import Model\n",
        "from tensorflow.keras import optimizers\n",
        "import numpy as np\n",
        "import pandas as pd\n",
        "import matplotlib.pyplot as plt\n",
        "\n",
        "# 2차원 배열의 feature 데이터로 CNN 학습 데이터를 만든다.\n",
        "def build_train_data(data, t_step, n_jump = 1):\n",
        "    n_data = data.shape[0]   # number of data\n",
        "    n_feat = data.shape[1]   # number of features\n",
        "\n",
        "    m = np.arange(0, n_data - t_step, n_jump)   # m =  [0, 1, 2, 3, 4, 5]\n",
        "    x = [data[i:(i+t_step), :] for i in m]      # feature data\n",
        "    y = [data[i, :] for i in (m + t_step)]      # target data\n",
        "\n",
        "    # shape을 조정한다. feature = 3D, target = 2D\n",
        "    x_data = np.reshape(np.array(x), (len(m), t_step, n_feat))\n",
        "    y_target = np.reshape(np.array(y), (len(m), n_feat))\n",
        "    \n",
        "    return x_data, y_target\n",
        "\n",
        "# 시계열 데이터 (noisy sin)\n",
        "n_data = 1000\n",
        "sine = np.sin(2 * np.pi * 0.03 * np.arange(n_data)) + np.random.random(n_data) # noisy sine\n",
        "\n",
        "# 데이터가 데이터프레임 형식으로 되어 있다고 생각하자. feature가 1개이고 target이 없는 데이터임.\n",
        "# 미래의 sine 값을 target으로 만들어 주고, CNN을 학습한다.\n",
        "df = pd.DataFrame({'sine':sine})\n",
        "df.head()\n",
        "\n",
        "t_step = 20\n",
        "\n",
        "# 학습 데이터를 생성한다.\n",
        "data = np.array(df)\n",
        "x_train, y_train = build_train_data(data, t_step)\n",
        "x_train.shape, y_train.shape\n",
        "\n",
        "# Convolutional 1D 모델을 생성한다.\n",
        "n_feat = 1\n",
        "x_input = Input(batch_shape = (None, t_step, n_feat))\n",
        "x_conv = Conv1D(filters=30, kernel_size=4, strides=1, padding = 'same', activation='relu')(x_input)\n",
        "x_pool = MaxPooling1D(pool_size=3, strides=1, padding='valid')(x_conv)\n",
        "x_flat = Flatten()(x_pool)\n",
        "y_output = Dense(1)(x_flat)\n",
        "\n",
        "model = Model(x_input, y_output)\n",
        "model.compile(loss='mse', optimizer = optimizers.Adam(learning_rate=0.001))\n",
        "model.summary(line_length=80)\n",
        "\n",
        "# 모델을 학습한다.\n",
        "h = model.fit(x_train, y_train, epochs = 50, batch_size = 32)\n",
        "\n",
        "# Loss history를 그린다\n",
        "plt.figure(figsize=(8, 3))\n",
        "plt.plot(h.history['loss'], color='red')\n",
        "plt.title(\"Loss History\")\n",
        "plt.xlabel(\"epoch\")\n",
        "plt.ylabel(\"loss\")\n",
        "plt.show()\n",
        "\n",
        "# 향후 20 기간 데이터를 예측한다. 향후 1 기간을 예측하고, 예측값을 다시 입력하여 2 기간을 예측한다.\n",
        "# 이런 방식으로 50 기간까지 예측한다.\n",
        "n_future = 50\n",
        "n_last = 100\n",
        "last_data = data[-n_last:]  # 원 데이터의 마지막 n_last개만 그려본다\n",
        "\n",
        "for i in range(n_future):\n",
        "    # 마지막 t_step 만큼 입력데이터로 다음 값을 예측한다\n",
        "    px = last_data[-t_step:, :].reshape(1, t_step, 1)\n",
        "\n",
        "    # 다음 값을 예측한다.\n",
        "    y_hat = model.predict(px)\n",
        "    \n",
        "    # 이전 예측값을 포함하여 또 다음 값을 예측하기위해 예측한 값을 저장해 둔다\n",
        "    last_data = np.vstack([last_data, y_hat])\n",
        "\n",
        "past_data = last_data[:-n_future, :]\n",
        "future_data = last_data[-(n_future + 1):, :]\n",
        "\n",
        "last_data.shape, past_data.shape, future_data.shape\n",
        "\n",
        "# 원 시계열과 예측된 시계열을 그린다\n",
        "plt.figure(figsize=(12, 6))\n",
        "ax1 = np.arange(1, len(past_data) + 1)\n",
        "ax2 = np.arange(len(past_data), len(past_data) + len(future_data))\n",
        "plt.plot(ax1, past_data, 'b-o', color='blue', markersize=3, label='Time series', linewidth=1)\n",
        "plt.plot(ax2, future_data, 'b-o', color='red', markersize=3, label='Estimatedk')\n",
        "plt.axvline(x=ax1[-1],  linestyle='dashed', linewidth=1)\n",
        "plt.legend()\n",
        "plt.show()\n"
      ],
      "metadata": {
        "id": "3J5M1tRIOBz7"
      },
      "execution_count": null,
      "outputs": []
    },
    {
      "cell_type": "markdown",
      "source": [
        "### MNIST"
      ],
      "metadata": {
        "id": "FQu0EB-fTxSW"
      }
    },
    {
      "cell_type": "code",
      "source": [
        "# CNN 예시 : 1D convolution을 이용하여 mnist 이미지를 분석한다.\n",
        "from tensorflow.keras.layers import Input, Dense, Conv1D, MaxPooling1D, Flatten\n",
        "from tensorflow.keras.models import Model\n",
        "from tensorflow.keras import optimizers\n",
        "from sklearn.model_selection import train_test_split\n",
        "import numpy as np\n",
        "import pandas as pd\n",
        "import pickle\n",
        "import matplotlib.pyplot as plt\n",
        "\n",
        "# 저장된 mnist 데이터를 읽어온다.\n",
        "# DATA_PATH = '/content/drive/MyDrive/Colab Notebooks/data/'\n",
        "# with open(DATA_PATH + 'mnist.pkl', 'rb') as f:\n",
        "#         mnist = pickle.load(f)\n",
        "\n",
        "# mnist['data'] 숫자의 범위를 변환한다 (표준화) : 0 ~ 255 --> 0 ~ 1.0\n",
        "# target = ['1', '2',...] 문자로 돼있음. --> 숫자로 변환해야 함.\n",
        "x_feat = np.array(mnist['data']).reshape(-1, 28, 28) / 255\n",
        "y_target = np.array(mnist['target'].to_numpy().astype('int8')).reshape(-1,1)\n",
        "\n",
        "# 학습 데이터와 시험 데이터를 생성한다.\n",
        "x_train, x_test, y_train, y_test = train_test_split(x_feat, y_target, test_size=0.2)\n",
        "x_train.shape, x_test.shape, y_train.shape, y_test.shape\n",
        "\n",
        "# Convolutional 1D 모델을 생성한다.\n",
        "n_row = x_train.shape[1]\n",
        "n_col = x_train.shape[2]\n",
        "n_class = len(set(y_train[:, 0]))\n",
        "\n",
        "x_input = Input(batch_shape = (None, n_row, n_col))\n",
        "h_conv = Conv1D(filters=30, kernel_size=6, strides=1, padding = 'same', activation='relu')(x_input)\n",
        "h_pool = MaxPooling1D(pool_size=4, strides=1, padding='valid')(h_conv)\n",
        "h_flat = Flatten()(h_pool)\n",
        "y_output = Dense(n_class, activation='softmax')(h_flat)\n",
        "\n",
        "model = Model(x_input, y_output)\n",
        "model.compile(loss='sparse_categorical_crossentropy', optimizer = optimizers.Adam(learning_rate=0.001))\n",
        "model.summary(line_length=80)\n",
        "\n",
        "hist = model.fit(x_train, y_train, \n",
        "                 batch_size=1024, \n",
        "                 epochs=50, \n",
        "                 validation_data = (x_test, y_test))\n",
        "\n",
        "# Loss history를 그린다\n",
        "plt.plot(hist.history['loss'], color='blue', label='train')\n",
        "plt.plot(hist.history['val_loss'], color='red', label='test')\n",
        "plt.legend()\n",
        "plt.title(\"Loss History\")\n",
        "plt.xlabel(\"epoch\")\n",
        "plt.ylabel(\"loss\")\n",
        "plt.show()\n",
        "\n",
        "y_prob = model.predict(x_test)\n",
        "y_pred = np.argmax(y_prob, axis=1).reshape(-1,1)\n",
        "acc = (y_test == y_pred).mean()\n",
        "print('정확도 ={:.4f}'.format(acc))\n",
        "\n",
        "import pandas as pd\n",
        "df = pd.DataFrame({'y_test': y_test.reshape(-1,), 'y_pred': y_pred.reshape(-1,)})\n",
        "df.head(10)\n",
        "\n",
        "# 잘못 분류한 이미지 몇개를 확인해 본다.\n",
        "# 어떤 이미지를 잘 맞추지 못할까? 사람이라면 아래 이미지를 잘 맞출 수 있을까?\n",
        "n_sample = 10\n",
        "miss_cls = np.where(y_test != y_pred)[0]\n",
        "miss_sam = np.random.choice(miss_cls, n_sample)\n",
        "\n",
        "fig, ax = plt.subplots(1, n_sample, figsize=(14,4))\n",
        "for i, miss in enumerate(miss_sam):\n",
        "    x = x_test[miss] * 255  # 표준화 단계에서 255로 나누었으므로, 여기서는 곱해준다.\n",
        "    ax[i].imshow(x)\n",
        "    ax[i].axis('off')\n",
        "    ax[i].set_title(str(y_test[miss]) + ' / ' + str(y_pred[miss]))\n"
      ],
      "metadata": {
        "colab": {
          "base_uri": "https://localhost:8080/",
          "height": 1000
        },
        "id": "B0v9hBvLTxBp",
        "outputId": "571b1a12-4afc-4edb-e751-a285dbb78487"
      },
      "execution_count": 108,
      "outputs": [
        {
          "output_type": "stream",
          "name": "stdout",
          "text": [
            "Model: \"model_15\"\n",
            "________________________________________________________________________________\n",
            " Layer (type)                       Output Shape                    Param #     \n",
            "================================================================================\n",
            " input_20 (InputLayer)              [(None, 28, 28)]                0           \n",
            "                                                                                \n",
            " conv1d_19 (Conv1D)                 (None, 28, 30)                  5070        \n",
            "                                                                                \n",
            " max_pooling1d_18 (MaxPooling1D)    (None, 25, 30)                  0           \n",
            "                                                                                \n",
            " flatten_18 (Flatten)               (None, 750)                     0           \n",
            "                                                                                \n",
            " dense_18 (Dense)                   (None, 10)                      7510        \n",
            "                                                                                \n",
            "================================================================================\n",
            "Total params: 12,580\n",
            "Trainable params: 12,580\n",
            "Non-trainable params: 0\n",
            "________________________________________________________________________________\n",
            "Epoch 1/50\n",
            "55/55 [==============================] - 4s 68ms/step - loss: 1.1088 - val_loss: 0.4249\n",
            "Epoch 2/50\n",
            "55/55 [==============================] - 4s 65ms/step - loss: 0.3221 - val_loss: 0.2629\n",
            "Epoch 3/50\n",
            "55/55 [==============================] - 4s 64ms/step - loss: 0.2228 - val_loss: 0.2017\n",
            "Epoch 4/50\n",
            "55/55 [==============================] - 7s 129ms/step - loss: 0.1747 - val_loss: 0.1662\n",
            "Epoch 5/50\n",
            "55/55 [==============================] - 4s 80ms/step - loss: 0.1458 - val_loss: 0.1425\n",
            "Epoch 6/50\n",
            "55/55 [==============================] - 4s 65ms/step - loss: 0.1247 - val_loss: 0.1252\n",
            "Epoch 7/50\n",
            "55/55 [==============================] - 4s 65ms/step - loss: 0.1103 - val_loss: 0.1136\n",
            "Epoch 8/50\n",
            "55/55 [==============================] - 4s 64ms/step - loss: 0.0995 - val_loss: 0.1047\n",
            "Epoch 9/50\n",
            "55/55 [==============================] - 4s 64ms/step - loss: 0.0902 - val_loss: 0.0975\n",
            "Epoch 10/50\n",
            "55/55 [==============================] - 3s 64ms/step - loss: 0.0842 - val_loss: 0.0915\n",
            "Epoch 11/50\n",
            "55/55 [==============================] - 4s 64ms/step - loss: 0.0777 - val_loss: 0.0875\n",
            "Epoch 12/50\n",
            "55/55 [==============================] - 3s 64ms/step - loss: 0.0720 - val_loss: 0.0843\n",
            "Epoch 13/50\n",
            "55/55 [==============================] - 3s 64ms/step - loss: 0.0681 - val_loss: 0.0780\n",
            "Epoch 14/50\n",
            "55/55 [==============================] - 4s 64ms/step - loss: 0.0640 - val_loss: 0.0780\n",
            "Epoch 15/50\n",
            "55/55 [==============================] - 3s 63ms/step - loss: 0.0620 - val_loss: 0.0753\n",
            "Epoch 16/50\n",
            "55/55 [==============================] - 4s 81ms/step - loss: 0.0583 - val_loss: 0.0708\n",
            "Epoch 17/50\n",
            "55/55 [==============================] - 3s 63ms/step - loss: 0.0558 - val_loss: 0.0711\n",
            "Epoch 18/50\n",
            "55/55 [==============================] - 3s 62ms/step - loss: 0.0535 - val_loss: 0.0696\n",
            "Epoch 19/50\n",
            "55/55 [==============================] - 3s 61ms/step - loss: 0.0514 - val_loss: 0.0673\n",
            "Epoch 20/50\n",
            "55/55 [==============================] - 3s 61ms/step - loss: 0.0492 - val_loss: 0.0654\n",
            "Epoch 21/50\n",
            "55/55 [==============================] - 3s 60ms/step - loss: 0.0478 - val_loss: 0.0624\n",
            "Epoch 22/50\n",
            "55/55 [==============================] - 3s 61ms/step - loss: 0.0461 - val_loss: 0.0624\n",
            "Epoch 23/50\n",
            "55/55 [==============================] - 3s 61ms/step - loss: 0.0443 - val_loss: 0.0639\n",
            "Epoch 24/50\n",
            "55/55 [==============================] - 3s 61ms/step - loss: 0.0433 - val_loss: 0.0597\n",
            "Epoch 25/50\n",
            "55/55 [==============================] - 3s 62ms/step - loss: 0.0411 - val_loss: 0.0606\n",
            "Epoch 26/50\n",
            "55/55 [==============================] - 3s 60ms/step - loss: 0.0407 - val_loss: 0.0597\n",
            "Epoch 27/50\n",
            "55/55 [==============================] - 3s 61ms/step - loss: 0.0393 - val_loss: 0.0576\n",
            "Epoch 28/50\n",
            "55/55 [==============================] - 3s 60ms/step - loss: 0.0377 - val_loss: 0.0569\n",
            "Epoch 29/50\n",
            "55/55 [==============================] - 3s 61ms/step - loss: 0.0369 - val_loss: 0.0553\n",
            "Epoch 30/50\n",
            "55/55 [==============================] - 3s 61ms/step - loss: 0.0356 - val_loss: 0.0546\n",
            "Epoch 31/50\n",
            "55/55 [==============================] - 3s 61ms/step - loss: 0.0348 - val_loss: 0.0554\n",
            "Epoch 32/50\n",
            "55/55 [==============================] - 3s 61ms/step - loss: 0.0341 - val_loss: 0.0579\n",
            "Epoch 33/50\n",
            "55/55 [==============================] - 3s 60ms/step - loss: 0.0337 - val_loss: 0.0555\n",
            "Epoch 34/50\n",
            "55/55 [==============================] - 3s 60ms/step - loss: 0.0320 - val_loss: 0.0551\n",
            "Epoch 35/50\n",
            "55/55 [==============================] - 4s 69ms/step - loss: 0.0314 - val_loss: 0.0541\n",
            "Epoch 36/50\n",
            "55/55 [==============================] - 3s 61ms/step - loss: 0.0305 - val_loss: 0.0543\n",
            "Epoch 37/50\n",
            "55/55 [==============================] - 3s 61ms/step - loss: 0.0296 - val_loss: 0.0527\n",
            "Epoch 38/50\n",
            "55/55 [==============================] - 3s 61ms/step - loss: 0.0290 - val_loss: 0.0522\n",
            "Epoch 39/50\n",
            "55/55 [==============================] - 3s 60ms/step - loss: 0.0287 - val_loss: 0.0522\n",
            "Epoch 40/50\n",
            "55/55 [==============================] - 3s 63ms/step - loss: 0.0276 - val_loss: 0.0550\n",
            "Epoch 41/50\n",
            "55/55 [==============================] - 3s 61ms/step - loss: 0.0270 - val_loss: 0.0517\n",
            "Epoch 42/50\n",
            "55/55 [==============================] - 3s 61ms/step - loss: 0.0263 - val_loss: 0.0518\n",
            "Epoch 43/50\n",
            "55/55 [==============================] - 3s 60ms/step - loss: 0.0256 - val_loss: 0.0517\n",
            "Epoch 44/50\n",
            "55/55 [==============================] - 3s 60ms/step - loss: 0.0253 - val_loss: 0.0506\n",
            "Epoch 45/50\n",
            "55/55 [==============================] - 3s 60ms/step - loss: 0.0244 - val_loss: 0.0526\n",
            "Epoch 46/50\n",
            "55/55 [==============================] - 3s 60ms/step - loss: 0.0238 - val_loss: 0.0513\n",
            "Epoch 47/50\n",
            "55/55 [==============================] - 3s 60ms/step - loss: 0.0236 - val_loss: 0.0518\n",
            "Epoch 48/50\n",
            "55/55 [==============================] - 3s 61ms/step - loss: 0.0225 - val_loss: 0.0503\n",
            "Epoch 49/50\n",
            "55/55 [==============================] - 4s 71ms/step - loss: 0.0220 - val_loss: 0.0522\n",
            "Epoch 50/50\n",
            "55/55 [==============================] - 7s 121ms/step - loss: 0.0217 - val_loss: 0.0513\n"
          ]
        },
        {
          "output_type": "display_data",
          "data": {
            "text/plain": [
              "<Figure size 432x288 with 1 Axes>"
            ],
            "image/png": "[encoded data removed]"
          },
          "metadata": {
            "needs_background": "light"
          }
        },
        {
          "output_type": "stream",
          "name": "stdout",
          "text": [
            "정확도 =0.9847\n"
          ]
        },
        {
          "output_type": "display_data",
          "data": {
            "text/plain": [
              "<Figure size 1008x288 with 10 Axes>"
            ],
            "image/png": "[encoded data removed]"
          },
          "metadata": {
            "needs_background": "light"
          }
        }
      ]
    },
    {
      "cell_type": "code",
      "source": [
        "# CNN 예시 : 2D convolution을 이용하여 mnist 이미지를 분석한다.\n",
        "from tensorflow.keras.layers import Input, Dense, Conv2D, MaxPooling2D, Flatten\n",
        "from tensorflow.keras.models import Model\n",
        "from tensorflow.keras import optimizers\n",
        "from sklearn.model_selection import train_test_split\n",
        "import numpy as np\n",
        "import pandas as pd\n",
        "import pickle\n",
        "import matplotlib.pyplot as plt\n",
        "\n",
        "# 저장된 mnist 데이터를 읽어온다.\n",
        "DATA_PATH = '/content/drive/MyDrive/Colab Notebooks/data/'\n",
        "with open(DATA_PATH + 'mnist.pkl', 'rb') as f:\n",
        "        mnist = pickle.load(f)\n",
        "\n",
        "# mnist['data'] 숫자의 범위를 변환한다 (표준화) : 0 ~ 255 --> 0 ~ 1.0\n",
        "# target = ['1', '2',...] 문자로 돼있음. --> 숫자로 변환해야 함.\n",
        "x_feat = np.array(mnist['data']).reshape(-1, 28, 28) / 255\n",
        "y_target = np.array(mnist['target'].to_numpy().astype('int8')).reshape(-1,1)\n",
        "\n",
        "# 학습 데이터와 시험 데이터를 생성한다.\n",
        "x_train, x_test, y_train, y_test = train_test_split(x_feat, y_target, test_size=0.2)\n",
        "x_train = x_train[:, :, :, np.newaxis]\n",
        "x_test = x_test[:, :, :, np.newaxis]\n",
        "x_train.shape, x_test.shape, y_train.shape, y_test.shape\n",
        "\n",
        "# Convolutional 2D 모델을 생성한다.\n",
        "n_row = x_train.shape[1]\n",
        "n_col = x_train.shape[2]\n",
        "n_chan = x_train.shape[3]\n",
        "n_class = len(set(y_train[:, 0]))\n",
        "\n",
        "x_input = Input(batch_shape = (None, n_row, n_col, n_chan))\n",
        "x_conv = Conv2D(filters=10, kernel_size=(10, 12), strides=1, padding = 'valid', activation='relu')(x_input)\n",
        "x_pool = MaxPooling2D(pool_size=(6, 5), strides=1, padding='valid')(x_conv)\n",
        "x_flat = Flatten()(x_pool)\n",
        "y_output = Dense(n_class, activation='softmax')(x_flat)\n",
        "\n",
        "model = Model(x_input, y_output)\n",
        "model.compile(loss='sparse_categorical_crossentropy', optimizer = optimizers.Adam(learning_rate=0.001))\n",
        "model.summary()\n",
        "\n",
        "hist = model.fit(x_train, y_train, \n",
        "                 batch_size=1024, \n",
        "                 epochs=50, \n",
        "                 validation_data = (x_test, y_test))\n",
        "\n",
        "# Loss history를 그린다\n",
        "plt.plot(hist.history['loss'], color='blue', label='train')\n",
        "plt.plot(hist.history['val_loss'], color='red', label='test')\n",
        "plt.legend()\n",
        "plt.title(\"Loss History\")\n",
        "plt.xlabel(\"epoch\")\n",
        "plt.ylabel(\"loss\")\n",
        "plt.show()\n",
        "\n",
        "y_prob = model.predict(x_test)\n",
        "y_pred = np.argmax(y_prob, axis=1).reshape(-1,1)\n",
        "acc = (y_test == y_pred).mean()\n",
        "print('정확도 ={:.4f}'.format(acc))\n",
        "\n",
        "import pandas as pd\n",
        "df = pd.DataFrame({'y_test': y_test.reshape(-1,), 'y_pred': y_pred.reshape(-1,)})\n",
        "df.head(10)\n",
        "\n",
        "# 잘못 분류한 이미지 몇개를 확인해 본다.\n",
        "# 어떤 이미지를 잘 맞추지 못할까? 사람이라면 아래 이미지를 잘 맞출 수 있을까?\n",
        "n_sample = 10\n",
        "miss_cls = np.where(y_test != y_pred)[0]\n",
        "miss_sam = np.random.choice(miss_cls, n_sample)\n",
        "\n",
        "fig, ax = plt.subplots(1, n_sample, figsize=(14,4))\n",
        "for i, miss in enumerate(miss_sam):\n",
        "    x = np.squeeze(x_test[miss], axis=-1) * 255  # 표준화 단계에서 255로 나누었으므로, 여기서는 곱해준다.\n",
        "    ax[i].imshow(x)\n",
        "    ax[i].axis('off')\n",
        "    ax[i].set_title(str(y_test[miss]) + ' / ' + str(y_pred[miss]))\n"
      ],
      "metadata": {
        "id": "pQIbG0AM8vpH"
      },
      "execution_count": null,
      "outputs": []
    }
  ]
}