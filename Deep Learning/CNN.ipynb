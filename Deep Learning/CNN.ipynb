{
  "nbformat": 4,
  "nbformat_minor": 0,
  "metadata": {
    "colab": {
      "name": "CNN.ipynb",
      "provenance": [],
      "collapsed_sections": []
    },
    "kernelspec": {
      "name": "python3",
      "display_name": "Python 3"
    },
    "language_info": {
      "name": "python"
    }
  },
  "cells": [
    {
      "cell_type": "markdown",
      "source": [
        "# CNN (Convolutional Neural Network)"
      ],
      "metadata": {
        "id": "Ay_4r9YbAAuJ"
      }
    },
    {
      "cell_type": "markdown",
      "source": [
        "### 0. Import Libraries"
      ],
      "metadata": {
        "id": "VX0RMkJu1TPE"
      }
    },
    {
      "cell_type": "code",
      "execution_count": null,
      "metadata": {
        "id": "8-gBnP4i1jZ4"
      },
      "outputs": [],
      "source": [
        "import numpy as np\n",
        "import pandas as pd\n",
        "import matplotlib.pyplot as plt\n",
        "from sklearn.model_selection import train_test_split\n",
        "from tensorflow.keras.layers import Conv1D, Conv2D, MaxPool2D, MaxPool1D, Flatten, Input, Dense\n",
        "from tensorflow.keras import optimizers\n",
        "from tensorflow.keras.models import Model\n",
        "from sklearn.datasets import fetch_openml"
      ]
    },
    {
      "cell_type": "markdown",
      "source": [
        "### 1. Load Data\n",
        " - fasion mnist data\n",
        "    - 0 : T-shirt/top\n",
        "    - 1 : Trouser\n",
        "    - 2 : Pullover\n",
        "    - 3 : Dress\n",
        "    - 4 : Coat\n",
        "    - 5 : Sandal\n",
        "    - 6 : Shirt\n",
        "    - 7 : Sneaker\n",
        "    - 8 : Bag\n",
        "    - 9 : Ankle boot"
      ],
      "metadata": {
        "id": "hCnzHugJ1GOV"
      }
    },
    {
      "cell_type": "code",
      "source": [
        "mnist = fetch_openml('Fashion-MNIST')\n",
        "mnist.data.shape, mnist.target.shape"
      ],
      "metadata": {
        "colab": {
          "base_uri": "https://localhost:8080/"
        },
        "id": "w51b18rPBvdY",
        "outputId": "b31755cc-cfe8-4673-de40-baab4fbdd813"
      },
      "execution_count": null,
      "outputs": [
        {
          "output_type": "execute_result",
          "data": {
            "text/plain": [
              "((70000, 784), (70000,))"
            ]
          },
          "metadata": {},
          "execution_count": 15
        }
      ]
    },
    {
      "cell_type": "code",
      "source": [
        "mnist.data.head()"
      ],
      "metadata": {
        "colab": {
          "base_uri": "https://localhost:8080/",
          "height": 299
        },
        "id": "UEK7S6Wxn--O",
        "outputId": "8d0e3494-c723-48c5-d32e-c528866d35e5"
      },
      "execution_count": null,
      "outputs": [
        {
          "output_type": "execute_result",
          "data": {
            "text/plain": [
              "   pixel1  pixel2  pixel3  pixel4  pixel5  pixel6  pixel7  pixel8  pixel9  \\\n",
              "0     0.0     0.0     0.0     0.0     0.0     0.0     0.0     0.0     0.0   \n",
              "1     0.0     0.0     0.0     0.0     0.0     1.0     0.0     0.0     0.0   \n",
              "2     0.0     0.0     0.0     0.0     0.0     0.0     0.0     0.0     0.0   \n",
              "3     0.0     0.0     0.0     0.0     0.0     0.0     0.0     0.0    33.0   \n",
              "4     0.0     0.0     0.0     0.0     0.0     0.0     0.0     0.0     0.0   \n",
              "\n",
              "   pixel10  ...  pixel775  pixel776  pixel777  pixel778  pixel779  pixel780  \\\n",
              "0      0.0  ...       0.0       0.0       0.0       0.0       0.0       0.0   \n",
              "1      0.0  ...     119.0     114.0     130.0      76.0       0.0       0.0   \n",
              "2     22.0  ...       0.0       0.0       1.0       0.0       0.0       0.0   \n",
              "3     96.0  ...       0.0       0.0       0.0       0.0       0.0       0.0   \n",
              "4      0.0  ...       0.0       0.0       0.0       0.0       0.0       0.0   \n",
              "\n",
              "   pixel781  pixel782  pixel783  pixel784  \n",
              "0       0.0       0.0       0.0       0.0  \n",
              "1       0.0       0.0       0.0       0.0  \n",
              "2       0.0       0.0       0.0       0.0  \n",
              "3       0.0       0.0       0.0       0.0  \n",
              "4       0.0       0.0       0.0       0.0  \n",
              "\n",
              "[5 rows x 784 columns]"
            ],
            "text/html": [
              "\n",
              "  <div id=\"df-5b760acb-8003-420c-9d6c-e11688776789\">\n",
              "    <div class=\"colab-df-container\">\n",
              "      <div>\n",
              "<style scoped>\n",
              "    .dataframe tbody tr th:only-of-type {\n",
              "        vertical-align: middle;\n",
              "    }\n",
              "\n",
              "    .dataframe tbody tr th {\n",
              "        vertical-align: top;\n",
              "    }\n",
              "\n",
              "    .dataframe thead th {\n",
              "        text-align: right;\n",
              "    }\n",
              "</style>\n",
              "<table border=\"1\" class=\"dataframe\">\n",
              "  <thead>\n",
              "    <tr style=\"text-align: right;\">\n",
              "      <th></th>\n",
              "      <th>pixel1</th>\n",
              "      <th>pixel2</th>\n",
              "      <th>pixel3</th>\n",
              "      <th>pixel4</th>\n",
              "      <th>pixel5</th>\n",
              "      <th>pixel6</th>\n",
              "      <th>pixel7</th>\n",
              "      <th>pixel8</th>\n",
              "      <th>pixel9</th>\n",
              "      <th>pixel10</th>\n",
              "      <th>...</th>\n",
              "      <th>pixel775</th>\n",
              "      <th>pixel776</th>\n",
              "      <th>pixel777</th>\n",
              "      <th>pixel778</th>\n",
              "      <th>pixel779</th>\n",
              "      <th>pixel780</th>\n",
              "      <th>pixel781</th>\n",
              "      <th>pixel782</th>\n",
              "      <th>pixel783</th>\n",
              "      <th>pixel784</th>\n",
              "    </tr>\n",
              "  </thead>\n",
              "  <tbody>\n",
              "    <tr>\n",
              "      <th>0</th>\n",
              "      <td>0.0</td>\n",
              "      <td>0.0</td>\n",
              "      <td>0.0</td>\n",
              "      <td>0.0</td>\n",
              "      <td>0.0</td>\n",
              "      <td>0.0</td>\n",
              "      <td>0.0</td>\n",
              "      <td>0.0</td>\n",
              "      <td>0.0</td>\n",
              "      <td>0.0</td>\n",
              "      <td>...</td>\n",
              "      <td>0.0</td>\n",
              "      <td>0.0</td>\n",
              "      <td>0.0</td>\n",
              "      <td>0.0</td>\n",
              "      <td>0.0</td>\n",
              "      <td>0.0</td>\n",
              "      <td>0.0</td>\n",
              "      <td>0.0</td>\n",
              "      <td>0.0</td>\n",
              "      <td>0.0</td>\n",
              "    </tr>\n",
              "    <tr>\n",
              "      <th>1</th>\n",
              "      <td>0.0</td>\n",
              "      <td>0.0</td>\n",
              "      <td>0.0</td>\n",
              "      <td>0.0</td>\n",
              "      <td>0.0</td>\n",
              "      <td>1.0</td>\n",
              "      <td>0.0</td>\n",
              "      <td>0.0</td>\n",
              "      <td>0.0</td>\n",
              "      <td>0.0</td>\n",
              "      <td>...</td>\n",
              "      <td>119.0</td>\n",
              "      <td>114.0</td>\n",
              "      <td>130.0</td>\n",
              "      <td>76.0</td>\n",
              "      <td>0.0</td>\n",
              "      <td>0.0</td>\n",
              "      <td>0.0</td>\n",
              "      <td>0.0</td>\n",
              "      <td>0.0</td>\n",
              "      <td>0.0</td>\n",
              "    </tr>\n",
              "    <tr>\n",
              "      <th>2</th>\n",
              "      <td>0.0</td>\n",
              "      <td>0.0</td>\n",
              "      <td>0.0</td>\n",
              "      <td>0.0</td>\n",
              "      <td>0.0</td>\n",
              "      <td>0.0</td>\n",
              "      <td>0.0</td>\n",
              "      <td>0.0</td>\n",
              "      <td>0.0</td>\n",
              "      <td>22.0</td>\n",
              "      <td>...</td>\n",
              "      <td>0.0</td>\n",
              "      <td>0.0</td>\n",
              "      <td>1.0</td>\n",
              "      <td>0.0</td>\n",
              "      <td>0.0</td>\n",
              "      <td>0.0</td>\n",
              "      <td>0.0</td>\n",
              "      <td>0.0</td>\n",
              "      <td>0.0</td>\n",
              "      <td>0.0</td>\n",
              "    </tr>\n",
              "    <tr>\n",
              "      <th>3</th>\n",
              "      <td>0.0</td>\n",
              "      <td>0.0</td>\n",
              "      <td>0.0</td>\n",
              "      <td>0.0</td>\n",
              "      <td>0.0</td>\n",
              "      <td>0.0</td>\n",
              "      <td>0.0</td>\n",
              "      <td>0.0</td>\n",
              "      <td>33.0</td>\n",
              "      <td>96.0</td>\n",
              "      <td>...</td>\n",
              "      <td>0.0</td>\n",
              "      <td>0.0</td>\n",
              "      <td>0.0</td>\n",
              "      <td>0.0</td>\n",
              "      <td>0.0</td>\n",
              "      <td>0.0</td>\n",
              "      <td>0.0</td>\n",
              "      <td>0.0</td>\n",
              "      <td>0.0</td>\n",
              "      <td>0.0</td>\n",
              "    </tr>\n",
              "    <tr>\n",
              "      <th>4</th>\n",
              "      <td>0.0</td>\n",
              "      <td>0.0</td>\n",
              "      <td>0.0</td>\n",
              "      <td>0.0</td>\n",
              "      <td>0.0</td>\n",
              "      <td>0.0</td>\n",
              "      <td>0.0</td>\n",
              "      <td>0.0</td>\n",
              "      <td>0.0</td>\n",
              "      <td>0.0</td>\n",
              "      <td>...</td>\n",
              "      <td>0.0</td>\n",
              "      <td>0.0</td>\n",
              "      <td>0.0</td>\n",
              "      <td>0.0</td>\n",
              "      <td>0.0</td>\n",
              "      <td>0.0</td>\n",
              "      <td>0.0</td>\n",
              "      <td>0.0</td>\n",
              "      <td>0.0</td>\n",
              "      <td>0.0</td>\n",
              "    </tr>\n",
              "  </tbody>\n",
              "</table>\n",
              "<p>5 rows × 784 columns</p>\n",
              "</div>\n",
              "      <button class=\"colab-df-convert\" onclick=\"convertToInteractive('df-5b760acb-8003-420c-9d6c-e11688776789')\"\n",
              "              title=\"Convert this dataframe to an interactive table.\"\n",
              "              style=\"display:none;\">\n",
              "        \n",
              "  <svg xmlns=\"http://www.w3.org/2000/svg\" height=\"24px\"viewBox=\"0 0 24 24\"\n",
              "       width=\"24px\">\n",
              "    <path d=\"M0 0h24v24H0V0z\" fill=\"none\"/>\n",
              "    <path d=\"M18.56 5.44l.94 2.06.94-2.06 2.06-.94-2.06-.94-.94-2.06-.94 2.06-2.06.94zm-11 1L8.5 8.5l.94-2.06 2.06-.94-2.06-.94L8.5 2.5l-.94 2.06-2.06.94zm10 10l.94 2.06.94-2.06 2.06-.94-2.06-.94-.94-2.06-.94 2.06-2.06.94z\"/><path d=\"M17.41 7.96l-1.37-1.37c-.4-.4-.92-.59-1.43-.59-.52 0-1.04.2-1.43.59L10.3 9.45l-7.72 7.72c-.78.78-.78 2.05 0 2.83L4 21.41c.39.39.9.59 1.41.59.51 0 1.02-.2 1.41-.59l7.78-7.78 2.81-2.81c.8-.78.8-2.07 0-2.86zM5.41 20L4 18.59l7.72-7.72 1.47 1.35L5.41 20z\"/>\n",
              "  </svg>\n",
              "      </button>\n",
              "      \n",
              "  <style>\n",
              "    .colab-df-container {\n",
              "      display:flex;\n",
              "      flex-wrap:wrap;\n",
              "      gap: 12px;\n",
              "    }\n",
              "\n",
              "    .colab-df-convert {\n",
              "      background-color: #E8F0FE;\n",
              "      border: none;\n",
              "      border-radius: 50%;\n",
              "      cursor: pointer;\n",
              "      display: none;\n",
              "      fill: #1967D2;\n",
              "      height: 32px;\n",
              "      padding: 0 0 0 0;\n",
              "      width: 32px;\n",
              "    }\n",
              "\n",
              "    .colab-df-convert:hover {\n",
              "      background-color: #E2EBFA;\n",
              "      box-shadow: 0px 1px 2px rgba(60, 64, 67, 0.3), 0px 1px 3px 1px rgba(60, 64, 67, 0.15);\n",
              "      fill: #174EA6;\n",
              "    }\n",
              "\n",
              "    [theme=dark] .colab-df-convert {\n",
              "      background-color: #3B4455;\n",
              "      fill: #D2E3FC;\n",
              "    }\n",
              "\n",
              "    [theme=dark] .colab-df-convert:hover {\n",
              "      background-color: #434B5C;\n",
              "      box-shadow: 0px 1px 3px 1px rgba(0, 0, 0, 0.15);\n",
              "      filter: drop-shadow(0px 1px 2px rgba(0, 0, 0, 0.3));\n",
              "      fill: #FFFFFF;\n",
              "    }\n",
              "  </style>\n",
              "\n",
              "      <script>\n",
              "        const buttonEl =\n",
              "          document.querySelector('#df-5b760acb-8003-420c-9d6c-e11688776789 button.colab-df-convert');\n",
              "        buttonEl.style.display =\n",
              "          google.colab.kernel.accessAllowed ? 'block' : 'none';\n",
              "\n",
              "        async function convertToInteractive(key) {\n",
              "          const element = document.querySelector('#df-5b760acb-8003-420c-9d6c-e11688776789');\n",
              "          const dataTable =\n",
              "            await google.colab.kernel.invokeFunction('convertToInteractive',\n",
              "                                                     [key], {});\n",
              "          if (!dataTable) return;\n",
              "\n",
              "          const docLinkHtml = 'Like what you see? Visit the ' +\n",
              "            '<a target=\"_blank\" href=https://colab.research.google.com/notebooks/data_table.ipynb>data table notebook</a>'\n",
              "            + ' to learn more about interactive tables.';\n",
              "          element.innerHTML = '';\n",
              "          dataTable['output_type'] = 'display_data';\n",
              "          await google.colab.output.renderOutput(dataTable, element);\n",
              "          const docLink = document.createElement('div');\n",
              "          docLink.innerHTML = docLinkHtml;\n",
              "          element.appendChild(docLink);\n",
              "        }\n",
              "      </script>\n",
              "    </div>\n",
              "  </div>\n",
              "  "
            ]
          },
          "metadata": {},
          "execution_count": 16
        }
      ]
    },
    {
      "cell_type": "code",
      "source": [
        "mnist.target.unique()"
      ],
      "metadata": {
        "colab": {
          "base_uri": "https://localhost:8080/"
        },
        "id": "64FNB-VSAI4f",
        "outputId": "f09304c9-7ff0-40ae-81d4-908dcfd4fd01"
      },
      "execution_count": null,
      "outputs": [
        {
          "output_type": "execute_result",
          "data": {
            "text/plain": [
              "['9', '0', '3', '2', '7', '5', '1', '6', '4', '8']\n",
              "Categories (10, object): ['0', '1', '2', '3', ..., '6', '7', '8', '9']"
            ]
          },
          "metadata": {},
          "execution_count": 17
        }
      ]
    },
    {
      "cell_type": "code",
      "source": [
        "X = mnist.data.to_numpy()\n",
        "Y = mnist.target.astype('int8')"
      ],
      "metadata": {
        "id": "ThpPhCPeBl6a"
      },
      "execution_count": null,
      "outputs": []
    },
    {
      "cell_type": "code",
      "source": [
        "class_names = ['T_shirt/top', 'Trouser', 'Pullover', 'Dress', 'Coat', \n",
        "               'Sandal', 'Shirt', 'Sneaker', 'Bag', 'Ankle boot']\n",
        "plt.figure(figsize=(8, 8))\n",
        "for i in range(16):\n",
        "    plt.subplot(4, 4, i+1)\n",
        "    plt.xticks([])\n",
        "    plt.yticks([])\n",
        "    plt.imshow(X[i].reshape((28,28)))\n",
        "    label_index = int(Y[i])\n",
        "    plt.title(class_names[label_index])\n",
        "plt.tight_layout()\n",
        "plt.show()"
      ],
      "metadata": {
        "colab": {
          "base_uri": "https://localhost:8080/",
          "height": 585
        },
        "id": "-rLk_hzxBZCf",
        "outputId": "05cc399b-92aa-4736-9ba7-67dab71ee920"
      },
      "execution_count": null,
      "outputs": [
        {
          "output_type": "display_data",
          "data": {
            "text/plain": [
              "<Figure size 576x576 with 16 Axes>"
            ],
            "image/png": "[encoded data removed]"
          },
          "metadata": {}
        }
      ]
    },
    {
      "cell_type": "markdown",
      "source": [
        "### 2. Data Preprocessing"
      ],
      "metadata": {
        "id": "eybpFDO71aNE"
      }
    },
    {
      "cell_type": "code",
      "source": [
        "# Data Shaping\n",
        "x_feat = mnist.data.to_numpy().reshape(-1, 28, 28) / 255\n",
        "y_target = mnist.target.to_numpy().astype('int8').reshape(-1, 1)"
      ],
      "metadata": {
        "id": "g8wYE9I8MUfT"
      },
      "execution_count": null,
      "outputs": []
    },
    {
      "cell_type": "code",
      "source": [
        "# Split into train, test data\n",
        "x_train, x_test, y_train, y_test = train_test_split(x_feat, y_target, test_size=0.2)\n",
        "x_train.shape, y_train.shape"
      ],
      "metadata": {
        "colab": {
          "base_uri": "https://localhost:8080/"
        },
        "id": "MDpDIC2XK9GS",
        "outputId": "bbca5cf1-221a-4e8c-ef5c-0caa319320c0"
      },
      "execution_count": null,
      "outputs": [
        {
          "output_type": "execute_result",
          "data": {
            "text/plain": [
              "((56000, 28, 28), (56000, 1))"
            ]
          },
          "metadata": {},
          "execution_count": 22
        }
      ]
    },
    {
      "cell_type": "markdown",
      "source": [
        "### 3. CNN Model Implementation"
      ],
      "metadata": {
        "id": "rjHbpqCg1vDE"
      }
    },
    {
      "cell_type": "markdown",
      "source": [
        " - tf Conv1D parameters\n",
        " - filters: filter 개수\n",
        " - kernel_size: kernel 사이즈\n",
        " - strides: stride 크기\n",
        " - paddins: \"valid\" means no padding. \"same\" results in padding with zeros evenly to the left/right or up/down of the input"
      ],
      "metadata": {
        "id": "czqpa0APXzAs"
      }
    },
    {
      "cell_type": "code",
      "source": [
        "xInput = Input(batch_shape=(None, x_train.shape[1], x_train.shape[2]))\n",
        "\n",
        "# (filters, kernel_size, strides=1, padding='valid', data_format='channels_last', dilation_rate=1, groups=1, activation=None, use_bias=True, kernel_initializer='glorot_uniform', bias_initializer='zeros',\n",
        "#  kernel_regularizer=None, bias_regularizer=None, activity_regularizer=None, kernel_constraint=None, bias_constraint=None, **kwargs)\n",
        "# kernel size = \n",
        "hidden_conv1d = Conv1D(filters=10, kernel_size=5, strides=1, padding='valid', activation='relu')(xInput)\n",
        "hidden_max1d = MaxPool1D(pool_size=2)(hidden_conv1d)\n",
        "\n",
        "flat = Flatten()(hidden_max1d)\n",
        "yOutput = Dense(10, activation='softmax')(flat)\n",
        "\n",
        "model = Model(xInput, yOutput)\n",
        "model.compile(loss='sparse_categorical_crossentropy', optimizer='adam')"
      ],
      "metadata": {
        "id": "ttH9Y8Bf15_o"
      },
      "execution_count": null,
      "outputs": []
    },
    {
      "cell_type": "code",
      "source": [
        "hist = model.fit(x_train, y_train, batch_size=512, epochs=10)"
      ],
      "metadata": {
        "colab": {
          "base_uri": "https://localhost:8080/"
        },
        "id": "xkUxiYCA783L",
        "outputId": "84ef2d26-90d5-42bb-c306-a0db4797b3ae"
      },
      "execution_count": null,
      "outputs": [
        {
          "output_type": "stream",
          "name": "stdout",
          "text": [
            "Epoch 1/10\n",
            "110/110 [==============================] - 2s 14ms/step - loss: 1.4596\n",
            "Epoch 2/10\n",
            "110/110 [==============================] - 1s 13ms/step - loss: 0.7166\n",
            "Epoch 3/10\n",
            "110/110 [==============================] - 2s 19ms/step - loss: 0.6045\n",
            "Epoch 4/10\n",
            "110/110 [==============================] - 2s 22ms/step - loss: 0.5530\n",
            "Epoch 5/10\n",
            "110/110 [==============================] - 2s 20ms/step - loss: 0.5230\n",
            "Epoch 6/10\n",
            "110/110 [==============================] - 3s 24ms/step - loss: 0.5042\n",
            "Epoch 7/10\n",
            "110/110 [==============================] - 2s 19ms/step - loss: 0.4899\n",
            "Epoch 8/10\n",
            "110/110 [==============================] - 3s 23ms/step - loss: 0.4799\n",
            "Epoch 9/10\n",
            "110/110 [==============================] - 3s 25ms/step - loss: 0.4695\n",
            "Epoch 10/10\n",
            "110/110 [==============================] - 1s 13ms/step - loss: 0.4628\n"
          ]
        }
      ]
    },
    {
      "cell_type": "code",
      "source": [
        "pred_val = model.predict(x_test)\n",
        "pred = np.argmax(pred_val, axis=1).reshape(-1, 1)\n",
        "print((pred == y_test).sum())\n",
        "\n",
        "acc = (pred == y_test).mean()\n",
        "print(acc.round(4))"
      ],
      "metadata": {
        "colab": {
          "base_uri": "https://localhost:8080/"
        },
        "id": "PjdQt3s08I9B",
        "outputId": "91fed8f0-e13b-4677-bccd-ef039e658a4a"
      },
      "execution_count": null,
      "outputs": [
        {
          "output_type": "stream",
          "name": "stdout",
          "text": [
            "11709\n",
            "0.8364\n"
          ]
        }
      ]
    },
    {
      "cell_type": "code",
      "source": [
        "# xInput = Input(batch_shape=(None, x_feat.shape[1], x_feat.shape[2]))\n",
        "# conv = Conv1D(filters=20, kernel_size=4, strides=1, padding='same', activation='relu')(xInput)\n",
        "# pool = MaxPool1D(pool_size=2)(conv)\n",
        "# flat = Flatten()(pool)\n",
        "# yOutput = Dense(10, activation='softmax')(flat)\n",
        "\n",
        "xInput = Input(batch_shape=(None, x_feat.shape[1], x_feat.shape[2], 1))\n",
        "h_conv = Conv2D(filters=10, kernel_size=(5, 6), strides=1, padding='valid', activation='relu')(xInput)\n",
        "h_pool = MaxPool2D(pool_size=(6, 5), strides=1, padding='valid')(h_conv)\n",
        "h_flat = Flatten()(h_pool)\n",
        "yOutput = Dense(10, activation='softmax')(h_flat)\n",
        "# 19*17\n",
        "model = Model(xInput, yOutput)\n",
        "model.compile(loss='sparse_categorical_crossentropy', optimizer=optimizers.Adam(learning_rate=0.001))"
      ],
      "metadata": {
        "id": "527m6lBHLO7k"
      },
      "execution_count": null,
      "outputs": []
    },
    {
      "cell_type": "code",
      "source": [
        "hist = model.fit(x_train, y_train, batch_size=1024, epochs=10, validation_data=(x_test, y_test))"
      ],
      "metadata": {
        "colab": {
          "base_uri": "https://localhost:8080/"
        },
        "id": "lp4xbeXcMoSx",
        "outputId": "4244b713-b644-4bbe-c627-71dd42c9e99b"
      },
      "execution_count": null,
      "outputs": [
        {
          "output_type": "stream",
          "name": "stdout",
          "text": [
            "Epoch 1/10\n",
            "55/55 [==============================] - 1s 15ms/step - loss: 0.7881 - val_loss: 0.2555\n",
            "Epoch 2/10\n",
            "55/55 [==============================] - 0s 9ms/step - loss: 0.1841 - val_loss: 0.1470\n",
            "Epoch 3/10\n",
            "55/55 [==============================] - 1s 10ms/step - loss: 0.1225 - val_loss: 0.1208\n",
            "Epoch 4/10\n",
            "55/55 [==============================] - 0s 9ms/step - loss: 0.0966 - val_loss: 0.1006\n",
            "Epoch 5/10\n",
            "55/55 [==============================] - 1s 9ms/step - loss: 0.0822 - val_loss: 0.0818\n",
            "Epoch 6/10\n",
            "55/55 [==============================] - 0s 9ms/step - loss: 0.0725 - val_loss: 0.0776\n",
            "Epoch 7/10\n",
            "55/55 [==============================] - 0s 9ms/step - loss: 0.0659 - val_loss: 0.0699\n",
            "Epoch 8/10\n",
            "55/55 [==============================] - 0s 9ms/step - loss: 0.0600 - val_loss: 0.0634\n",
            "Epoch 9/10\n",
            "55/55 [==============================] - 0s 9ms/step - loss: 0.0562 - val_loss: 0.0627\n",
            "Epoch 10/10\n",
            "55/55 [==============================] - 0s 9ms/step - loss: 0.0505 - val_loss: 0.0602\n"
          ]
        }
      ]
    },
    {
      "cell_type": "code",
      "source": [
        "model.summary()"
      ],
      "metadata": {
        "colab": {
          "base_uri": "https://localhost:8080/"
        },
        "id": "M9LOpEk-34hu",
        "outputId": "8927730c-67cb-4045-90bc-22305444473c"
      },
      "execution_count": null,
      "outputs": [
        {
          "output_type": "stream",
          "name": "stdout",
          "text": [
            "Model: \"model_4\"\n",
            "_________________________________________________________________\n",
            " Layer (type)                Output Shape              Param #   \n",
            "=================================================================\n",
            " input_5 (InputLayer)        [(None, 28, 28, 1)]       0         \n",
            "                                                                 \n",
            " conv2d_4 (Conv2D)           (None, 24, 23, 10)        310       \n",
            "                                                                 \n",
            " max_pooling2d_4 (MaxPooling  (None, 19, 19, 10)       0         \n",
            " 2D)                                                             \n",
            "                                                                 \n",
            " flatten_4 (Flatten)         (None, 3610)              0         \n",
            "                                                                 \n",
            " dense_4 (Dense)             (None, 10)                36110     \n",
            "                                                                 \n",
            "=================================================================\n",
            "Total params: 36,420\n",
            "Trainable params: 36,420\n",
            "Non-trainable params: 0\n",
            "_________________________________________________________________\n"
          ]
        }
      ]
    },
    {
      "cell_type": "code",
      "source": [
        "y_prob = model.predict(x_test)\n",
        "y_pred = np.argmax(y_prob, axis=1).reshape(-1, 1)\n",
        "# y_pred[:10]\n",
        "acc = (y_pred == y_test).mean()\n",
        "print(acc.round(4))"
      ],
      "metadata": {
        "colab": {
          "base_uri": "https://localhost:8080/"
        },
        "id": "2ytY2JxFNf2C",
        "outputId": "28b8d3a4-131d-4404-cfd4-dae709e7f66c"
      },
      "execution_count": null,
      "outputs": [
        {
          "output_type": "stream",
          "name": "stdout",
          "text": [
            "0.9824\n"
          ]
        }
      ]
    }
  ]
}