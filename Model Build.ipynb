{
 "cells": [
  {
   "cell_type": "markdown",
   "id": "29599a47",
   "metadata": {},
   "source": [
    "# Model Build\n",
    " - Tensorflow로 딥러닝 모델을 구축하는 방법 정리\n",
    " - Keras API를 활용\n",
    " - 1) Sequential API\n",
    " - 2) Functional API\n",
    " - 3) Subclassing (Custom Model)\n"
   ]
  },
  {
   "attachments": {},
   "cell_type": "markdown",
   "id": "425d4b3a",
   "metadata": {},
   "source": [
    "----------\n",
    "아래와 같은 모델을 구현한다고 생각해보자\n",
    "\n",
    "**(input: 784-dimensional vectors)**\n",
    "\n",
    "       ↓\n",
    "**[Dense (64 units, relu activation)]**\n",
    "\n",
    "       ↓\n",
    "**[Dense (64 units, relu activation)]**\n",
    "\n",
    "       ↓\n",
    "**[Dense (10 units, softmax activation)]**\n",
    "\n",
    "       ↓\n",
    "**(output: logits of a probability distribution over 10 classes)**\n",
    "\n",
    "-----------"
   ]
  },
  {
   "cell_type": "markdown",
   "id": "8b806d04",
   "metadata": {},
   "source": [
    "### 1. Sequential API\n",
    " - 가장 간단한 구현방법\n",
    " - 모델의 층이 순차적으로 구성되어있지 않거나, 여러 입출력을 갖는 모델의 경우는 사용하기 어려울 수 있다"
   ]
  },
  {
   "cell_type": "code",
   "execution_count": 1,
   "id": "7fa20d97",
   "metadata": {
    "ExecuteTime": {
     "end_time": "2022-11-15T16:24:15.458678Z",
     "start_time": "2022-11-15T16:24:10.879571Z"
    }
   },
   "outputs": [],
   "source": [
    "# Sequential API\n",
    "import tensorflow as tf\n",
    "from tensorflow.keras import layers\n",
    "\n",
    "model = tf.keras.Sequential()\n",
    "model.add(layers.Dense(64, activation='relu'))\n",
    "model.add(layers.Dense(64, activation='relu'))\n",
    "model.add(layers.Dense(10, activation='softmax'))\n",
    "\n",
    "\n",
    "# 구현 방법이 간단\n",
    "# 모델의 층들이 순차적이지 않은 경우, 여러개의 input, output 구조를 가지는 경우는 다른 방법 사용"
   ]
  },
  {
   "cell_type": "markdown",
   "id": "81496ae9",
   "metadata": {},
   "source": [
    "### 2. Funtional API\n",
    " - keras에 구현되어 있는 layer를 활용하는 방법\n",
    "\n",
    " - 특히, \n",
    "     - **다중 입력, 출력**값 모델\n",
    "     - **shared layers**를 활용하는 모델\n",
    "     - **데이터 흐름이 순차적이지 않은** 모델\n",
    " \n",
    " 위와 같은 모델을 구현할 때는 Funtional API나 Subclassing 방법을 사용하는 것이 적절"
   ]
  },
  {
   "cell_type": "code",
   "execution_count": 2,
   "id": "9af79e25",
   "metadata": {
    "ExecuteTime": {
     "end_time": "2022-11-15T16:24:15.537267Z",
     "start_time": "2022-11-15T16:24:15.461632Z"
    }
   },
   "outputs": [],
   "source": [
    "# Functional API\n",
    "# 입력값을 받는 Input layer가 필요하다\n",
    "from tensorflow.keras import layers\n",
    "\n",
    "inputs = tf.keras.Input(shape=(32, ))\n",
    "hidden1 = layers.Dense(64, activation='relu')(inputs)\n",
    "hidden2 = layers.Dense(64, activation='relu')(hidden1)\n",
    "outputs = layers.Dense(10, activation='softmax')(hidden2)\n",
    "\n",
    "model = tf.keras.Model(inputs=inputs, outputs=outputs)"
   ]
  },
  {
   "cell_type": "code",
   "execution_count": 3,
   "id": "9afb99bc",
   "metadata": {
    "ExecuteTime": {
     "end_time": "2022-11-15T16:24:15.552346Z",
     "start_time": "2022-11-15T16:24:15.538265Z"
    }
   },
   "outputs": [],
   "source": [
    "# Custom Layer\n",
    "# 여러 레이어를 하나로 묶은 레이어가 필요하거나,\n",
    "# Keras 패키지에 없는 새로운 연산을 하는 레이어가 필요한 경우 커스텀 레이어 정의\n",
    "# layers 패키지의 Layer를 상속받음\n",
    "class CustomLayer(layers.Layer):\n",
    "    \n",
    "    # 객체 생성시 호출되는 메서드\n",
    "    def __init__(self, hidden_dim, hidden_dim2, output_dim):\n",
    "        super(CustomLayer, self).__init__()\n",
    "        self.hidden_dim = hidden_dim\n",
    "        self.hidden_dim2 = hidden_dim2\n",
    "        self.output_dim = output_dim\n",
    "    \n",
    "    # init 메서드에서 정의해도 됨. 취향차이\n",
    "    def build(self, input_shape):\n",
    "        self.hidden_layer1 = layers.Dense(self.hidden_dim, activation='relu')\n",
    "        self.hidden_layer2 = layers.Dense(self.hidden_dim2, activation='relu')\n",
    "        self.output = layers.Dense(self.output_dim, activaiton='softmax')\n",
    "    \n",
    "    # __call__ 이 아니라 call\n",
    "    def call(self, inputs):\n",
    "        hidden1 = self.hidden_layer1(inputs)\n",
    "        hidden2 = self.hidden_layer2(hidden1)\n",
    "        return self.output(hidden2)\n",
    "    # keras Layer를 Callbable 객체로 만들면 보다 정확하게는 __call__()이 내부적으로 호출이 됩니다.\n",
    "    # __call__()은 부모 Layer에 감춰져 있기에 작성해줄 필요가 없으며,\n",
    "    # __call__()이 해주는 것은 build()를 호출한 뒤에 call()을 호출하는 역할을 합니다.\n",
    "    # 참고링크: https://www.inflearn.com/questions/199313\n",
    "\n",
    "    \n",
    "model = tf.keras.Sequential()\n",
    "model.add(CustomLayer(64, 64, 10))"
   ]
  },
  {
   "cell_type": "markdown",
   "id": "b2502110",
   "metadata": {},
   "source": [
    "### 3. Subclassing (Custom Model)\n",
    " - 모델 내부 연산들을 직접구현하는 방법으로 자유도가 가장 높다"
   ]
  },
  {
   "cell_type": "code",
   "execution_count": 4,
   "id": "c5080c34",
   "metadata": {
    "ExecuteTime": {
     "end_time": "2022-11-15T16:24:15.567946Z",
     "start_time": "2022-11-15T16:24:15.554053Z"
    }
   },
   "outputs": [],
   "source": [
    "# Custom Model\n",
    "# keras의 Model 클래스를 상속받아 구현\n",
    "class mymodel(tf.keras.Model):\n",
    "    def __init__(self, hidden_dim, hidden_dim2, output_dim):\n",
    "        super(mymodel, self).__init__()\n",
    "        self.hidden_layer1 = layer.Dense(self.hidden_dim, activation='relu')\n",
    "        self.hidden_layer2 = layer.Dense(self.hidden_dim2, activation='relu')\n",
    "        self.output = layer.Dense(self.output_dim, activation='softmax')\n",
    "        \n",
    "    def call(self, inputs):\n",
    "        hidden1 = self.hidden_layer1(inputs)\n",
    "        hidden2 = self.hidden_layer2(hidden1)\n",
    "        return self.output\n",
    "    \n",
    "    # 파이토치 모델 구현방법과도 비슷"
   ]
  },
  {
   "cell_type": "markdown",
   "id": "f8b2caeb",
   "metadata": {},
   "source": [
    "#### < 참고자료 >\n",
    " - 케라스 The Functional API 문서 [(Link)](https://keras.io/guides/functional_api/)\n",
    " - 텐서플로2와 머신러닝으로 시작하는 자연어처리"
   ]
  }
 ],
 "metadata": {
  "hide_input": false,
  "kernelspec": {
   "display_name": "Python 3 (ipykernel)",
   "language": "python",
   "name": "python3"
  },
  "language_info": {
   "codemirror_mode": {
    "name": "ipython",
    "version": 3
   },
   "file_extension": ".py",
   "mimetype": "text/x-python",
   "name": "python",
   "nbconvert_exporter": "python",
   "pygments_lexer": "ipython3",
   "version": "3.9.12"
  },
  "latex_envs": {
   "LaTeX_envs_menu_present": true,
   "autoclose": false,
   "autocomplete": true,
   "bibliofile": "biblio.bib",
   "cite_by": "apalike",
   "current_citInitial": 1,
   "eqLabelWithNumbers": true,
   "eqNumInitial": 1,
   "hotkeys": {
    "equation": "Ctrl-E",
    "itemize": "Ctrl-I"
   },
   "labels_anchors": false,
   "latex_user_defs": false,
   "report_style_numbering": false,
   "user_envs_cfg": false
  },
  "toc": {
   "base_numbering": 1,
   "nav_menu": {},
   "number_sections": false,
   "sideBar": true,
   "skip_h1_title": false,
   "title_cell": "Table of Contents",
   "title_sidebar": "Contents",
   "toc_cell": false,
   "toc_position": {},
   "toc_section_display": true,
   "toc_window_display": false
  },
  "varInspector": {
   "cols": {
    "lenName": 16,
    "lenType": 16,
    "lenVar": 40
   },
   "kernels_config": {
    "python": {
     "delete_cmd_postfix": "",
     "delete_cmd_prefix": "del ",
     "library": "var_list.py",
     "varRefreshCmd": "print(var_dic_list())"
    },
    "r": {
     "delete_cmd_postfix": ") ",
     "delete_cmd_prefix": "rm(",
     "library": "var_list.r",
     "varRefreshCmd": "cat(var_dic_list()) "
    }
   },
   "types_to_exclude": [
    "module",
    "function",
    "builtin_function_or_method",
    "instance",
    "_Feature"
   ],
   "window_display": false
  }
 },
 "nbformat": 4,
 "nbformat_minor": 5
}
