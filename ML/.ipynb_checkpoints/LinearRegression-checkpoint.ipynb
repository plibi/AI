{
 "cells": [
  {
   "cell_type": "markdown",
   "metadata": {
    "id": "FhBjeTPamE9U"
   },
   "source": [
    "# Linear regression"
   ]
  },
  {
   "cell_type": "markdown",
   "metadata": {
    "id": "_8DP-5jLp85y"
   },
   "source": [
    "## Boston Housing data 이용한 Linear Regression"
   ]
  },
  {
   "cell_type": "code",
   "execution_count": null,
   "metadata": {
    "id": "1tbY73qlvZ7k"
   },
   "outputs": [],
   "source": [
    "import numpy as np\n",
    "from sklearn.datasets import load_boston\n",
    "from sklearn.model_selection import train_test_split\n",
    "from sklearn.linear_model import LinearRegression\n",
    "from sklearn.metrics import mean_squared_error\n",
    "import matplotlib.pyplot as plt\n",
    "from sklearn.preprocessing import StandardScaler\n",
    "\n",
    "# Boston housing data set을 읽어온다\n",
    "boston = load_boston()\n",
    "\n",
    "# 데이터를 표준화한다. train과 test 데이터를 동시에 표준화 했다.\n",
    "f_scale = StandardScaler()                    # 데이터 스케일이 큰 경우 계산시 값이 커질 수 있기에 표준화해줌\n",
    "t_scale = StandardScaler()                    # 거리개념을 사용하는 KNN, SVM 사용할 때\n",
    "\n",
    "f_scaled = f_scale.fit_transform(boston.data)\n",
    "t_scaled = t_scale.fit_transform(boston.target.reshape(-1,1))\n",
    "\n",
    "# Train 데이터 세트와 Test 데이터 세트를 구성한다\n",
    "x_train, x_test, y_train, y_test = train_test_split(f_scaled, t_scaled, test_size = 0.2)\n",
    "\n",
    "# Logistic Regression으로 Train 데이터 세트를 학습한다.\n",
    "model = LinearRegression()\n",
    "model.fit(x_train, y_train)\n",
    "\n",
    "# x_test[n]에 해당하는 target (price)을 추정한다.\n",
    "n = 1\n",
    "y_pred = model.predict(x_test[n].reshape(1, -1))\n",
    "\n",
    "y_pred\n",
    "\n",
    "# ------------------\n",
    "# 복원\n",
    "y_pred = t_scale.inverse_transform(y_pred)\n",
    "y_true = t_scale.inverse_transform(y_test[n].reshape(-1, 1))\n",
    "\n",
    "print('test[%d]의 추정 price = %.2f' % (n, y_pred))\n",
    "print('test[%d]의 실제 price = %.2f' % (n, y_true))\n",
    "print('추정 오류 = rmse(추정 price - 실제 price) = %.2f' % np.sqrt(np.square(y_pred - y_true)))\n",
    "\n",
    "# 시험 데이터 전체의 오류를 MSE로 표시한다.\n",
    "# MSE는 값의 범위가 크다는 단점이 있다.\n",
    "y_pred = model.predict(x_test)\n",
    "y_pred = t_scale.inverse_transform(y_pred)\n",
    "y_true = t_scale.inverse_transform(y_test)\n",
    "\n",
    "rmse = (np.sqrt(mean_squared_error(y_test, y_pred)))\n",
    "print('시험 데이터 전체 오류 (rmse) = %.4f' % rmse)\n",
    "\n",
    "# 시험 데이터 전체의 오류를 R-square로 표시한다.\n",
    "# 범위가 한정되어 MSE보다 좋은 척도다.\n",
    "# R-square : SSE / SST or 1 - (SSR / SST)\n",
    "# SSE : explained sum of square\n",
    "# SSR : residual sum of square (not explained)\n",
    "# SST : total sum of square\n",
    "print('시험 데이터 전체 오류 (R2-score) = %.4f' % model.score(x_test, y_test))\n",
    "\n",
    "y_pred\n",
    "\n",
    "# 추정 결과를 시각화 한다.\n",
    "plt.figure(figsize=(6, 6))\n",
    "plt.scatter(y_true, y_pred, c='red', s=30, alpha=0.5)\n",
    "plt.xlabel(\"house price\")\n",
    "plt.ylabel(\"predicted price\")\n",
    "plt.show()"
   ]
  }
 ],
 "metadata": {
  "colab": {
   "provenance": []
  },
  "hide_input": false,
  "kernelspec": {
   "display_name": "Python 3 (ipykernel)",
   "language": "python",
   "name": "python3"
  },
  "language_info": {
   "codemirror_mode": {
    "name": "ipython",
    "version": 3
   },
   "file_extension": ".py",
   "mimetype": "text/x-python",
   "name": "python",
   "nbconvert_exporter": "python",
   "pygments_lexer": "ipython3",
   "version": "3.9.12"
  },
  "latex_envs": {
   "LaTeX_envs_menu_present": true,
   "autoclose": false,
   "autocomplete": true,
   "bibliofile": "biblio.bib",
   "cite_by": "apalike",
   "current_citInitial": 1,
   "eqLabelWithNumbers": true,
   "eqNumInitial": 1,
   "hotkeys": {
    "equation": "Ctrl-E",
    "itemize": "Ctrl-I"
   },
   "labels_anchors": false,
   "latex_user_defs": false,
   "report_style_numbering": false,
   "user_envs_cfg": false
  },
  "toc": {
   "base_numbering": 1,
   "nav_menu": {},
   "number_sections": false,
   "sideBar": true,
   "skip_h1_title": false,
   "title_cell": "Table of Contents",
   "title_sidebar": "Contents",
   "toc_cell": false,
   "toc_position": {},
   "toc_section_display": true,
   "toc_window_display": false
  },
  "varInspector": {
   "cols": {
    "lenName": 16,
    "lenType": 16,
    "lenVar": 40
   },
   "kernels_config": {
    "python": {
     "delete_cmd_postfix": "",
     "delete_cmd_prefix": "del ",
     "library": "var_list.py",
     "varRefreshCmd": "print(var_dic_list())"
    },
    "r": {
     "delete_cmd_postfix": ") ",
     "delete_cmd_prefix": "rm(",
     "library": "var_list.r",
     "varRefreshCmd": "cat(var_dic_list()) "
    }
   },
   "types_to_exclude": [
    "module",
    "function",
    "builtin_function_or_method",
    "instance",
    "_Feature"
   ],
   "window_display": false
  }
 },
 "nbformat": 4,
 "nbformat_minor": 1
}
