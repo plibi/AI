{
 "cells": [
  {
   "cell_type": "markdown",
   "id": "a2bcfc45",
   "metadata": {},
   "source": [
    "## ChatBot\n",
    " - 트랜스포머를 활용한 챗봇\n",
    " - [(딥러닝을 이용한 자연어처리 입문)](https://wikidocs.net/89786)"
   ]
  },
  {
   "cell_type": "markdown",
   "id": "1cd8402a",
   "metadata": {},
   "source": [
    "### 1. 데이터 로드 및 탐색\n",
    " - [(챗봇데이터)](https://github.com/songys/Chatbot_data)"
   ]
  },
  {
   "cell_type": "code",
   "execution_count": 1,
   "id": "9d4d9236",
   "metadata": {
    "ExecuteTime": {
     "end_time": "2023-01-20T22:14:39.318764Z",
     "start_time": "2023-01-20T22:14:34.720518Z"
    }
   },
   "outputs": [],
   "source": [
    "import pandas as pd\n",
    "import numpy as np\n",
    "import matplotlib.pyplot as plt\n",
    "import tensorflow as tf\n",
    "import tensorflow_datasets as tfds\n",
    "import re"
   ]
  },
  {
   "cell_type": "code",
   "execution_count": 2,
   "id": "f9826663",
   "metadata": {
    "ExecuteTime": {
     "end_time": "2023-01-20T22:14:39.366144Z",
     "start_time": "2023-01-20T22:14:39.320092Z"
    }
   },
   "outputs": [
    {
     "data": {
      "text/html": [
       "<div>\n",
       "<style scoped>\n",
       "    .dataframe tbody tr th:only-of-type {\n",
       "        vertical-align: middle;\n",
       "    }\n",
       "\n",
       "    .dataframe tbody tr th {\n",
       "        vertical-align: top;\n",
       "    }\n",
       "\n",
       "    .dataframe thead th {\n",
       "        text-align: right;\n",
       "    }\n",
       "</style>\n",
       "<table border=\"1\" class=\"dataframe\">\n",
       "  <thead>\n",
       "    <tr style=\"text-align: right;\">\n",
       "      <th></th>\n",
       "      <th>Q</th>\n",
       "      <th>A</th>\n",
       "      <th>label</th>\n",
       "    </tr>\n",
       "  </thead>\n",
       "  <tbody>\n",
       "    <tr>\n",
       "      <th>0</th>\n",
       "      <td>12시 땡!</td>\n",
       "      <td>하루가 또 가네요.</td>\n",
       "      <td>0</td>\n",
       "    </tr>\n",
       "    <tr>\n",
       "      <th>1</th>\n",
       "      <td>1지망 학교 떨어졌어</td>\n",
       "      <td>위로해 드립니다.</td>\n",
       "      <td>0</td>\n",
       "    </tr>\n",
       "    <tr>\n",
       "      <th>2</th>\n",
       "      <td>3박4일 놀러가고 싶다</td>\n",
       "      <td>여행은 언제나 좋죠.</td>\n",
       "      <td>0</td>\n",
       "    </tr>\n",
       "    <tr>\n",
       "      <th>3</th>\n",
       "      <td>3박4일 정도 놀러가고 싶다</td>\n",
       "      <td>여행은 언제나 좋죠.</td>\n",
       "      <td>0</td>\n",
       "    </tr>\n",
       "    <tr>\n",
       "      <th>4</th>\n",
       "      <td>PPL 심하네</td>\n",
       "      <td>눈살이 찌푸려지죠.</td>\n",
       "      <td>0</td>\n",
       "    </tr>\n",
       "  </tbody>\n",
       "</table>\n",
       "</div>"
      ],
      "text/plain": [
       "                 Q            A  label\n",
       "0           12시 땡!   하루가 또 가네요.      0\n",
       "1      1지망 학교 떨어졌어    위로해 드립니다.      0\n",
       "2     3박4일 놀러가고 싶다  여행은 언제나 좋죠.      0\n",
       "3  3박4일 정도 놀러가고 싶다  여행은 언제나 좋죠.      0\n",
       "4          PPL 심하네   눈살이 찌푸려지죠.      0"
      ]
     },
     "execution_count": 2,
     "metadata": {},
     "output_type": "execute_result"
    }
   ],
   "source": [
    "file_path = './data'\n",
    "train_data = pd.read_csv(file_path + '/ChatBotData.csv')\n",
    "train_data.head()"
   ]
  },
  {
   "cell_type": "code",
   "execution_count": 3,
   "id": "d8fda7f4",
   "metadata": {
    "ExecuteTime": {
     "end_time": "2023-01-20T22:14:39.382129Z",
     "start_time": "2023-01-20T22:14:39.367141Z"
    }
   },
   "outputs": [
    {
     "name": "stdout",
     "output_type": "stream",
     "text": [
      "<class 'pandas.core.frame.DataFrame'>\n",
      "RangeIndex: 11823 entries, 0 to 11822\n",
      "Data columns (total 3 columns):\n",
      " #   Column  Non-Null Count  Dtype \n",
      "---  ------  --------------  ----- \n",
      " 0   Q       11823 non-null  object\n",
      " 1   A       11823 non-null  object\n",
      " 2   label   11823 non-null  int64 \n",
      "dtypes: int64(1), object(2)\n",
      "memory usage: 277.2+ KB\n"
     ]
    }
   ],
   "source": [
    "train_data.info()"
   ]
  },
  {
   "cell_type": "code",
   "execution_count": 4,
   "id": "9009c5a6",
   "metadata": {
    "ExecuteTime": {
     "end_time": "2023-01-20T22:14:39.397744Z",
     "start_time": "2023-01-20T22:14:39.384096Z"
    }
   },
   "outputs": [
    {
     "data": {
      "text/plain": [
       "Q        0\n",
       "A        0\n",
       "label    0\n",
       "dtype: int64"
      ]
     },
     "execution_count": 4,
     "metadata": {},
     "output_type": "execute_result"
    }
   ],
   "source": [
    "# 결측치 확인\n",
    "train_data.isna().sum()"
   ]
  },
  {
   "cell_type": "code",
   "execution_count": 5,
   "id": "1fc22cf8",
   "metadata": {
    "ExecuteTime": {
     "end_time": "2023-01-20T22:14:39.477709Z",
     "start_time": "2023-01-20T22:14:39.398744Z"
    }
   },
   "outputs": [],
   "source": [
    "# ? , . !과 같은 특수문자 전처리\n",
    "# ex) 12시 땡! => 12시 땡 !\n",
    "questions = []\n",
    "for sentence in train_data['Q']:\n",
    "    sentence = re.sub(r'([?.!,])', r' \\1', sentence)    # \\1, \\2: 첫 번째, 두 번째 그룹\n",
    "    sentence = sentence.strip()\n",
    "    questions.append(sentence)\n",
    "    \n",
    "answers = []\n",
    "for sentence in train_data['A']:\n",
    "    sentence = re.sub(r'([?.!,])', r' \\1', sentence)\n",
    "    sentence = sentence.strip()\n",
    "    answers.append(sentence)"
   ]
  },
  {
   "cell_type": "code",
   "execution_count": 6,
   "id": "4728ff67",
   "metadata": {
    "ExecuteTime": {
     "end_time": "2023-01-20T22:14:39.492978Z",
     "start_time": "2023-01-20T22:14:39.478436Z"
    }
   },
   "outputs": [
    {
     "name": "stdout",
     "output_type": "stream",
     "text": [
      "['12시 땡 !', '1지망 학교 떨어졌어', '3박4일 놀러가고 싶다', '3박4일 정도 놀러가고 싶다', 'PPL 심하네', 'SD카드 망가졌어', 'SD카드 안돼']\n",
      "['하루가 또 가네요 .', '위로해 드립니다 .', '여행은 언제나 좋죠 .', '여행은 언제나 좋죠 .', '눈살이 찌푸려지죠 .', '다시 새로 사는 게 마음 편해요 .', '다시 새로 사는 게 마음 편해요 .']\n"
     ]
    }
   ],
   "source": [
    "print(questions[:7])\n",
    "print(answers[:7])"
   ]
  },
  {
   "cell_type": "markdown",
   "id": "8bb9a8e9",
   "metadata": {},
   "source": [
    "### 2. 사전 생성\n",
    " - 질문과 답변 데이터로부터 사전 생성\n",
    " - 서브워드 토크나이저 중 SubwordTextEncoder 사용"
   ]
  },
  {
   "cell_type": "code",
   "execution_count": 7,
   "id": "c93e11bc",
   "metadata": {
    "ExecuteTime": {
     "end_time": "2023-01-20T22:14:51.509395Z",
     "start_time": "2023-01-20T22:14:39.493956Z"
    }
   },
   "outputs": [],
   "source": [
    "# 토크나이저 정의 및 사전 생성\n",
    "tokenizer = tfds.deprecated.text.SubwordTextEncoder.build_from_corpus(questions + answers, target_vocab_size=2**13)    # 최대 사전 크기는 8192(=2**13)"
   ]
  },
  {
   "cell_type": "code",
   "execution_count": 8,
   "id": "8f83bcb1",
   "metadata": {
    "ExecuteTime": {
     "end_time": "2023-01-20T22:14:51.525353Z",
     "start_time": "2023-01-20T22:14:51.510394Z"
    }
   },
   "outputs": [
    {
     "data": {
      "text/plain": [
       "8176"
      ]
     },
     "execution_count": 8,
     "metadata": {},
     "output_type": "execute_result"
    }
   ],
   "source": [
    "# 사전 크기 확인\n",
    "tokenizer.vocab_size"
   ]
  },
  {
   "cell_type": "code",
   "execution_count": 9,
   "id": "7550e491",
   "metadata": {
    "ExecuteTime": {
     "end_time": "2023-01-20T22:14:51.540990Z",
     "start_time": "2023-01-20T22:14:51.526352Z"
    }
   },
   "outputs": [
    {
     "data": {
      "text/plain": [
       "['이_', '을_', '잘_', '도_', ' . ', '고_', '요', '것_', '많이_', '안_']"
      ]
     },
     "execution_count": 9,
     "metadata": {},
     "output_type": "execute_result"
    }
   ],
   "source": [
    "# 만들어진 서브워드 확인\n",
    "tokenizer.subwords[10:20]"
   ]
  },
  {
   "cell_type": "code",
   "execution_count": 10,
   "id": "31b2d19a",
   "metadata": {
    "ExecuteTime": {
     "end_time": "2023-01-20T22:14:51.556980Z",
     "start_time": "2023-01-20T22:14:51.542958Z"
    }
   },
   "outputs": [],
   "source": [
    "# SOS, EOS 토큰 만들어주기\n",
    "# SOS, EOS 토큰에 정수 할당\n",
    "START_TKN, END_TKN = [tokenizer.vocab_size], [tokenizer.vocab_size + 1]\n",
    "\n",
    "# SOS, EOS 토큰만큼 사전 크기 +2로 늘려주기\n",
    "VOCAB_SIZE = tokenizer.vocab_size + 2"
   ]
  },
  {
   "cell_type": "code",
   "execution_count": 11,
   "id": "d65647b7",
   "metadata": {
    "ExecuteTime": {
     "end_time": "2023-01-20T22:14:51.572940Z",
     "start_time": "2023-01-20T22:14:51.557977Z"
    }
   },
   "outputs": [
    {
     "name": "stdout",
     "output_type": "stream",
     "text": [
      "시작 토큰 번호 : [8176]\n",
      "종료 토큰 번호 : [8177]\n",
      "단어 집합의 크기 : 8178\n"
     ]
    }
   ],
   "source": [
    "print('시작 토큰 번호 :',START_TKN)\n",
    "print('종료 토큰 번호 :',END_TKN)\n",
    "print('단어 집합의 크기 :',VOCAB_SIZE)\n",
    "# 추후 패딩토큰 추가\n",
    "# 만든 사전은 save_to_file로 저장"
   ]
  },
  {
   "cell_type": "markdown",
   "id": "6dfb3557",
   "metadata": {},
   "source": [
    "### 3. 데이터 인코딩\n",
    " - encode 메서드 이용해 문장 인코딩 진행\n",
    " - ex) 가족들이랑 어디 가지 ?  =>  [7878, 1156, 1055, 2]\n",
    " - decode 메서드 이용해 문장 디코딩 진행\n",
    " - ex) [7878, 1156, 1055, 2]  => 가족들이랑 어디 가지? "
   ]
  },
  {
   "cell_type": "code",
   "execution_count": 12,
   "id": "8a96a59d",
   "metadata": {
    "ExecuteTime": {
     "end_time": "2023-01-20T22:14:51.587628Z",
     "start_time": "2023-01-20T22:14:51.573662Z"
    }
   },
   "outputs": [
    {
     "name": "stdout",
     "output_type": "stream",
     "text": [
      "질문 샘플 : 가족들이랑 어디 가지 ?\n",
      "\n",
      "인코딩 과정: 가족들이랑 어디 가지 ? -> [7878, 1156, 1055, 2]\n",
      "디코딩 과정: [7878, 1156, 1055, 2] -> 가족들이랑 어디 가지 ?\n"
     ]
    }
   ],
   "source": [
    "# 인코딩 및 디코딩 테스트\n",
    "sample = questions[32]\n",
    "encoded_sample = tokenizer.encode(sample)\n",
    "decoded_sample = tokenizer.decode(encoded_sample)\n",
    "print('질문 샘플 :', sample)\n",
    "print()\n",
    "print('인코딩 과정:', sample, '->', encoded_sample)\n",
    "print('디코딩 과정:', encoded_sample, '->', decoded_sample)\n"
   ]
  },
  {
   "cell_type": "code",
   "execution_count": 13,
   "id": "289c620d",
   "metadata": {
    "ExecuteTime": {
     "end_time": "2023-01-20T22:14:51.603162Z",
     "start_time": "2023-01-20T22:14:51.589622Z"
    }
   },
   "outputs": [],
   "source": [
    "# 인코딩 최대 길이 = 40\n",
    "MAX_LENGTH = 40\n",
    "\n",
    "# 전체 데이터를 인코딩하는 함수\n",
    "def tokenize_and_filter(inputs, outputs):\n",
    "    \"\"\"\n",
    "    토큰화 -> 인코딩 -> SOS 토큰과 EOS 토큰 추가 -> 패딩\n",
    "    \"\"\"\n",
    "    tokenized_inputs, tokenized_outputs = [], []\n",
    "\n",
    "    for (sentence1, sentence2) in zip(inputs, outputs):\n",
    "        # encode(토큰화 + 정수 인코딩), 시작 토큰과 종료 토큰 추가\n",
    "        sentence1 = START_TKN + tokenizer.encode(sentence1) + END_TKN\n",
    "        sentence2 = START_TKN + tokenizer.encode(sentence2) + END_TKN\n",
    "\n",
    "        tokenized_inputs.append(sentence1)\n",
    "        tokenized_outputs.append(sentence2)\n",
    "\n",
    "    # 패딩\n",
    "    tokenized_inputs = tf.keras.preprocessing.sequence.pad_sequences(tokenized_inputs, maxlen=MAX_LENGTH, padding='post')\n",
    "    tokenized_outputs = tf.keras.preprocessing.sequence.pad_sequences(tokenized_outputs, maxlen=MAX_LENGTH, padding='post')\n",
    "\n",
    "    return tokenized_inputs, tokenized_outputs"
   ]
  },
  {
   "cell_type": "code",
   "execution_count": 14,
   "id": "d5a13c24",
   "metadata": {
    "ExecuteTime": {
     "end_time": "2023-01-20T22:14:52.140140Z",
     "start_time": "2023-01-20T22:14:51.605160Z"
    }
   },
   "outputs": [],
   "source": [
    "questions, answers = tokenize_and_filter(questions, answers)"
   ]
  },
  {
   "cell_type": "code",
   "execution_count": 15,
   "id": "ad9a2c04",
   "metadata": {
    "ExecuteTime": {
     "end_time": "2023-01-20T22:14:52.156096Z",
     "start_time": "2023-01-20T22:14:52.141138Z"
    }
   },
   "outputs": [
    {
     "name": "stdout",
     "output_type": "stream",
     "text": [
      "<class 'numpy.ndarray'>\n"
     ]
    },
    {
     "data": {
      "text/plain": [
       "(11823, 40)"
      ]
     },
     "execution_count": 15,
     "metadata": {},
     "output_type": "execute_result"
    }
   ],
   "source": [
    "print(type(questions))\n",
    "questions.shape"
   ]
  },
  {
   "cell_type": "code",
   "execution_count": 16,
   "id": "774aa965",
   "metadata": {
    "ExecuteTime": {
     "end_time": "2023-01-20T22:14:52.172054Z",
     "start_time": "2023-01-20T22:14:52.157093Z"
    }
   },
   "outputs": [
    {
     "name": "stdout",
     "output_type": "stream",
     "text": [
      "[8176 7971 1434 4651 7952 3650   67 8177    0    0    0    0    0    0\n",
      "    0    0    0    0    0    0    0    0    0    0    0    0    0    0\n",
      "    0    0    0    0    0    0    0    0    0    0    0    0]\n",
      "[8176 3398  776  131    1 8177    0    0    0    0    0    0    0    0\n",
      "    0    0    0    0    0    0    0    0    0    0    0    0    0    0\n",
      "    0    0    0    0    0    0    0    0    0    0    0    0]\n"
     ]
    }
   ],
   "source": [
    "# 샘플 확인\n",
    "print(questions[2])\n",
    "print(answers[2])"
   ]
  },
  {
   "cell_type": "markdown",
   "id": "9ceb1ce5",
   "metadata": {},
   "source": [
    "### 4. 데이터셋 생성\n",
    " - tf.data.Dataset 이용"
   ]
  },
  {
   "cell_type": "code",
   "execution_count": 17,
   "id": "ed19b91c",
   "metadata": {
    "ExecuteTime": {
     "end_time": "2023-01-20T22:14:52.928019Z",
     "start_time": "2023-01-20T22:14:52.173051Z"
    }
   },
   "outputs": [],
   "source": [
    "batch_size = 64\n",
    "BUFFER_SIZE = 20000\n",
    "\n",
    "# 디코더의 실제값 시퀀스에서는 시작 토큰을 제거해야 한다.\n",
    "dataset = tf.data.Dataset.from_tensor_slices((\n",
    "    {\n",
    "        'inputs': questions,\n",
    "        'dec_inputs': answers[:, :-1] # 디코더의 입력. 마지막 패딩 토큰이 제거된다.\n",
    "    },\n",
    "    {\n",
    "        'outputs': answers[:, 1:]  # 맨 처음 토큰이 제거된다. 다시 말해 시작 토큰이 제거된다.\n",
    "    },\n",
    "))\n",
    "\n",
    "dataset = dataset.cache()    # 데이터셋을 메모리에 캐시\n",
    "dataset = dataset.shuffle(BUFFER_SIZE)    # buffer_size만큼 가져와 셔플링\n",
    "dataset = dataset.batch(batch_size)    # 데이터셋을 batch_size개의 batch로 나눈다\n",
    "dataset = dataset.prefetch(tf.data.experimental.AUTOTUNE)\n",
    "# prefetch : 학습중일때 다음 batch를 미리 준비한다. 데이터 로드시간을 줄일 수 있고, 마지막에 선언해준다.\n",
    "# prefetch(1)은 1개 batch를 미리 준비. tf.data.experimental.AUTOTUNE는 batch를 텐서플로가 자동으로 결정"
   ]
  },
  {
   "cell_type": "code",
   "execution_count": 18,
   "id": "a9cfa1cc",
   "metadata": {
    "ExecuteTime": {
     "end_time": "2023-01-20T22:14:52.943446Z",
     "start_time": "2023-01-20T22:14:52.928987Z"
    }
   },
   "outputs": [
    {
     "name": "stdout",
     "output_type": "stream",
     "text": [
      "[8176 3842   74 7893    1 8177    0    0    0    0    0    0    0    0\n",
      "    0    0    0    0    0    0    0    0    0    0    0    0    0    0\n",
      "    0    0    0    0    0    0    0    0    0    0    0    0]\n",
      "\n",
      "[[8176 3842   74 7893    1 8177    0    0    0    0    0    0    0    0\n",
      "     0    0    0    0    0    0    0    0    0    0    0    0    0    0\n",
      "     0    0    0    0    0    0    0    0    0    0    0]]\n",
      "\n",
      "[[3842   74 7893    1 8177    0    0    0    0    0    0    0    0    0\n",
      "     0    0    0    0    0    0    0    0    0    0    0    0    0    0\n",
      "     0    0    0    0    0    0    0    0    0    0    0]]\n"
     ]
    }
   ],
   "source": [
    "# 임의의 샘플에 대해서 [:, :-1]과 [:, 1:]이 어떤 의미를 가지는지 테스트해본다.\n",
    "print(answers[0]) # 기존 샘플\n",
    "print()\n",
    "print(answers[:1][:, :-1]) # 마지막 패딩 토큰 제거하면서 길이가 39가 된다.\n",
    "print()\n",
    "print(answers[:1][:, 1:]) # 맨 처음 토큰이 제거된다. 다시 말해 시작 토큰이 제거된다. 길이는 역시 39가 된다."
   ]
  },
  {
   "cell_type": "markdown",
   "id": "8a4d6271",
   "metadata": {},
   "source": [
    "### 5. 모델 정의\n",
    " - 트랜스포머 모델을 불러와 사용"
   ]
  },
  {
   "cell_type": "code",
   "execution_count": 24,
   "id": "f7d609d9",
   "metadata": {
    "ExecuteTime": {
     "end_time": "2023-01-20T22:17:40.065434Z",
     "start_time": "2023-01-20T22:17:37.324732Z"
    }
   },
   "outputs": [],
   "source": [
    "# .py로 만들어둔 트랜스포머 모델 임포트\n",
    "import transformer\n",
    "\n",
    "# Hyperparameter 정의\n",
    "D_MODEL = 256\n",
    "NUM_LAYERS = 2\n",
    "NUM_HEADS = 8\n",
    "DFF = 512\n",
    "DROPOUT = 0.1\n",
    "MAX_LENGTH = 40\n",
    "\n",
    "model = transformer.transformer(\n",
    "    vocab_size=VOCAB_SIZE,\n",
    "    num_layers=NUM_LAYERS,\n",
    "    dff=DFF,\n",
    "    d_model=D_MODEL,\n",
    "    num_heads=NUM_HEADS,\n",
    "    dropout=DROPOUT)"
   ]
  },
  {
   "cell_type": "code",
   "execution_count": 25,
   "id": "f4e5d910",
   "metadata": {
    "ExecuteTime": {
     "end_time": "2023-01-20T22:17:40.128944Z",
     "start_time": "2023-01-20T22:17:40.114057Z"
    }
   },
   "outputs": [],
   "source": [
    "learning_rate = transformer.CustomSchedule(D_MODEL)\n",
    "\n",
    "optimizer = tf.keras.optimizers.Adam(learning_rate, beta_1=0.9, beta_2=0.98, epsilon=1e-9)\n",
    "\n",
    "def accuracy(y_true, y_pred):\n",
    "  # 레이블의 크기는 (batch_size, MAX_LENGTH - 1)\n",
    "    y_true = tf.reshape(y_true, shape=(-1, MAX_LENGTH - 1))\n",
    "    return tf.keras.metrics.sparse_categorical_accuracy(y_true, y_pred)\n",
    "\n",
    "def loss_function(y_true, y_pred):\n",
    "    y_true = tf.reshape(y_true, shape=(-1, MAX_LENGTH - 1))\n",
    "    \n",
    "    loss = tf.keras.losses.SparseCategoricalCrossentropy(from_logits=True, reduction='none')(y_true, y_pred)\n",
    "    \n",
    "    mask = tf.cast(tf.not_equal(y_true, 0), tf.float32)\n",
    "    loss = tf.multiply(loss, mask)    # elementwise multiply\n",
    "    \n",
    "    return tf.reduce_mean(loss)    # reduce_mean: 전체원소의 합을 개수로 나눈값 리턴\n",
    "\n",
    "model.compile(optimizer=optimizer, loss=loss_function, metrics=[accuracy])"
   ]
  },
  {
   "cell_type": "code",
   "execution_count": 26,
   "id": "3f290705",
   "metadata": {
    "ExecuteTime": {
     "end_time": "2023-01-20T22:27:19.228645Z",
     "start_time": "2023-01-20T22:17:40.176376Z"
    }
   },
   "outputs": [
    {
     "name": "stdout",
     "output_type": "stream",
     "text": [
      "Epoch 1/50\n",
      "185/185 [==============================] - 19s 66ms/step - loss: 1.4466 - accuracy: 0.0209\n",
      "Epoch 2/50\n",
      "185/185 [==============================] - 11s 60ms/step - loss: 1.1735 - accuracy: 0.0488\n",
      "Epoch 3/50\n",
      "185/185 [==============================] - 11s 60ms/step - loss: 1.0034 - accuracy: 0.0508\n",
      "Epoch 4/50\n",
      "185/185 [==============================] - 11s 60ms/step - loss: 0.9250 - accuracy: 0.0547\n",
      "Epoch 5/50\n",
      "185/185 [==============================] - 11s 60ms/step - loss: 0.8634 - accuracy: 0.0582\n",
      "Epoch 6/50\n",
      "185/185 [==============================] - 11s 60ms/step - loss: 0.8015 - accuracy: 0.0629\n",
      "Epoch 7/50\n",
      "185/185 [==============================] - 11s 61ms/step - loss: 0.7354 - accuracy: 0.0692\n",
      "Epoch 8/50\n",
      "185/185 [==============================] - 11s 61ms/step - loss: 0.6639 - accuracy: 0.0767\n",
      "Epoch 9/50\n",
      "185/185 [==============================] - 11s 59ms/step - loss: 0.5887 - accuracy: 0.0846\n",
      "Epoch 10/50\n",
      "185/185 [==============================] - 11s 59ms/step - loss: 0.5113 - accuracy: 0.0931\n",
      "Epoch 11/50\n",
      "185/185 [==============================] - 11s 60ms/step - loss: 0.4354 - accuracy: 0.1018\n",
      "Epoch 12/50\n",
      "185/185 [==============================] - 11s 60ms/step - loss: 0.3623 - accuracy: 0.1111\n",
      "Epoch 13/50\n",
      "185/185 [==============================] - 11s 60ms/step - loss: 0.2960 - accuracy: 0.1198\n",
      "Epoch 14/50\n",
      "185/185 [==============================] - 11s 60ms/step - loss: 0.2388 - accuracy: 0.1282\n",
      "Epoch 15/50\n",
      "185/185 [==============================] - 11s 60ms/step - loss: 0.1904 - accuracy: 0.1359\n",
      "Epoch 16/50\n",
      "185/185 [==============================] - 11s 60ms/step - loss: 0.1498 - accuracy: 0.1430\n",
      "Epoch 17/50\n",
      "185/185 [==============================] - 11s 59ms/step - loss: 0.1205 - accuracy: 0.1483\n",
      "Epoch 18/50\n",
      "185/185 [==============================] - 11s 60ms/step - loss: 0.0998 - accuracy: 0.1521\n",
      "Epoch 19/50\n",
      "185/185 [==============================] - 11s 61ms/step - loss: 0.0851 - accuracy: 0.1549\n",
      "Epoch 20/50\n",
      "185/185 [==============================] - 11s 60ms/step - loss: 0.0758 - accuracy: 0.1566\n",
      "Epoch 21/50\n",
      "185/185 [==============================] - 11s 60ms/step - loss: 0.0702 - accuracy: 0.1576\n",
      "Epoch 22/50\n",
      "185/185 [==============================] - 11s 60ms/step - loss: 0.0671 - accuracy: 0.1584\n",
      "Epoch 23/50\n",
      "185/185 [==============================] - 11s 61ms/step - loss: 0.0587 - accuracy: 0.1603\n",
      "Epoch 24/50\n",
      "185/185 [==============================] - 11s 60ms/step - loss: 0.0526 - accuracy: 0.1617\n",
      "Epoch 25/50\n",
      "185/185 [==============================] - 11s 59ms/step - loss: 0.0469 - accuracy: 0.1631\n",
      "Epoch 26/50\n",
      "185/185 [==============================] - 11s 59ms/step - loss: 0.0406 - accuracy: 0.1648\n",
      "Epoch 27/50\n",
      "185/185 [==============================] - 12s 62ms/step - loss: 0.0376 - accuracy: 0.1656\n",
      "Epoch 28/50\n",
      "185/185 [==============================] - 12s 63ms/step - loss: 0.0336 - accuracy: 0.1665\n",
      "Epoch 29/50\n",
      "185/185 [==============================] - 12s 65ms/step - loss: 0.0321 - accuracy: 0.1669\n",
      "Epoch 30/50\n",
      "185/185 [==============================] - 12s 65ms/step - loss: 0.0284 - accuracy: 0.1678\n",
      "Epoch 31/50\n",
      "185/185 [==============================] - 12s 65ms/step - loss: 0.0259 - accuracy: 0.1684\n",
      "Epoch 32/50\n",
      "185/185 [==============================] - 12s 64ms/step - loss: 0.0250 - accuracy: 0.1686\n",
      "Epoch 33/50\n",
      "185/185 [==============================] - 12s 64ms/step - loss: 0.0243 - accuracy: 0.1690\n",
      "Epoch 34/50\n",
      "185/185 [==============================] - 12s 64ms/step - loss: 0.0214 - accuracy: 0.1696\n",
      "Epoch 35/50\n",
      "185/185 [==============================] - 12s 64ms/step - loss: 0.0205 - accuracy: 0.1698\n",
      "Epoch 36/50\n",
      "185/185 [==============================] - 12s 63ms/step - loss: 0.0197 - accuracy: 0.1701\n",
      "Epoch 37/50\n",
      "185/185 [==============================] - 12s 63ms/step - loss: 0.0179 - accuracy: 0.1705\n",
      "Epoch 38/50\n",
      "185/185 [==============================] - 12s 65ms/step - loss: 0.0176 - accuracy: 0.1706\n",
      "Epoch 39/50\n",
      "185/185 [==============================] - 12s 63ms/step - loss: 0.0162 - accuracy: 0.1710\n",
      "Epoch 40/50\n",
      "185/185 [==============================] - 12s 65ms/step - loss: 0.0163 - accuracy: 0.1709\n",
      "Epoch 41/50\n",
      "185/185 [==============================] - 12s 63ms/step - loss: 0.0149 - accuracy: 0.1712\n",
      "Epoch 42/50\n",
      "185/185 [==============================] - 12s 63ms/step - loss: 0.0141 - accuracy: 0.1715\n",
      "Epoch 43/50\n",
      "185/185 [==============================] - 12s 63ms/step - loss: 0.0140 - accuracy: 0.1715\n",
      "Epoch 44/50\n",
      "185/185 [==============================] - 12s 65ms/step - loss: 0.0133 - accuracy: 0.1717\n",
      "Epoch 45/50\n",
      "185/185 [==============================] - 11s 61ms/step - loss: 0.0126 - accuracy: 0.1720\n",
      "Epoch 46/50\n",
      "185/185 [==============================] - 11s 61ms/step - loss: 0.0129 - accuracy: 0.1718\n",
      "Epoch 47/50\n",
      "185/185 [==============================] - 11s 61ms/step - loss: 0.0113 - accuracy: 0.1722\n",
      "Epoch 48/50\n",
      "185/185 [==============================] - 11s 62ms/step - loss: 0.0114 - accuracy: 0.1723\n",
      "Epoch 49/50\n",
      "185/185 [==============================] - 12s 64ms/step - loss: 0.0108 - accuracy: 0.1723\n",
      "Epoch 50/50\n",
      "185/185 [==============================] - 12s 63ms/step - loss: 0.0104 - accuracy: 0.1725\n"
     ]
    },
    {
     "data": {
      "text/plain": [
       "<keras.callbacks.History at 0x2b391e61a60>"
      ]
     },
     "execution_count": 26,
     "metadata": {},
     "output_type": "execute_result"
    }
   ],
   "source": [
    "EPOCHS = 50\n",
    "model.fit(dataset, epochs=EPOCHS)"
   ]
  },
  {
   "cell_type": "markdown",
   "id": "e78c5e7b",
   "metadata": {},
   "source": [
    "### 6. 챗봇 구현"
   ]
  },
  {
   "cell_type": "code",
   "execution_count": 27,
   "id": "30adeadc",
   "metadata": {
    "ExecuteTime": {
     "end_time": "2023-01-20T22:27:19.290650Z",
     "start_time": "2023-01-20T22:27:19.276479Z"
    }
   },
   "outputs": [],
   "source": [
    "# 입력문장 전처리 함수\n",
    "def preprocess_sentence(sentence):\n",
    "  # 단어와 구두점 사이에 공백 추가.\n",
    "  # ex) 12시 땡! -> 12시 땡 !\n",
    "    sentence = re.sub(r\"([?.!,])\", r\" \\1 \", sentence)\n",
    "    sentence = sentence.strip()\n",
    "    return sentence"
   ]
  },
  {
   "cell_type": "code",
   "execution_count": 35,
   "id": "764c46bf",
   "metadata": {
    "ExecuteTime": {
     "end_time": "2023-01-20T22:29:07.631162Z",
     "start_time": "2023-01-20T22:29:07.622979Z"
    }
   },
   "outputs": [],
   "source": [
    "def evaluate(sentence):\n",
    "    # 입력 문장 전처리\n",
    "    sentence = preprocess_sentence(sentence)\n",
    "\n",
    "    # 입력 문장에 시작 토큰과 종료 토큰을 추가\n",
    "    sentence = tf.expand_dims(START_TKN + tokenizer.encode(sentence) + END_TKN, axis=0)\n",
    "\n",
    "    output = tf.expand_dims(START_TKN, 0)\n",
    "\n",
    "    # 디코더의 예측 시작\n",
    "    for i in range(MAX_LENGTH):\n",
    "        predictions = model(inputs=[sentence, output], training=False)\n",
    "\n",
    "        # 현재 시점의 예측 단어를 받아온다.\n",
    "        predictions = predictions[:, -1:, :]\n",
    "        predicted_id = tf.cast(tf.argmax(predictions, axis=-1), tf.int32)\n",
    "\n",
    "        # 만약 현재 시점의 예측 단어가 종료 토큰이라면 예측을 중단\n",
    "        if tf.equal(predicted_id, END_TKN[0]):\n",
    "            break\n",
    "\n",
    "        # 현재 시점의 예측 단어를 output(출력)에 연결한다.\n",
    "        # output은 for문의 다음 루프에서 디코더의 입력이 된다.\n",
    "        output = tf.concat([output, predicted_id], axis=-1)\n",
    "\n",
    "    # 단어 예측이 모두 끝났다면 output을 리턴.\n",
    "    return tf.squeeze(output, axis=0)"
   ]
  },
  {
   "cell_type": "code",
   "execution_count": 36,
   "id": "6367cef9",
   "metadata": {
    "ExecuteTime": {
     "end_time": "2023-01-20T22:29:07.895972Z",
     "start_time": "2023-01-20T22:29:07.882452Z"
    }
   },
   "outputs": [],
   "source": [
    "def predict(sentence):\n",
    "    prediction = evaluate(sentence)\n",
    "\n",
    "    # prediction == 디코더가 리턴한 챗봇의 대답에 해당하는 정수 시퀀스\n",
    "    # tokenizer.decode()를 통해 정수 시퀀스를 문자열로 디코딩.\n",
    "    predicted_sentence = tokenizer.decode([i for i in prediction if i < tokenizer.vocab_size])\n",
    "\n",
    "    print('Input: {}'.format(sentence))\n",
    "    print('Output: {}'.format(predicted_sentence))\n",
    "\n",
    "    return predicted_sentence"
   ]
  },
  {
   "cell_type": "code",
   "execution_count": 38,
   "id": "b3f03056",
   "metadata": {
    "ExecuteTime": {
     "end_time": "2023-01-20T22:29:17.434619Z",
     "start_time": "2023-01-20T22:29:16.748030Z"
    }
   },
   "outputs": [
    {
     "name": "stdout",
     "output_type": "stream",
     "text": [
      "Input: 잘 지냈어?\n",
      "Output: 안부를 물어주시다니 감사합니다 .\n"
     ]
    }
   ],
   "source": [
    "output = predict('잘 지냈어?')"
   ]
  },
  {
   "cell_type": "code",
   "execution_count": 41,
   "id": "b5316df3",
   "metadata": {
    "ExecuteTime": {
     "end_time": "2023-01-20T22:29:48.714110Z",
     "start_time": "2023-01-20T22:29:48.274555Z"
    }
   },
   "outputs": [
    {
     "name": "stdout",
     "output_type": "stream",
     "text": [
      "Input: 영화 보러 갈까?\n",
      "Output: 맛있는 거 드세요 .\n"
     ]
    }
   ],
   "source": [
    "output = predict('영화 보러 갈까?')"
   ]
  },
  {
   "cell_type": "code",
   "execution_count": null,
   "id": "86388e0d",
   "metadata": {},
   "outputs": [],
   "source": []
  }
 ],
 "metadata": {
  "hide_input": false,
  "kernelspec": {
   "display_name": "Python 3 (ipykernel)",
   "language": "python",
   "name": "python3"
  },
  "language_info": {
   "codemirror_mode": {
    "name": "ipython",
    "version": 3
   },
   "file_extension": ".py",
   "mimetype": "text/x-python",
   "name": "python",
   "nbconvert_exporter": "python",
   "pygments_lexer": "ipython3",
   "version": "3.9.12"
  },
  "latex_envs": {
   "LaTeX_envs_menu_present": true,
   "autoclose": false,
   "autocomplete": true,
   "bibliofile": "biblio.bib",
   "cite_by": "apalike",
   "current_citInitial": 1,
   "eqLabelWithNumbers": true,
   "eqNumInitial": 1,
   "hotkeys": {
    "equation": "Ctrl-E",
    "itemize": "Ctrl-I"
   },
   "labels_anchors": false,
   "latex_user_defs": false,
   "report_style_numbering": false,
   "user_envs_cfg": false
  },
  "toc": {
   "base_numbering": 1,
   "nav_menu": {},
   "number_sections": false,
   "sideBar": true,
   "skip_h1_title": false,
   "title_cell": "Table of Contents",
   "title_sidebar": "Contents",
   "toc_cell": false,
   "toc_position": {},
   "toc_section_display": true,
   "toc_window_display": false
  },
  "varInspector": {
   "cols": {
    "lenName": 16,
    "lenType": 16,
    "lenVar": 40
   },
   "kernels_config": {
    "python": {
     "delete_cmd_postfix": "",
     "delete_cmd_prefix": "del ",
     "library": "var_list.py",
     "varRefreshCmd": "print(var_dic_list())"
    },
    "r": {
     "delete_cmd_postfix": ") ",
     "delete_cmd_prefix": "rm(",
     "library": "var_list.r",
     "varRefreshCmd": "cat(var_dic_list()) "
    }
   },
   "types_to_exclude": [
    "module",
    "function",
    "builtin_function_or_method",
    "instance",
    "_Feature"
   ],
   "window_display": false
  }
 },
 "nbformat": 4,
 "nbformat_minor": 5
}
