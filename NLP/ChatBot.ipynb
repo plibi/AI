{
 "cells": [
  {
   "cell_type": "markdown",
   "id": "a2bcfc45",
   "metadata": {},
   "source": [
    "## ChatBot\n",
    " - 트랜스포머를 활용한 챗봇\n",
    " - [(딥러닝을 이용한 자연어처리 입문)](https://wikidocs.net/89786)"
   ]
  },
  {
   "cell_type": "markdown",
   "id": "1cd8402a",
   "metadata": {},
   "source": [
    "### 1. 데이터 로드 및 탐색"
   ]
  },
  {
   "cell_type": "code",
   "execution_count": 90,
   "id": "9d4d9236",
   "metadata": {
    "ExecuteTime": {
     "end_time": "2023-01-20T17:13:33.925551Z",
     "start_time": "2023-01-20T17:13:33.908596Z"
    }
   },
   "outputs": [],
   "source": [
    "import pandas as pd\n",
    "import numpy as np\n",
    "import matplotlib.pyplot as plt\n",
    "import tensorflow as tf\n",
    "import tensorflow_datasets as tfds\n",
    "import re"
   ]
  },
  {
   "cell_type": "code",
   "execution_count": 91,
   "id": "f9826663",
   "metadata": {
    "ExecuteTime": {
     "end_time": "2023-01-20T17:13:33.973424Z",
     "start_time": "2023-01-20T17:13:33.926551Z"
    }
   },
   "outputs": [
    {
     "data": {
      "text/html": [
       "<div>\n",
       "<style scoped>\n",
       "    .dataframe tbody tr th:only-of-type {\n",
       "        vertical-align: middle;\n",
       "    }\n",
       "\n",
       "    .dataframe tbody tr th {\n",
       "        vertical-align: top;\n",
       "    }\n",
       "\n",
       "    .dataframe thead th {\n",
       "        text-align: right;\n",
       "    }\n",
       "</style>\n",
       "<table border=\"1\" class=\"dataframe\">\n",
       "  <thead>\n",
       "    <tr style=\"text-align: right;\">\n",
       "      <th></th>\n",
       "      <th>Q</th>\n",
       "      <th>A</th>\n",
       "      <th>label</th>\n",
       "    </tr>\n",
       "  </thead>\n",
       "  <tbody>\n",
       "    <tr>\n",
       "      <th>0</th>\n",
       "      <td>12시 땡!</td>\n",
       "      <td>하루가 또 가네요.</td>\n",
       "      <td>0</td>\n",
       "    </tr>\n",
       "    <tr>\n",
       "      <th>1</th>\n",
       "      <td>1지망 학교 떨어졌어</td>\n",
       "      <td>위로해 드립니다.</td>\n",
       "      <td>0</td>\n",
       "    </tr>\n",
       "    <tr>\n",
       "      <th>2</th>\n",
       "      <td>3박4일 놀러가고 싶다</td>\n",
       "      <td>여행은 언제나 좋죠.</td>\n",
       "      <td>0</td>\n",
       "    </tr>\n",
       "    <tr>\n",
       "      <th>3</th>\n",
       "      <td>3박4일 정도 놀러가고 싶다</td>\n",
       "      <td>여행은 언제나 좋죠.</td>\n",
       "      <td>0</td>\n",
       "    </tr>\n",
       "    <tr>\n",
       "      <th>4</th>\n",
       "      <td>PPL 심하네</td>\n",
       "      <td>눈살이 찌푸려지죠.</td>\n",
       "      <td>0</td>\n",
       "    </tr>\n",
       "  </tbody>\n",
       "</table>\n",
       "</div>"
      ],
      "text/plain": [
       "                 Q            A  label\n",
       "0           12시 땡!   하루가 또 가네요.      0\n",
       "1      1지망 학교 떨어졌어    위로해 드립니다.      0\n",
       "2     3박4일 놀러가고 싶다  여행은 언제나 좋죠.      0\n",
       "3  3박4일 정도 놀러가고 싶다  여행은 언제나 좋죠.      0\n",
       "4          PPL 심하네   눈살이 찌푸려지죠.      0"
      ]
     },
     "execution_count": 91,
     "metadata": {},
     "output_type": "execute_result"
    }
   ],
   "source": [
    "file_path = './data'\n",
    "train_data = pd.read_csv(file_path + '/ChatBotData.csv')\n",
    "train_data.head()"
   ]
  },
  {
   "cell_type": "code",
   "execution_count": 92,
   "id": "d8fda7f4",
   "metadata": {
    "ExecuteTime": {
     "end_time": "2023-01-20T17:13:33.989352Z",
     "start_time": "2023-01-20T17:13:33.974392Z"
    }
   },
   "outputs": [
    {
     "name": "stdout",
     "output_type": "stream",
     "text": [
      "<class 'pandas.core.frame.DataFrame'>\n",
      "RangeIndex: 11823 entries, 0 to 11822\n",
      "Data columns (total 3 columns):\n",
      " #   Column  Non-Null Count  Dtype \n",
      "---  ------  --------------  ----- \n",
      " 0   Q       11823 non-null  object\n",
      " 1   A       11823 non-null  object\n",
      " 2   label   11823 non-null  int64 \n",
      "dtypes: int64(1), object(2)\n",
      "memory usage: 277.2+ KB\n"
     ]
    }
   ],
   "source": [
    "train_data.info()"
   ]
  },
  {
   "cell_type": "code",
   "execution_count": 93,
   "id": "9009c5a6",
   "metadata": {
    "ExecuteTime": {
     "end_time": "2023-01-20T17:13:34.005456Z",
     "start_time": "2023-01-20T17:13:33.991347Z"
    }
   },
   "outputs": [
    {
     "data": {
      "text/plain": [
       "Q        0\n",
       "A        0\n",
       "label    0\n",
       "dtype: int64"
      ]
     },
     "execution_count": 93,
     "metadata": {},
     "output_type": "execute_result"
    }
   ],
   "source": [
    "# 결측치 확인\n",
    "train_data.isna().sum()"
   ]
  },
  {
   "cell_type": "code",
   "execution_count": 94,
   "id": "1fc22cf8",
   "metadata": {
    "ExecuteTime": {
     "end_time": "2023-01-20T17:13:34.096037Z",
     "start_time": "2023-01-20T17:13:34.006429Z"
    }
   },
   "outputs": [],
   "source": [
    "# ? , . !과 같은 특수문자 전처리\n",
    "# ex) 12시 땡! => 12시 땡 !\n",
    "questions = []\n",
    "for sentence in train_data['Q']:\n",
    "    sentence = re.sub(r'([?.!,])', r' \\1', sentence)    # \\1, \\2: 첫 번째, 두 번째 그룹\n",
    "    sentence = sentence.strip()\n",
    "    questions.append(sentence)\n",
    "    \n",
    "answers = []\n",
    "for sentence in train_data['A']:\n",
    "    sentence = re.sub(r'([?.!,])', r' \\1', sentence)\n",
    "    sentence = sentence.strip()\n",
    "    answers.append(sentence)"
   ]
  },
  {
   "cell_type": "code",
   "execution_count": 95,
   "id": "4728ff67",
   "metadata": {
    "ExecuteTime": {
     "end_time": "2023-01-20T17:13:34.112019Z",
     "start_time": "2023-01-20T17:13:34.098032Z"
    }
   },
   "outputs": [
    {
     "name": "stdout",
     "output_type": "stream",
     "text": [
      "['12시 땡 !', '1지망 학교 떨어졌어', '3박4일 놀러가고 싶다', '3박4일 정도 놀러가고 싶다', 'PPL 심하네', 'SD카드 망가졌어', 'SD카드 안돼']\n",
      "['하루가 또 가네요 .', '위로해 드립니다 .', '여행은 언제나 좋죠 .', '여행은 언제나 좋죠 .', '눈살이 찌푸려지죠 .', '다시 새로 사는 게 마음 편해요 .', '다시 새로 사는 게 마음 편해요 .']\n"
     ]
    }
   ],
   "source": [
    "print(questions[:7])\n",
    "print(answers[:7])"
   ]
  },
  {
   "cell_type": "markdown",
   "id": "8bb9a8e9",
   "metadata": {},
   "source": [
    "### 2. 사전 생성\n",
    " - 질문과 답변 데이터로부터 사전 생성\n",
    " - 서브워드 토크나이저 중 SubwordTextEncoder 사용"
   ]
  },
  {
   "cell_type": "code",
   "execution_count": 96,
   "id": "c93e11bc",
   "metadata": {
    "ExecuteTime": {
     "end_time": "2023-01-20T17:13:46.011316Z",
     "start_time": "2023-01-20T17:13:34.112991Z"
    }
   },
   "outputs": [],
   "source": [
    "# 토크나이저 정의 및 사전 생성\n",
    "tokenizer = tfds.deprecated.text.SubwordTextEncoder.build_from_corpus(questions + answers, target_vocab_size=2**13)    # 최대 사전 크기는 8192(=2**13)"
   ]
  },
  {
   "cell_type": "code",
   "execution_count": 97,
   "id": "8f83bcb1",
   "metadata": {
    "ExecuteTime": {
     "end_time": "2023-01-20T17:13:46.019774Z",
     "start_time": "2023-01-20T17:13:46.012322Z"
    }
   },
   "outputs": [
    {
     "data": {
      "text/plain": [
       "8176"
      ]
     },
     "execution_count": 97,
     "metadata": {},
     "output_type": "execute_result"
    }
   ],
   "source": [
    "# 사전 크기 확인\n",
    "tokenizer.vocab_size"
   ]
  },
  {
   "cell_type": "code",
   "execution_count": 98,
   "id": "7550e491",
   "metadata": {
    "ExecuteTime": {
     "end_time": "2023-01-20T17:13:46.031021Z",
     "start_time": "2023-01-20T17:13:46.019774Z"
    }
   },
   "outputs": [
    {
     "data": {
      "text/plain": [
       "['이_', '을_', '잘_', '도_', ' . ', '고_', '요', '것_', '많이_', '안_']"
      ]
     },
     "execution_count": 98,
     "metadata": {},
     "output_type": "execute_result"
    }
   ],
   "source": [
    "# 만들어진 서브워드 확인\n",
    "tokenizer.subwords[10:20]"
   ]
  },
  {
   "cell_type": "code",
   "execution_count": 99,
   "id": "31b2d19a",
   "metadata": {
    "ExecuteTime": {
     "end_time": "2023-01-20T17:13:46.043926Z",
     "start_time": "2023-01-20T17:13:46.031021Z"
    }
   },
   "outputs": [],
   "source": [
    "# SOS, EOS 토큰 만들어주기\n",
    "# SOS, EOS 토큰에 정수 할당\n",
    "START_TKN, END_TKN = [tokenizer.vocab_size], [tokenizer.vocab_size + 1]\n",
    "\n",
    "# SOS, EOS 토큰만큼 사전 크기 +2로 늘려주기\n",
    "VOCAB_SIZE = tokenizer.vocab_size + 2"
   ]
  },
  {
   "cell_type": "code",
   "execution_count": 100,
   "id": "d65647b7",
   "metadata": {
    "ExecuteTime": {
     "end_time": "2023-01-20T17:13:46.050976Z",
     "start_time": "2023-01-20T17:13:46.043926Z"
    }
   },
   "outputs": [
    {
     "name": "stdout",
     "output_type": "stream",
     "text": [
      "시작 토큰 번호 : [8176]\n",
      "종료 토큰 번호 : [8177]\n",
      "단어 집합의 크기 : 8178\n"
     ]
    }
   ],
   "source": [
    "print('시작 토큰 번호 :',START_TKN)\n",
    "print('종료 토큰 번호 :',END_TKN)\n",
    "print('단어 집합의 크기 :',VOCAB_SIZE)\n",
    "# 추후 패딩토큰 추가\n",
    "# 만든 사전은 save_to_file로 저장"
   ]
  },
  {
   "cell_type": "markdown",
   "id": "6dfb3557",
   "metadata": {},
   "source": [
    "### 3. 데이터 인코딩\n",
    " - encode 메서드 이용해 문장 인코딩 진행\n",
    " - ex) 가족들이랑 어디 가지 ?  =>  [7878, 1156, 1055, 2]\n",
    " - decode 메서드 이용해 문장 디코딩 진행\n",
    " - ex) [7878, 1156, 1055, 2]  => 가족들이랑 어디 가지? "
   ]
  },
  {
   "cell_type": "code",
   "execution_count": 101,
   "id": "8a96a59d",
   "metadata": {
    "ExecuteTime": {
     "end_time": "2023-01-20T17:13:46.057983Z",
     "start_time": "2023-01-20T17:13:46.050976Z"
    }
   },
   "outputs": [
    {
     "name": "stdout",
     "output_type": "stream",
     "text": [
      "질문 샘플 : 가족들이랑 어디 가지 ?\n",
      "\n",
      "인코딩 과정: 가족들이랑 어디 가지 ? -> [7878, 1156, 1055, 2]\n",
      "디코딩 과정: [7878, 1156, 1055, 2] -> 가족들이랑 어디 가지 ?\n"
     ]
    }
   ],
   "source": [
    "# 인코딩 및 디코딩 테스트\n",
    "sample = questions[32]\n",
    "encoded_sample = tokenizer.encode(sample)\n",
    "decoded_sample = tokenizer.decode(encoded_sample)\n",
    "print('질문 샘플 :', sample)\n",
    "print()\n",
    "print('인코딩 과정:', sample, '->', encoded_sample)\n",
    "print('디코딩 과정:', encoded_sample, '->', decoded_sample)\n"
   ]
  },
  {
   "cell_type": "code",
   "execution_count": 102,
   "id": "289c620d",
   "metadata": {
    "ExecuteTime": {
     "end_time": "2023-01-20T17:13:46.071793Z",
     "start_time": "2023-01-20T17:13:46.057983Z"
    }
   },
   "outputs": [],
   "source": [
    "# 인코딩 최대 길이 = 40\n",
    "MAX_LENGTH = 40\n",
    "\n",
    "# 전체 데이터를 인코딩하는 함수\n",
    "def tokenize_and_filter(inputs, outputs):\n",
    "    \"\"\"\n",
    "    토큰화 -> 인코딩 -> SOS 토큰과 EOS 토큰 추가 -> 패딩\n",
    "    \"\"\"\n",
    "    tokenized_inputs, tokenized_outputs = [], []\n",
    "\n",
    "    for (sentence1, sentence2) in zip(inputs, outputs):\n",
    "        # encode(토큰화 + 정수 인코딩), 시작 토큰과 종료 토큰 추가\n",
    "        sentence1 = START_TKN + tokenizer.encode(sentence1) + END_TKN\n",
    "        sentence2 = START_TKN + tokenizer.encode(sentence2) + END_TKN\n",
    "\n",
    "        tokenized_inputs.append(sentence1)\n",
    "        tokenized_outputs.append(sentence2)\n",
    "\n",
    "    # 패딩\n",
    "    tokenized_inputs = tf.keras.preprocessing.sequence.pad_sequences(tokenized_inputs, maxlen=MAX_LENGTH, padding='post')\n",
    "    tokenized_outputs = tf.keras.preprocessing.sequence.pad_sequences(tokenized_outputs, maxlen=MAX_LENGTH, padding='post')\n",
    "\n",
    "    return tokenized_inputs, tokenized_outputs"
   ]
  },
  {
   "cell_type": "code",
   "execution_count": 103,
   "id": "d5a13c24",
   "metadata": {
    "ExecuteTime": {
     "end_time": "2023-01-20T17:13:46.527978Z",
     "start_time": "2023-01-20T17:13:46.071793Z"
    }
   },
   "outputs": [],
   "source": [
    "questions, answers = tokenize_and_filter(questions, answers)"
   ]
  },
  {
   "cell_type": "code",
   "execution_count": 106,
   "id": "ad9a2c04",
   "metadata": {
    "ExecuteTime": {
     "end_time": "2023-01-20T17:14:08.656532Z",
     "start_time": "2023-01-20T17:14:08.645564Z"
    }
   },
   "outputs": [
    {
     "name": "stdout",
     "output_type": "stream",
     "text": [
      "<class 'numpy.ndarray'>\n"
     ]
    },
    {
     "data": {
      "text/plain": [
       "(11823, 40)"
      ]
     },
     "execution_count": 106,
     "metadata": {},
     "output_type": "execute_result"
    }
   ],
   "source": [
    "print(type(questions))\n",
    "questions.shape"
   ]
  },
  {
   "cell_type": "code",
   "execution_count": 105,
   "id": "774aa965",
   "metadata": {
    "ExecuteTime": {
     "end_time": "2023-01-20T17:13:46.542654Z",
     "start_time": "2023-01-20T17:13:46.536586Z"
    }
   },
   "outputs": [
    {
     "name": "stdout",
     "output_type": "stream",
     "text": [
      "[8176 7971 1434 4651 7952 3650   67 8177    0    0    0    0    0    0\n",
      "    0    0    0    0    0    0    0    0    0    0    0    0    0    0\n",
      "    0    0    0    0    0    0    0    0    0    0    0    0]\n",
      "[8176 3398  776  131    1 8177    0    0    0    0    0    0    0    0\n",
      "    0    0    0    0    0    0    0    0    0    0    0    0    0    0\n",
      "    0    0    0    0    0    0    0    0    0    0    0    0]\n"
     ]
    }
   ],
   "source": [
    "# 샘플 확인\n",
    "print(questions[2])\n",
    "print(answers[2])"
   ]
  },
  {
   "cell_type": "markdown",
   "id": "9ceb1ce5",
   "metadata": {},
   "source": [
    "### 4. 데이터셋 생성\n",
    " - tf.data.Dataset 이용"
   ]
  },
  {
   "cell_type": "code",
   "execution_count": 107,
   "id": "ed19b91c",
   "metadata": {
    "ExecuteTime": {
     "end_time": "2023-01-20T17:16:10.683919Z",
     "start_time": "2023-01-20T17:16:07.806015Z"
    }
   },
   "outputs": [],
   "source": [
    "batch_size = 64\n",
    "BUFFER_SIZE = 20000\n",
    "\n",
    "# 디코더의 실제값 시퀀스에서는 시작 토큰을 제거해야 한다.\n",
    "dataset = tf.data.Dataset.from_tensor_slices((\n",
    "    {\n",
    "        'inputs': questions,\n",
    "        'dec_inputs': answers[:, :-1] # 디코더의 입력. 마지막 패딩 토큰이 제거된다.\n",
    "    },\n",
    "    {\n",
    "        'outputs': answers[:, 1:]  # 맨 처음 토큰이 제거된다. 다시 말해 시작 토큰이 제거된다.\n",
    "    },\n",
    "))\n",
    "\n",
    "dataset = dataset.cache()\n",
    "dataset = dataset.shuffle(BUFFER_SIZE)\n",
    "dataset = dataset.batch(batch_size)\n",
    "dataset = dataset.prefetch(tf.data.experimental.AUTOTUNE)"
   ]
  },
  {
   "cell_type": "code",
   "execution_count": 108,
   "id": "a9cfa1cc",
   "metadata": {
    "ExecuteTime": {
     "end_time": "2023-01-20T17:16:19.661163Z",
     "start_time": "2023-01-20T17:16:19.655178Z"
    }
   },
   "outputs": [
    {
     "name": "stdout",
     "output_type": "stream",
     "text": [
      "[8176 3842   74 7893    1 8177    0    0    0    0    0    0    0    0\n",
      "    0    0    0    0    0    0    0    0    0    0    0    0    0    0\n",
      "    0    0    0    0    0    0    0    0    0    0    0    0]\n",
      "[[8176 3842   74 7893    1 8177    0    0    0    0    0    0    0    0\n",
      "     0    0    0    0    0    0    0    0    0    0    0    0    0    0\n",
      "     0    0    0    0    0    0    0    0    0    0    0]]\n",
      "[[3842   74 7893    1 8177    0    0    0    0    0    0    0    0    0\n",
      "     0    0    0    0    0    0    0    0    0    0    0    0    0    0\n",
      "     0    0    0    0    0    0    0    0    0    0    0]]\n"
     ]
    }
   ],
   "source": [
    "# 임의의 샘플에 대해서 [:, :-1]과 [:, 1:]이 어떤 의미를 가지는지 테스트해본다.\n",
    "print(answers[0]) # 기존 샘플\n",
    "print(answers[:1][:, :-1]) # 마지막 패딩 토큰 제거하면서 길이가 39가 된다.\n",
    "print(answers[:1][:, 1:]) # 맨 처음 토큰이 제거된다. 다시 말해 시작 토큰이 제거된다. 길이는 역시 39가 된다."
   ]
  },
  {
   "cell_type": "markdown",
   "id": "8a4d6271",
   "metadata": {},
   "source": [
    "### 5. 모델 정의\n",
    " - 트랜스포머 모델을 불러와 사용"
   ]
  },
  {
   "cell_type": "code",
   "execution_count": 114,
   "id": "f7d609d9",
   "metadata": {
    "ExecuteTime": {
     "end_time": "2023-01-20T17:41:11.386042Z",
     "start_time": "2023-01-20T17:41:08.676336Z"
    }
   },
   "outputs": [],
   "source": [
    "import transformer\n",
    "\n",
    "# Hyperparameter\n",
    "D_MODEL = 256\n",
    "NUM_LAYERS = 2\n",
    "NUM_HEADS = 8\n",
    "DFF = 512\n",
    "DROPOUT = 0.1\n",
    "MAX_LENGTH = 40\n",
    "\n",
    "model = transformer.transformer(\n",
    "    vocab_size=VOCAB_SIZE,\n",
    "    num_layers=NUM_LAYERS,\n",
    "    dff=DFF,\n",
    "    d_model=D_MODEL,\n",
    "    num_heads=NUM_HEADS,\n",
    "    dropout=DROPOUT)"
   ]
  },
  {
   "cell_type": "code",
   "execution_count": 115,
   "id": "f4e5d910",
   "metadata": {
    "ExecuteTime": {
     "end_time": "2023-01-20T17:41:11.418915Z",
     "start_time": "2023-01-20T17:41:11.403996Z"
    }
   },
   "outputs": [],
   "source": [
    "learning_rate = transformer.CustomSchedule(D_MODEL)\n",
    "\n",
    "optimizer = tf.keras.optimizers.Adam(learning_rate, beta_1=0.9, beta_2=0.98, epsilon=1e-9)\n",
    "\n",
    "def accuracy(y_true, y_pred):\n",
    "  # 레이블의 크기는 (batch_size, MAX_LENGTH - 1)\n",
    "    y_true = tf.reshape(y_true, shape=(-1, MAX_LENGTH - 1))\n",
    "    return tf.keras.metrics.sparse_categorical_accuracy(y_true, y_pred)\n",
    "\n",
    "model.compile(optimizer=optimizer, loss=transformer.loss_function, metrics=[accuracy])"
   ]
  },
  {
   "cell_type": "code",
   "execution_count": 117,
   "id": "c6f8b37e",
   "metadata": {
    "ExecuteTime": {
     "end_time": "2023-01-20T17:43:20.552310Z",
     "start_time": "2023-01-20T17:43:20.533346Z"
    }
   },
   "outputs": [
    {
     "ename": "AttributeError",
     "evalue": "module 'transformer' has no attribute 'MAX_LENGTH'",
     "output_type": "error",
     "traceback": [
      "\u001b[1;31m---------------------------------------------------------------------------\u001b[0m",
      "\u001b[1;31mAttributeError\u001b[0m                            Traceback (most recent call last)",
      "Input \u001b[1;32mIn [117]\u001b[0m, in \u001b[0;36m<cell line: 1>\u001b[1;34m()\u001b[0m\n\u001b[1;32m----> 1\u001b[0m \u001b[43mtransformer\u001b[49m\u001b[38;5;241;43m.\u001b[39;49m\u001b[43mMAX_LENGTH\u001b[49m\n",
      "\u001b[1;31mAttributeError\u001b[0m: module 'transformer' has no attribute 'MAX_LENGTH'"
     ]
    }
   ],
   "source": [
    "transformer.MAX_LENGTH"
   ]
  },
  {
   "cell_type": "code",
   "execution_count": 116,
   "id": "3f290705",
   "metadata": {
    "ExecuteTime": {
     "end_time": "2023-01-20T17:41:12.472102Z",
     "start_time": "2023-01-20T17:41:11.429029Z"
    }
   },
   "outputs": [
    {
     "name": "stdout",
     "output_type": "stream",
     "text": [
      "Epoch 1/50\n"
     ]
    },
    {
     "ename": "NameError",
     "evalue": "in user code:\n\n    File \"C:\\Users\\jaehy\\anaconda3\\lib\\site-packages\\keras\\engine\\training.py\", line 1160, in train_function  *\n        return step_function(self, iterator)\n    File \"C:\\Users\\jaehy\\Desktop\\github\\AI\\NLP\\transformer.py\", line 322, in loss_function  *\n        y_true = tf.reshape(y_true, shape=(-1, MAX_LENGTH - 1))\n\n    NameError: name 'MAX_LENGTH' is not defined\n",
     "output_type": "error",
     "traceback": [
      "\u001b[1;31m---------------------------------------------------------------------------\u001b[0m",
      "\u001b[1;31mNameError\u001b[0m                                 Traceback (most recent call last)",
      "Input \u001b[1;32mIn [116]\u001b[0m, in \u001b[0;36m<cell line: 2>\u001b[1;34m()\u001b[0m\n\u001b[0;32m      1\u001b[0m EPOCHS \u001b[38;5;241m=\u001b[39m \u001b[38;5;241m50\u001b[39m\n\u001b[1;32m----> 2\u001b[0m \u001b[43mmodel\u001b[49m\u001b[38;5;241;43m.\u001b[39;49m\u001b[43mfit\u001b[49m\u001b[43m(\u001b[49m\u001b[43mdataset\u001b[49m\u001b[43m,\u001b[49m\u001b[43m \u001b[49m\u001b[43mepochs\u001b[49m\u001b[38;5;241;43m=\u001b[39;49m\u001b[43mEPOCHS\u001b[49m\u001b[43m)\u001b[49m\n",
      "File \u001b[1;32m~\\anaconda3\\lib\\site-packages\\keras\\utils\\traceback_utils.py:70\u001b[0m, in \u001b[0;36mfilter_traceback.<locals>.error_handler\u001b[1;34m(*args, **kwargs)\u001b[0m\n\u001b[0;32m     67\u001b[0m     filtered_tb \u001b[38;5;241m=\u001b[39m _process_traceback_frames(e\u001b[38;5;241m.\u001b[39m__traceback__)\n\u001b[0;32m     68\u001b[0m     \u001b[38;5;66;03m# To get the full stack trace, call:\u001b[39;00m\n\u001b[0;32m     69\u001b[0m     \u001b[38;5;66;03m# `tf.debugging.disable_traceback_filtering()`\u001b[39;00m\n\u001b[1;32m---> 70\u001b[0m     \u001b[38;5;28;01mraise\u001b[39;00m e\u001b[38;5;241m.\u001b[39mwith_traceback(filtered_tb) \u001b[38;5;28;01mfrom\u001b[39;00m \u001b[38;5;28mNone\u001b[39m\n\u001b[0;32m     71\u001b[0m \u001b[38;5;28;01mfinally\u001b[39;00m:\n\u001b[0;32m     72\u001b[0m     \u001b[38;5;28;01mdel\u001b[39;00m filtered_tb\n",
      "File \u001b[1;32m~\\AppData\\Local\\Temp\\__autograph_generated_fileeqltjb0o.py:15\u001b[0m, in \u001b[0;36mouter_factory.<locals>.inner_factory.<locals>.tf__train_function\u001b[1;34m(iterator)\u001b[0m\n\u001b[0;32m     13\u001b[0m \u001b[38;5;28;01mtry\u001b[39;00m:\n\u001b[0;32m     14\u001b[0m     do_return \u001b[38;5;241m=\u001b[39m \u001b[38;5;28;01mTrue\u001b[39;00m\n\u001b[1;32m---> 15\u001b[0m     retval_ \u001b[38;5;241m=\u001b[39m ag__\u001b[38;5;241m.\u001b[39mconverted_call(ag__\u001b[38;5;241m.\u001b[39mld(step_function), (ag__\u001b[38;5;241m.\u001b[39mld(\u001b[38;5;28mself\u001b[39m), ag__\u001b[38;5;241m.\u001b[39mld(iterator)), \u001b[38;5;28;01mNone\u001b[39;00m, fscope)\n\u001b[0;32m     16\u001b[0m \u001b[38;5;28;01mexcept\u001b[39;00m:\n\u001b[0;32m     17\u001b[0m     do_return \u001b[38;5;241m=\u001b[39m \u001b[38;5;28;01mFalse\u001b[39;00m\n",
      "File \u001b[1;32m~\\AppData\\Local\\Temp\\__autograph_generated_fileqeicbr_z.py:10\u001b[0m, in \u001b[0;36mouter_factory.<locals>.inner_factory.<locals>.tf__loss_function\u001b[1;34m(y_true, y_pred)\u001b[0m\n\u001b[0;32m      8\u001b[0m do_return \u001b[38;5;241m=\u001b[39m \u001b[38;5;28;01mFalse\u001b[39;00m\n\u001b[0;32m      9\u001b[0m retval_ \u001b[38;5;241m=\u001b[39m ag__\u001b[38;5;241m.\u001b[39mUndefinedReturnValue()\n\u001b[1;32m---> 10\u001b[0m y_true \u001b[38;5;241m=\u001b[39m ag__\u001b[38;5;241m.\u001b[39mconverted_call(ag__\u001b[38;5;241m.\u001b[39mld(tf)\u001b[38;5;241m.\u001b[39mreshape, (ag__\u001b[38;5;241m.\u001b[39mld(y_true),), \u001b[38;5;28mdict\u001b[39m(shape\u001b[38;5;241m=\u001b[39m(\u001b[38;5;241m-\u001b[39m\u001b[38;5;241m1\u001b[39m, ag__\u001b[38;5;241m.\u001b[39mld(MAX_LENGTH) \u001b[38;5;241m-\u001b[39m \u001b[38;5;241m1\u001b[39m)), fscope)\n\u001b[0;32m     11\u001b[0m loss \u001b[38;5;241m=\u001b[39m ag__\u001b[38;5;241m.\u001b[39mconverted_call(ag__\u001b[38;5;241m.\u001b[39mconverted_call(ag__\u001b[38;5;241m.\u001b[39mld(tf)\u001b[38;5;241m.\u001b[39mkeras\u001b[38;5;241m.\u001b[39mlosses\u001b[38;5;241m.\u001b[39mSparseCategoricalCrossentropy, (), \u001b[38;5;28mdict\u001b[39m(from_logits\u001b[38;5;241m=\u001b[39m\u001b[38;5;28;01mTrue\u001b[39;00m, reduction\u001b[38;5;241m=\u001b[39m\u001b[38;5;124m'\u001b[39m\u001b[38;5;124mnone\u001b[39m\u001b[38;5;124m'\u001b[39m), fscope), (ag__\u001b[38;5;241m.\u001b[39mld(y_true), ag__\u001b[38;5;241m.\u001b[39mld(y_pred)), \u001b[38;5;28;01mNone\u001b[39;00m, fscope)\n\u001b[0;32m     12\u001b[0m mask \u001b[38;5;241m=\u001b[39m ag__\u001b[38;5;241m.\u001b[39mconverted_call(ag__\u001b[38;5;241m.\u001b[39mld(tf)\u001b[38;5;241m.\u001b[39mcast, (ag__\u001b[38;5;241m.\u001b[39mconverted_call(ag__\u001b[38;5;241m.\u001b[39mld(tf)\u001b[38;5;241m.\u001b[39mnot_equal, (ag__\u001b[38;5;241m.\u001b[39mld(y_true), \u001b[38;5;241m0\u001b[39m), \u001b[38;5;28;01mNone\u001b[39;00m, fscope), ag__\u001b[38;5;241m.\u001b[39mld(tf)\u001b[38;5;241m.\u001b[39mfloat32), \u001b[38;5;28;01mNone\u001b[39;00m, fscope)\n",
      "\u001b[1;31mNameError\u001b[0m: in user code:\n\n    File \"C:\\Users\\jaehy\\anaconda3\\lib\\site-packages\\keras\\engine\\training.py\", line 1160, in train_function  *\n        return step_function(self, iterator)\n    File \"C:\\Users\\jaehy\\Desktop\\github\\AI\\NLP\\transformer.py\", line 322, in loss_function  *\n        y_true = tf.reshape(y_true, shape=(-1, MAX_LENGTH - 1))\n\n    NameError: name 'MAX_LENGTH' is not defined\n"
     ]
    }
   ],
   "source": [
    "EPOCHS = 50\n",
    "model.fit(dataset, epochs=EPOCHS)"
   ]
  },
  {
   "cell_type": "markdown",
   "id": "e78c5e7b",
   "metadata": {},
   "source": [
    "### 6. 챗봇 구현"
   ]
  },
  {
   "cell_type": "code",
   "execution_count": null,
   "id": "30adeadc",
   "metadata": {},
   "outputs": [],
   "source": [
    "def preprocess_sentence(sentence):\n",
    "  # 단어와 구두점 사이에 공백 추가.\n",
    "  # ex) 12시 땡! -> 12시 땡 !\n",
    "    sentence = re.sub(r\"([?.!,])\", r\" \\1 \", sentence)\n",
    "    sentence = sentence.strip()\n",
    "    return sentence"
   ]
  },
  {
   "cell_type": "code",
   "execution_count": null,
   "id": "764c46bf",
   "metadata": {},
   "outputs": [],
   "source": [
    "def evaluate(sentence):\n",
    "    # 입력 문장에 대한 전처리\n",
    "    sentence = preprocess_sentence(sentence)\n",
    "\n",
    "    # 입력 문장에 시작 토큰과 종료 토큰을 추가\n",
    "    sentence = tf.expand_dims(START_TOKEN + tokenizer.encode(sentence) + END_TOKEN, axis=0)\n",
    "\n",
    "    output = tf.expand_dims(START_TOKEN, 0)\n",
    "\n",
    "    # 디코더의 예측 시작\n",
    "    for i in range(MAX_LENGTH):\n",
    "        predictions = model(inputs=[sentence, output], training=False)\n",
    "\n",
    "    # 현재 시점의 예측 단어를 받아온다.\n",
    "    predictions = predictions[:, -1:, :]\n",
    "    predicted_id = tf.cast(tf.argmax(predictions, axis=-1), tf.int32)\n",
    "\n",
    "    # 만약 현재 시점의 예측 단어가 종료 토큰이라면 예측을 중단\n",
    "    if tf.equal(predicted_id, END_TOKEN[0]):\n",
    "        break\n",
    "\n",
    "    # 현재 시점의 예측 단어를 output(출력)에 연결한다.\n",
    "    # output은 for문의 다음 루프에서 디코더의 입력이 된다.\n",
    "    output = tf.concat([output, predicted_id], axis=-1)\n",
    "\n",
    "    # 단어 예측이 모두 끝났다면 output을 리턴.\n",
    "    return tf.squeeze(output, axis=0)"
   ]
  },
  {
   "cell_type": "code",
   "execution_count": null,
   "id": "6367cef9",
   "metadata": {},
   "outputs": [],
   "source": [
    "def predict(sentence):\n",
    "    prediction = evaluate(sentence)\n",
    "\n",
    "    # prediction == 디코더가 리턴한 챗봇의 대답에 해당하는 정수 시퀀스\n",
    "    # tokenizer.decode()를 통해 정수 시퀀스를 문자열로 디코딩.\n",
    "    predicted_sentence = tokenizer.decode([i for i in prediction if i < tokenizer.vocab_size])\n",
    "\n",
    "    print('Input: {}'.format(sentence))\n",
    "    print('Output: {}'.format(predicted_sentence))\n",
    "\n",
    "    return predicted_sentence"
   ]
  },
  {
   "cell_type": "code",
   "execution_count": null,
   "id": "b3f03056",
   "metadata": {},
   "outputs": [],
   "source": []
  }
 ],
 "metadata": {
  "hide_input": false,
  "kernelspec": {
   "display_name": "Python 3 (ipykernel)",
   "language": "python",
   "name": "python3"
  },
  "language_info": {
   "codemirror_mode": {
    "name": "ipython",
    "version": 3
   },
   "file_extension": ".py",
   "mimetype": "text/x-python",
   "name": "python",
   "nbconvert_exporter": "python",
   "pygments_lexer": "ipython3",
   "version": "3.9.12"
  },
  "latex_envs": {
   "LaTeX_envs_menu_present": true,
   "autoclose": false,
   "autocomplete": true,
   "bibliofile": "biblio.bib",
   "cite_by": "apalike",
   "current_citInitial": 1,
   "eqLabelWithNumbers": true,
   "eqNumInitial": 1,
   "hotkeys": {
    "equation": "Ctrl-E",
    "itemize": "Ctrl-I"
   },
   "labels_anchors": false,
   "latex_user_defs": false,
   "report_style_numbering": false,
   "user_envs_cfg": false
  },
  "toc": {
   "base_numbering": 1,
   "nav_menu": {},
   "number_sections": false,
   "sideBar": true,
   "skip_h1_title": false,
   "title_cell": "Table of Contents",
   "title_sidebar": "Contents",
   "toc_cell": false,
   "toc_position": {},
   "toc_section_display": true,
   "toc_window_display": false
  },
  "varInspector": {
   "cols": {
    "lenName": 16,
    "lenType": 16,
    "lenVar": 40
   },
   "kernels_config": {
    "python": {
     "delete_cmd_postfix": "",
     "delete_cmd_prefix": "del ",
     "library": "var_list.py",
     "varRefreshCmd": "print(var_dic_list())"
    },
    "r": {
     "delete_cmd_postfix": ") ",
     "delete_cmd_prefix": "rm(",
     "library": "var_list.r",
     "varRefreshCmd": "cat(var_dic_list()) "
    }
   },
   "types_to_exclude": [
    "module",
    "function",
    "builtin_function_or_method",
    "instance",
    "_Feature"
   ],
   "window_display": false
  }
 },
 "nbformat": 4,
 "nbformat_minor": 5
}
