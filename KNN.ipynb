{
  "nbformat": 4,
  "nbformat_minor": 0,
  "metadata": {
    "colab": {
      "name": "0214(ML day1).ipynb",
      "provenance": []
    },
    "kernelspec": {
      "name": "python3",
      "display_name": "Python 3"
    },
    "language_info": {
      "name": "python"
    }
  },
  "cells": [
    {
      "cell_type": "markdown",
      "source": [
        "# KNN (K-Nearest Neighbor)\n",
        "\n",
        "- Classification model\n",
        "- 어떤 data가 주어지면 K개의 최근접 이웃을 찾고 ***다수결***을 통해 레이블 예측\n",
        "- 최근접 이웃은 ***거리 측정***을 통해 찾음 (data ***표준화*** 필요)\n",
        "  - minkowski 거리 (p=1 맨해튼, p=2 유클리디안)\n",
        "- ***lazy learner*** : it doesn’t learn a discriminative function from the training data but “memorizes” the training dataset instead.\n",
        "- ***Curse of dimensionality***\n",
        "- 동점인 경우 가장가까운 이웃을 예측으로 선택, 거리도 같다면 datasets에서 먼저 나타난 샘플의 label 선택"
      ],
      "metadata": {
        "id": "Ic6-gSGvRjlc"
      }
    },
    {
      "cell_type": "markdown",
      "source": [
        "## Implementation"
      ],
      "metadata": {
        "id": "dWMFD8IKV8Z3"
      }
    },
    {
      "cell_type": "code",
      "execution_count": 2,
      "metadata": {
        "id": "J1XSwKhItZiI"
      },
      "outputs": [],
      "source": [
        "# 라이브러리 import\n",
        "import numpy as np\n",
        "import pandas as pd\n",
        "import matplotlib.pyplot as plt\n",
        "from sklearn.datasets import load_iris\n",
        "from sklearn.model_selection import train_test_split\n",
        "from sklearn.neighbors import KNeighborsClassifier"
      ]
    },
    {
      "cell_type": "code",
      "source": [
        "# iris data 불러오기\n",
        "iris = load_iris()\n",
        "\n",
        "# train data와 test data로 구별\n",
        "x_train = iris['data'][:-1]\n",
        "y_train = iris['target'][:-1]\n",
        "x_test = iris['data'][-1:]    # iris data의 제일 마지막 sample을 예측하겠음\n",
        "\n",
        "K = 5\n",
        "# KNN 모델 생성\n",
        "knn = KNeighborsClassifier(n_neighbors=K)   # default값은 K=5, p=2, metric=minkowski,\n",
        "knn.fit(x_train, y_train)                   \n",
        "\n",
        "# test data의 target 추정\n",
        "y_pred = knn.predict(x_test)\n",
        "print('prediction: ', y_pred[0])\n",
        "print('label:', iris['target'][-1])\n",
        "\n",
        "\n",
        "# optimal K: K 값을 조절하면서 optimal K을 찾는 과정도 필요\n",
        "# weighted KNN: weights= 'uniform'(각각 이웃들이 동일한 가중치), 'distance'(거리가 가까울 수록 큰 가중치)"
      ],
      "metadata": {
        "colab": {
          "base_uri": "https://localhost:8080/"
        },
        "id": "Jkc3I3wIfPI9",
        "outputId": "f8915e01-9f22-4690-dff5-60cb16e1c2cc"
      },
      "execution_count": 10,
      "outputs": [
        {
          "output_type": "stream",
          "name": "stdout",
          "text": [
            "prediction:  2\n",
            "label: 2\n"
          ]
        }
      ]
    },
    {
      "cell_type": "code",
      "source": [
        "# KNN 직접 구현\n",
        "\n",
        "# iris data 불러오기\n",
        "iris = load_iris()\n",
        "\n",
        "# train data와 test data로 구별\n",
        "x_train = iris['data'][:-1]\n",
        "y_train = iris['target'][:-1]\n",
        "x_test = iris['data'][-1:]    # iris data의 제일 마지막 sample을 예측하겠음\n",
        "\n",
        "# train data와 test data의 거리 계산\n",
        "distance = np.sqrt(((x_train - x_test)**2).sum(axis=1))\n",
        "\n",
        "# dataframe으로 저장\n",
        "df = pd.DataFrame(data=np.c_[distance, y_train], columns= ['distance', 'target'])\n",
        "\n",
        "# distance를 오름차순으로 정렬\n",
        "df.sort_values(by='distance', inplace=True)  # inplace=True 원본 df를 변경해주겠다\n",
        "\n",
        "# distance가 큰 상위 K개를 선택하고, target의 majority를 찾는다\n",
        "K = 10\n",
        "candidate = df[:K]['target'].to_numpy().astype('int')\n",
        "counts = np.bincount(candidate)\n",
        "majority = np.argmax(counts)\n",
        "print(candidate)\n",
        "print(counts)\n",
        "print('prediction:', majority)\n",
        "\n",
        "# 정답과 비교\n",
        "print('real:',iris['target'][-1])"
      ],
      "metadata": {
        "colab": {
          "base_uri": "https://localhost:8080/"
        },
        "id": "dm5dJRnz4xnk",
        "outputId": "1a9e8f89-2414-4f6b-935a-5dc93e115f85"
      },
      "execution_count": 17,
      "outputs": [
        {
          "output_type": "stream",
          "name": "stdout",
          "text": [
            "[2 2 2 2 1 1 2 2 2 2]\n",
            "[0 2 8]\n",
            "prediction: 2\n",
            "real: 2\n"
          ]
        }
      ]
    },
    {
      "cell_type": "code",
      "source": [
        "# KNN Regression 모델\n",
        "import numpy as np\n",
        "import matplotlib.pyplot as plt\n",
        "from sklearn.datasets import load_iris\n",
        "from sklearn.neighbors import KNeighborsRegressor\n",
        "\n",
        "# KNN regressor 생성\n",
        "knn = KNeighborsRegressor(n_neighbors=5, weights='distance')\n",
        "knn.fit(x_train, y_train)\n",
        "\n",
        "y_pred = knn.predict(x_test)\n",
        "print(y_pred)\n",
        "\n",
        "# 1.821\n",
        "# Regression 모델은 연속적인 값을 예측"
      ],
      "metadata": {
        "id": "VkS_c3d8jvAk",
        "colab": {
          "base_uri": "https://localhost:8080/"
        },
        "outputId": "34ccad9e-3e56-490b-a2d7-ac9a0930f743"
      },
      "execution_count": 19,
      "outputs": [
        {
          "output_type": "stream",
          "name": "stdout",
          "text": [
            "[1.82108222]\n"
          ]
        }
      ]
    },
    {
      "cell_type": "code",
      "source": [
        ""
      ],
      "metadata": {
        "id": "3TMurEp4jY67"
      },
      "execution_count": null,
      "outputs": []
    }
  ]
}