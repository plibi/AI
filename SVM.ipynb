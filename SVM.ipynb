{
  "nbformat": 4,
  "nbformat_minor": 0,
  "metadata": {
    "colab": {
      "name": "SVM.ipynb",
      "provenance": [],
      "collapsed_sections": []
    },
    "kernelspec": {
      "name": "python3",
      "display_name": "Python 3"
    },
    "language_info": {
      "name": "python"
    }
  },
  "cells": [
    {
      "cell_type": "markdown",
      "source": [
        "## SVM (Support Vector Machine)"
      ],
      "metadata": {
        "id": "O3jCu0F67F1o"
      }
    },
    {
      "cell_type": "code",
      "source": [
        "# mglearn: 시각화도구\n",
        "!pip install mglearn"
      ],
      "metadata": {
        "id": "9xW3ZCvmBnAf"
      },
      "execution_count": null,
      "outputs": []
    },
    {
      "cell_type": "code",
      "source": [
        "import pandas as pd\n",
        "import numpy as np\n",
        "from sklearn.svm import SVC     # SVM import\n",
        "from sklearn.datasets import load_iris\n",
        "from sklearn.model_selection import train_test_split\n",
        "import mglearn"
      ],
      "metadata": {
        "id": "AiJf14AV1zke"
      },
      "execution_count": null,
      "outputs": []
    },
    {
      "cell_type": "code",
      "source": [
        "# Iris 데이터 로드\n",
        "iris = load_iris()\n",
        "\n",
        "# 시각화를 위해 sepal length와 sepal width만 사용\n",
        "x = iris.data[:, [2, 3]] # colume 0과 1만 사용함.\n",
        "y = iris.target\n",
        "\n",
        "df = pd.DataFrame(data= np.c_[x, y], columns= ['x', 'y', 'target'])\n",
        "\n",
        "plt.scatter(df[df['target'] == 0.0]['x'], df[df['target'] == 0.0]['y'], marker='o', c='blue')\n",
        "plt.scatter(df[df['target'] == 1.0]['x'], df[df['target'] == 1.0]['y'], marker='x', c='red')\n",
        "plt.scatter(df[df['target'] == 2.0]['x'], df[df['target'] == 2.0]['y'], marker='v', c='green')\n",
        "plt.show()"
      ],
      "metadata": {
        "colab": {
          "base_uri": "https://localhost:8080/",
          "height": 265
        },
        "id": "hVm83NpYmu55",
        "outputId": "4d5ec08e-cb18-42d9-d7fa-1a1a25c83f3b"
      },
      "execution_count": null,
      "outputs": [
        {
          "output_type": "display_data",
          "data": {
            "text/plain": [
              "<Figure size 432x288 with 1 Axes>"
            ],
            "image/png": "[encoded data removed]"
          },
          "metadata": {
            "needs_background": "light"
          }
        }
      ]
    },
    {
      "cell_type": "code",
      "source": [
        "# 데이터 분리\n",
        "x_train, x_test, y_train, y_test = train_test_split(x, y, test_size = 0.2)\n",
        "\n",
        "# SVM으로 Train 데이터 세트를 학습\n",
        "model = SVC(kernel='rbf', gamma=0.2, C=1.0)\n",
        "model.fit(x_train, y_train)\n",
        "\n",
        "# Test 세트의 Feature에 대한 class를 추정하고, 정확도를 계산한다\n",
        "print()\n",
        "print(\"* 학습용 데이터로 측정한 정확도 = %.2f\" % model.score(x_train, y_train))\n",
        "print(\"* 시험용 데이터로 측정한 정확도 = %.2f\" % model.score(x_test, y_test))\n",
        "\n",
        "# 시각화\n",
        "plt.figure(figsize=[7,7])\n",
        "mglearn.plots.plot_2d_classification(model, x_train, alpha=0.3)\n",
        "mglearn.discrete_scatter(x_train[:,0], x_train[:,1], y_train)\n",
        "plt.legend(iris.target_names)\n",
        "plt.xlabel('sepal length')\n",
        "plt.ylabel('sepal width')\n",
        "plt.show()"
      ],
      "metadata": {
        "colab": {
          "base_uri": "https://localhost:8080/",
          "height": 479
        },
        "id": "lM943vKxmxcQ",
        "outputId": "b7cb039b-a602-406c-aac4-51dbab7b32d1"
      },
      "execution_count": null,
      "outputs": [
        {
          "output_type": "stream",
          "name": "stdout",
          "text": [
            "\n",
            "* 학습용 데이터로 측정한 정확도 = 0.95\n",
            "* 시험용 데이터로 측정한 정확도 = 0.97\n"
          ]
        },
        {
          "output_type": "display_data",
          "data": {
            "text/plain": [
              "<Figure size 504x504 with 1 Axes>"
            ],
            "image/png": "[encoded data removed]"
          },
          "metadata": {}
        }
      ]
    },
    {
      "cell_type": "code",
      "source": [
        "# gamma와 C의 조합을 바꿔가면서 학습 데이터의 정확도가 최대인 조합을 찾는다\n",
        "optAcc = -999\n",
        "optG = 0\n",
        "optC = 0\n",
        "for gamma in np.arange(0.1, 5.0, 0.1):\n",
        "    for c in np.arange(0.1, 5.0, 0.1):\n",
        "        model = SVC(kernel='rbf', gamma=gamma, C=c)\n",
        "        model.fit(x_train, y_train)\n",
        "        acc = model.score(x_test, y_test)\n",
        "        \n",
        "        if acc > optAcc:\n",
        "            optG = gamma\n",
        "            optC = c\n",
        "            optAcc = acc\n",
        "\n",
        "print('optG = %.2f' % optG)\n",
        "print('optC = %.2f' % optC)\n",
        "print('optAcc = %.2f' % optAcc)"
      ],
      "metadata": {
        "colab": {
          "base_uri": "https://localhost:8080/"
        },
        "id": "3SM_1WEPm_2_",
        "outputId": "7a92ccb0-3fa3-432f-c4d2-0a3595576511"
      },
      "execution_count": null,
      "outputs": [
        {
          "output_type": "stream",
          "name": "stdout",
          "text": [
            "optG = 0.10\n",
            "optC = 3.10\n",
            "optAcc = 1.00\n"
          ]
        }
      ]
    },
    {
      "cell_type": "code",
      "source": [
        "# 최적 조건으로 다시 학습한다.\n",
        "model = SVC(kernel='rbf', gamma=optG, C=optC)\n",
        "model.fit(x_train, y_train)\n",
        "\n",
        "# Test 세트의 Feature에 대한 class를 추정하고, 정확도를 계산한다\n",
        "print()\n",
        "print(\"* 학습용 데이터로 측정한 정확도 = %.2f\" % model.score(x_train, y_train))\n",
        "print(\"* 시험용 데이터로 측정한 정확도 = %.2f\" % model.score(x_test, y_test))\n",
        "\n",
        "# 시각화\n",
        "plt.figure(figsize=[7,7])\n",
        "mglearn.plots.plot_2d_classification(model, x_train, alpha=0.3)\n",
        "mglearn.discrete_scatter(x_train[:,0], x_train[:,1], y_train)\n",
        "plt.legend(iris.target_names)\n",
        "plt.xlabel('sepal length')\n",
        "plt.ylabel('sepal width')\n",
        "plt.show()"
      ],
      "metadata": {
        "id": "1eLaNPOAB4_m",
        "colab": {
          "base_uri": "https://localhost:8080/",
          "height": 479
        },
        "outputId": "566fd631-fd1c-44e3-d990-f0bca5e0f7c1"
      },
      "execution_count": null,
      "outputs": [
        {
          "output_type": "stream",
          "name": "stdout",
          "text": [
            "\n",
            "* 학습용 데이터로 측정한 정확도 = 0.96\n",
            "* 시험용 데이터로 측정한 정확도 = 1.00\n"
          ]
        },
        {
          "output_type": "display_data",
          "data": {
            "text/plain": [
              "<Figure size 504x504 with 1 Axes>"
            ],
            "image/png": "[encoded data removed]"
          },
          "metadata": {}
        }
      ]
    },
    {
      "cell_type": "markdown",
      "source": [
        "## SVR with California Housing Price Dataset"
      ],
      "metadata": {
        "id": "KdsPLRoenEHu"
      }
    },
    {
      "cell_type": "code",
      "source": [
        "# 이번에는 Regression 문제를 해결해보자 => SVR, DT regressor 비교\n",
        "# 기존에 이용했던 Boston Housing dataset은 ethical problem이 있다고 하여\n",
        "# California Housing Dataset으로 대체\n",
        "from sklearn.datasets import fetch_california_housing\n",
        "housing = fetch_california_housing()\n",
        "\n",
        "import numpy as np\n",
        "import pandas as pd\n",
        "import matplotlib.pyplot as plt\n",
        "from sklearn.model_selection import train_test_split\n",
        "from sklearn.svm import SVR"
      ],
      "metadata": {
        "id": "9MY9GSJFUyRL"
      },
      "execution_count": null,
      "outputs": []
    },
    {
      "cell_type": "code",
      "source": [
        "housing.data.shape, housing.target.shape"
      ],
      "metadata": {
        "colab": {
          "base_uri": "https://localhost:8080/"
        },
        "id": "d0IjmQUznSvg",
        "outputId": "25c771d6-93b6-4a60-cf04-0d00c3b827ed"
      },
      "execution_count": null,
      "outputs": [
        {
          "output_type": "execute_result",
          "data": {
            "text/plain": [
              "((20640, 8), (20640,))"
            ]
          },
          "metadata": {},
          "execution_count": 21
        }
      ]
    },
    {
      "cell_type": "code",
      "source": [
        "df = pd.DataFrame(housing.data, columns=housing.feature_names)  # housing.data == housing['data']\n",
        "df['Price'] = housing.target\n",
        "df.head()   # 총 20640개의 데이터"
      ],
      "metadata": {
        "colab": {
          "base_uri": "https://localhost:8080/",
          "height": 206
        },
        "id": "R5FwaGAwngFA",
        "outputId": "f6b8bdb5-9709-4a15-b26e-71eecb360c15"
      },
      "execution_count": null,
      "outputs": [
        {
          "output_type": "execute_result",
          "data": {
            "text/plain": [
              "   MedInc  HouseAge  AveRooms  AveBedrms  Population  AveOccup  Latitude  \\\n",
              "0  8.3252      41.0  6.984127   1.023810       322.0  2.555556     37.88   \n",
              "1  8.3014      21.0  6.238137   0.971880      2401.0  2.109842     37.86   \n",
              "2  7.2574      52.0  8.288136   1.073446       496.0  2.802260     37.85   \n",
              "3  5.6431      52.0  5.817352   1.073059       558.0  2.547945     37.85   \n",
              "4  3.8462      52.0  6.281853   1.081081       565.0  2.181467     37.85   \n",
              "\n",
              "   Longitude  Price  \n",
              "0    -122.23  4.526  \n",
              "1    -122.22  3.585  \n",
              "2    -122.24  3.521  \n",
              "3    -122.25  3.413  \n",
              "4    -122.25  3.422  "
            ],
            "text/html": [
              "\n",
              "  <div id=\"df-73238f05-f386-4a82-bf2c-c2b226890f98\">\n",
              "    <div class=\"colab-df-container\">\n",
              "      <div>\n",
              "<style scoped>\n",
              "    .dataframe tbody tr th:only-of-type {\n",
              "        vertical-align: middle;\n",
              "    }\n",
              "\n",
              "    .dataframe tbody tr th {\n",
              "        vertical-align: top;\n",
              "    }\n",
              "\n",
              "    .dataframe thead th {\n",
              "        text-align: right;\n",
              "    }\n",
              "</style>\n",
              "<table border=\"1\" class=\"dataframe\">\n",
              "  <thead>\n",
              "    <tr style=\"text-align: right;\">\n",
              "      <th></th>\n",
              "      <th>MedInc</th>\n",
              "      <th>HouseAge</th>\n",
              "      <th>AveRooms</th>\n",
              "      <th>AveBedrms</th>\n",
              "      <th>Population</th>\n",
              "      <th>AveOccup</th>\n",
              "      <th>Latitude</th>\n",
              "      <th>Longitude</th>\n",
              "      <th>Price</th>\n",
              "    </tr>\n",
              "  </thead>\n",
              "  <tbody>\n",
              "    <tr>\n",
              "      <th>0</th>\n",
              "      <td>8.3252</td>\n",
              "      <td>41.0</td>\n",
              "      <td>6.984127</td>\n",
              "      <td>1.023810</td>\n",
              "      <td>322.0</td>\n",
              "      <td>2.555556</td>\n",
              "      <td>37.88</td>\n",
              "      <td>-122.23</td>\n",
              "      <td>4.526</td>\n",
              "    </tr>\n",
              "    <tr>\n",
              "      <th>1</th>\n",
              "      <td>8.3014</td>\n",
              "      <td>21.0</td>\n",
              "      <td>6.238137</td>\n",
              "      <td>0.971880</td>\n",
              "      <td>2401.0</td>\n",
              "      <td>2.109842</td>\n",
              "      <td>37.86</td>\n",
              "      <td>-122.22</td>\n",
              "      <td>3.585</td>\n",
              "    </tr>\n",
              "    <tr>\n",
              "      <th>2</th>\n",
              "      <td>7.2574</td>\n",
              "      <td>52.0</td>\n",
              "      <td>8.288136</td>\n",
              "      <td>1.073446</td>\n",
              "      <td>496.0</td>\n",
              "      <td>2.802260</td>\n",
              "      <td>37.85</td>\n",
              "      <td>-122.24</td>\n",
              "      <td>3.521</td>\n",
              "    </tr>\n",
              "    <tr>\n",
              "      <th>3</th>\n",
              "      <td>5.6431</td>\n",
              "      <td>52.0</td>\n",
              "      <td>5.817352</td>\n",
              "      <td>1.073059</td>\n",
              "      <td>558.0</td>\n",
              "      <td>2.547945</td>\n",
              "      <td>37.85</td>\n",
              "      <td>-122.25</td>\n",
              "      <td>3.413</td>\n",
              "    </tr>\n",
              "    <tr>\n",
              "      <th>4</th>\n",
              "      <td>3.8462</td>\n",
              "      <td>52.0</td>\n",
              "      <td>6.281853</td>\n",
              "      <td>1.081081</td>\n",
              "      <td>565.0</td>\n",
              "      <td>2.181467</td>\n",
              "      <td>37.85</td>\n",
              "      <td>-122.25</td>\n",
              "      <td>3.422</td>\n",
              "    </tr>\n",
              "  </tbody>\n",
              "</table>\n",
              "</div>\n",
              "      <button class=\"colab-df-convert\" onclick=\"convertToInteractive('df-73238f05-f386-4a82-bf2c-c2b226890f98')\"\n",
              "              title=\"Convert this dataframe to an interactive table.\"\n",
              "              style=\"display:none;\">\n",
              "        \n",
              "  <svg xmlns=\"http://www.w3.org/2000/svg\" height=\"24px\"viewBox=\"0 0 24 24\"\n",
              "       width=\"24px\">\n",
              "    <path d=\"M0 0h24v24H0V0z\" fill=\"none\"/>\n",
              "    <path d=\"M18.56 5.44l.94 2.06.94-2.06 2.06-.94-2.06-.94-.94-2.06-.94 2.06-2.06.94zm-11 1L8.5 8.5l.94-2.06 2.06-.94-2.06-.94L8.5 2.5l-.94 2.06-2.06.94zm10 10l.94 2.06.94-2.06 2.06-.94-2.06-.94-.94-2.06-.94 2.06-2.06.94z\"/><path d=\"M17.41 7.96l-1.37-1.37c-.4-.4-.92-.59-1.43-.59-.52 0-1.04.2-1.43.59L10.3 9.45l-7.72 7.72c-.78.78-.78 2.05 0 2.83L4 21.41c.39.39.9.59 1.41.59.51 0 1.02-.2 1.41-.59l7.78-7.78 2.81-2.81c.8-.78.8-2.07 0-2.86zM5.41 20L4 18.59l7.72-7.72 1.47 1.35L5.41 20z\"/>\n",
              "  </svg>\n",
              "      </button>\n",
              "      \n",
              "  <style>\n",
              "    .colab-df-container {\n",
              "      display:flex;\n",
              "      flex-wrap:wrap;\n",
              "      gap: 12px;\n",
              "    }\n",
              "\n",
              "    .colab-df-convert {\n",
              "      background-color: #E8F0FE;\n",
              "      border: none;\n",
              "      border-radius: 50%;\n",
              "      cursor: pointer;\n",
              "      display: none;\n",
              "      fill: #1967D2;\n",
              "      height: 32px;\n",
              "      padding: 0 0 0 0;\n",
              "      width: 32px;\n",
              "    }\n",
              "\n",
              "    .colab-df-convert:hover {\n",
              "      background-color: #E2EBFA;\n",
              "      box-shadow: 0px 1px 2px rgba(60, 64, 67, 0.3), 0px 1px 3px 1px rgba(60, 64, 67, 0.15);\n",
              "      fill: #174EA6;\n",
              "    }\n",
              "\n",
              "    [theme=dark] .colab-df-convert {\n",
              "      background-color: #3B4455;\n",
              "      fill: #D2E3FC;\n",
              "    }\n",
              "\n",
              "    [theme=dark] .colab-df-convert:hover {\n",
              "      background-color: #434B5C;\n",
              "      box-shadow: 0px 1px 3px 1px rgba(0, 0, 0, 0.15);\n",
              "      filter: drop-shadow(0px 1px 2px rgba(0, 0, 0, 0.3));\n",
              "      fill: #FFFFFF;\n",
              "    }\n",
              "  </style>\n",
              "\n",
              "      <script>\n",
              "        const buttonEl =\n",
              "          document.querySelector('#df-73238f05-f386-4a82-bf2c-c2b226890f98 button.colab-df-convert');\n",
              "        buttonEl.style.display =\n",
              "          google.colab.kernel.accessAllowed ? 'block' : 'none';\n",
              "\n",
              "        async function convertToInteractive(key) {\n",
              "          const element = document.querySelector('#df-73238f05-f386-4a82-bf2c-c2b226890f98');\n",
              "          const dataTable =\n",
              "            await google.colab.kernel.invokeFunction('convertToInteractive',\n",
              "                                                     [key], {});\n",
              "          if (!dataTable) return;\n",
              "\n",
              "          const docLinkHtml = 'Like what you see? Visit the ' +\n",
              "            '<a target=\"_blank\" href=https://colab.research.google.com/notebooks/data_table.ipynb>data table notebook</a>'\n",
              "            + ' to learn more about interactive tables.';\n",
              "          element.innerHTML = '';\n",
              "          dataTable['output_type'] = 'display_data';\n",
              "          await google.colab.output.renderOutput(dataTable, element);\n",
              "          const docLink = document.createElement('div');\n",
              "          docLink.innerHTML = docLinkHtml;\n",
              "          element.appendChild(docLink);\n",
              "        }\n",
              "      </script>\n",
              "    </div>\n",
              "  </div>\n",
              "  "
            ]
          },
          "metadata": {},
          "execution_count": 28
        }
      ]
    },
    {
      "cell_type": "code",
      "source": [
        "# 데이터 분리\n",
        "x_train, x_test, y_train, y_test = train_test_split(housing.data, housing.target, test_size=0.2)\n",
        "x_train.shape, y_train.shape, x_test.shape, y_test.shape\n",
        "\n",
        "# => 원래 모델 검증을 위해 validation 데이터를 사용함\n",
        "# test 데이터는 일반화 성능을 검증하기 위해 사용하는 데이터"
      ],
      "metadata": {
        "colab": {
          "base_uri": "https://localhost:8080/"
        },
        "id": "4nDVogm-peZY",
        "outputId": "8a589442-4180-406e-d641-012cfd82910a"
      },
      "execution_count": null,
      "outputs": [
        {
          "output_type": "execute_result",
          "data": {
            "text/plain": [
              "((16512, 8), (16512,), (4128, 8), (4128,))"
            ]
          },
          "metadata": {},
          "execution_count": 29
        }
      ]
    },
    {
      "cell_type": "code",
      "source": [
        "# DT regressor\n",
        "max_depth = 20\n",
        "DT = []\n",
        "for i in range(1, max_depth+1):\n",
        "    dt = DecisionTreeRegressor(max_depth=i)\n",
        "    dt.fit(x_train, y_train)\n",
        "    DT.append(dt.score(x_test, y_test))\n",
        "\n",
        "# 최적의 depth\n",
        "opt_depth = np.argmax(DT)+1\n",
        "\n",
        "# 최적 depth로 모델링 후 훈련\n",
        "dt = DecisionTreeRegressor(max_depth=opt_depth)\n",
        "dt.fit(x_train, y_train)\n",
        "\n",
        "# Regressor 문제에서 score 함수는 R2값을 리턴 (Classification은 정확도)\n",
        "dt_R2 = dt.score(x_test, y_test)\n",
        "print('Decision Tree Regressor:', dt_R2.round(4))"
      ],
      "metadata": {
        "colab": {
          "base_uri": "https://localhost:8080/"
        },
        "id": "dJ_bqe14rnGW",
        "outputId": "bd05cd2c-ba12-4f3c-9dd0-85eca08f5d5b"
      },
      "execution_count": null,
      "outputs": [
        {
          "output_type": "stream",
          "name": "stdout",
          "text": [
            "Decision Tree Regressor: 0.6943\n"
          ]
        }
      ]
    },
    {
      "cell_type": "code",
      "source": [
        "# SVR model 만들고 최적의 C값 찾기\n",
        "svr_scores = []\n",
        "for i in np.arange(0.1, 5.1, 0.1):  \n",
        "    svr = SVR(kernel='linear', C=i)     # kernel: linear\n",
        "    svr.fit(x_train, y_train)\n",
        "    svr_score = svr.score(x_test, y_test)\n",
        "    svr_scores.append(svr_score)\n",
        "\n",
        "opt_c = (np.argmax(svr_scores)+1) *0.1\n",
        "\n",
        "# 최적 C값으로 모델 만들고 훈련\n",
        "svr = SVR(kernel='linear', C=opt_c)\n",
        "svr.fit(x_train, y_train)\n",
        "\n",
        "# SVR model의 R2 스코어 출력\n",
        "svr_R2 = svr.score(x_test, y_test)\n",
        "print('Support Vector Regressor:', svr_R2.round(4))"
      ],
      "metadata": {
        "colab": {
          "base_uri": "https://localhost:8080/"
        },
        "id": "pa2QfnMbtkOZ",
        "outputId": "53f5a8ad-7289-4e5e-d6ba-a933b29f0762"
      },
      "execution_count": null,
      "outputs": [
        {
          "output_type": "stream",
          "name": "stdout",
          "text": [
            "Support Vector Regressor: 0.5805\n"
          ]
        }
      ]
    },
    {
      "cell_type": "code",
      "source": [
        ""
      ],
      "metadata": {
        "id": "_5zOU2Ut_aMQ"
      },
      "execution_count": null,
      "outputs": []
    }
  ]
}